{
 "cells": [
  {
   "cell_type": "code",
   "execution_count": 5,
   "metadata": {},
   "outputs": [
    {
     "ename": "NameError",
     "evalue": "name 'stock_inst' is not defined",
     "output_type": "error",
     "traceback": [
      "\u001b[1;31m---------------------------------------------------------------------------\u001b[0m",
      "\u001b[1;31mNameError\u001b[0m                                 Traceback (most recent call last)",
      "\u001b[1;32m<ipython-input-5-7444ea36cf5d>\u001b[0m in \u001b[0;36m<module>\u001b[1;34m()\u001b[0m\n\u001b[0;32m      1\u001b[0m \u001b[1;32mfrom\u001b[0m \u001b[0mmy_lib\u001b[0m \u001b[1;32mimport\u001b[0m \u001b[1;33m*\u001b[0m\u001b[1;33m\u001b[0m\u001b[0m\n\u001b[1;32m----> 2\u001b[1;33m \u001b[1;32mfrom\u001b[0m \u001b[0mmy_trader\u001b[0m \u001b[1;32mimport\u001b[0m \u001b[1;33m*\u001b[0m\u001b[1;33m\u001b[0m\u001b[0m\n\u001b[0m",
      "\u001b[1;32mC:\\Users\\gli26\\Documents\\GitHub\\My_Trader\\my_trader.py\u001b[0m in \u001b[0;36m<module>\u001b[1;34m()\u001b[0m\n\u001b[0;32m     53\u001b[0m     \u001b[1;32mreturn\u001b[0m \u001b[0mbetas\u001b[0m\u001b[1;33m,\u001b[0m \u001b[0mcovmat\u001b[0m\u001b[1;33m\u001b[0m\u001b[0m\n\u001b[0;32m     54\u001b[0m \u001b[1;33m\u001b[0m\u001b[0m\n\u001b[1;32m---> 55\u001b[1;33m \u001b[1;32mclass\u001b[0m \u001b[0mget_robinhood\u001b[0m\u001b[1;33m:\u001b[0m\u001b[1;33m\u001b[0m\u001b[0m\n\u001b[0m\u001b[0;32m     56\u001b[0m \u001b[1;33m\u001b[0m\u001b[0m\n\u001b[0;32m     57\u001b[0m         \u001b[0mmy_trader\u001b[0m \u001b[1;33m=\u001b[0m \u001b[0mRobinhood\u001b[0m\u001b[1;33m(\u001b[0m\u001b[1;33m)\u001b[0m\u001b[1;33m\u001b[0m\u001b[0m\n",
      "\u001b[1;32mC:\\Users\\gli26\\Documents\\GitHub\\My_Trader\\my_trader.py\u001b[0m in \u001b[0;36mget_robinhood\u001b[1;34m()\u001b[0m\n\u001b[0;32m    187\u001b[0m         \u001b[1;32mdef\u001b[0m \u001b[0mplace_buy\u001b[0m\u001b[1;33m(\u001b[0m\u001b[0mself\u001b[0m\u001b[1;33m,\u001b[0m \u001b[0mticker\u001b[0m\u001b[1;33m,\u001b[0m\u001b[0mnum\u001b[0m\u001b[1;33m)\u001b[0m\u001b[1;33m:\u001b[0m\u001b[1;33m\u001b[0m\u001b[0m\n\u001b[0;32m    188\u001b[0m             \u001b[0mstock_inst\u001b[0m \u001b[1;33m=\u001b[0m \u001b[0mself\u001b[0m\u001b[1;33m.\u001b[0m\u001b[0mmy_trader\u001b[0m\u001b[1;33m.\u001b[0m\u001b[0minstruments\u001b[0m\u001b[1;33m(\u001b[0m\u001b[0mticker\u001b[0m\u001b[1;33m)\u001b[0m\u001b[1;33m\u001b[0m\u001b[0m\n\u001b[1;32m--> 189\u001b[1;33m         \u001b[1;32mif\u001b[0m \u001b[0mstock_inst\u001b[0m\u001b[1;33m[\u001b[0m\u001b[1;34m\"symbol\"\u001b[0m\u001b[1;33m]\u001b[0m\u001b[1;33m==\u001b[0m\u001b[0mticker\u001b[0m\u001b[1;33m:\u001b[0m\u001b[1;33m\u001b[0m\u001b[0m\n\u001b[0m\u001b[0;32m    190\u001b[0m             \u001b[1;32mprint\u001b[0m \u001b[1;33m(\u001b[0m\u001b[1;34m\"Ticker found in instruments\"\u001b[0m\u001b[1;33m)\u001b[0m\u001b[1;33m\u001b[0m\u001b[0m\n\u001b[0;32m    191\u001b[0m         \u001b[1;32mif\u001b[0m \u001b[0mself\u001b[0m\u001b[1;33m.\u001b[0m\u001b[0mmy_trader\u001b[0m\u001b[1;33m.\u001b[0m\u001b[0mplace_buy_order\u001b[0m\u001b[1;33m(\u001b[0m\u001b[0mstock_inst\u001b[0m\u001b[1;33m,\u001b[0m\u001b[0mnum\u001b[0m\u001b[1;33m)\u001b[0m \u001b[1;33m==\u001b[0m \u001b[1;34m\"<Response [201]>\"\u001b[0m\u001b[1;33m:\u001b[0m\u001b[1;33m\u001b[0m\u001b[0m\n",
      "\u001b[1;31mNameError\u001b[0m: name 'stock_inst' is not defined"
     ]
    }
   ],
   "source": [
    "from my_lib import *\n",
    "from my_trader import *\n"
   ]
  },
  {
   "cell_type": "code",
   "execution_count": 5,
   "metadata": {
    "collapsed": true
   },
   "outputs": [],
   "source": [
    "robinhood = get_robinhood()"
   ]
  },
  {
   "cell_type": "code",
   "execution_count": 6,
   "metadata": {
    "collapsed": true
   },
   "outputs": [],
   "source": [
    "robinhood.login(\"lgyhz123\",\"5093945464lgyhz\")"
   ]
  },
  {
   "cell_type": "code",
   "execution_count": 107,
   "metadata": {},
   "outputs": [
    {
     "name": "stdout",
     "output_type": "stream",
     "text": [
      "UVXY 10.0000\n",
      "ZNGA 1.0000\n",
      "WCN 1.0000\n",
      "AGFS 1.0000\n",
      "AZN 1.0000\n",
      "TAHO 1.0000\n",
      "RRGB 1.0000\n",
      "SPY 5.0000\n",
      "IEP 1.0000\n",
      "ESRX 4.0000\n",
      "AIMC 2.0000\n",
      "OSG 1.0000\n",
      "ROYT 2.0000\n"
     ]
    }
   ],
   "source": [
    "tickers, quantity = robinhood.get_my_positions()"
   ]
  },
  {
   "cell_type": "code",
   "execution_count": 105,
   "metadata": {
    "collapsed": true
   },
   "outputs": [],
   "source": [
    "def plot_position(tickers, quantity):\n",
    "    temp = da.DataReader(tickers[0],\"yahoo\",datetime.now()-timedelta(days=90),datetime.now())\n",
    "    data = pd.DataFrame(index=temp.index)\n",
    "    temp = temp.rename(columns={\"Adj Close\":str(tickers[0]) + \"_Close\"})\n",
    "    temp = temp.rename(columns={\"High\":str(tickers[0]) + \"_High\"})\n",
    "    temp = temp.rename(columns={\"Low\":str(tickers[0]) + \"_Low\"})\n",
    "    data = pd.concat([data,temp[[str(tickers[0]) + \"_Close\",str(tickers[0]) + \"_High\",str(tickers[0]) + \"_Low\"]]], axis=1)\n",
    "    for i in tickers[1:]:\n",
    "        temp = da.DataReader(i,\"yahoo\",datetime.now()-timedelta(days=90),datetime.now())\n",
    "        temp = temp.rename(columns={\"Adj Close\":str(i) + \"_Close\"})\n",
    "        temp = temp.rename(columns={\"High\":str(i) + \"_High\"})\n",
    "        temp = temp.rename(columns={\"Low\":str(i) + \"_Low\"})\n",
    "        data = pd.concat([data,temp[[str(i) + \"_Close\",str(i) + \"_High\",str(i) + \"_Low\"]]], axis=1)\n",
    "    data_weighted = pd.DataFrame(index = data.index)\n",
    "    for i, j in zip(data.columns,range(len(data)*3)):\n",
    "        j = j % 3\n",
    "        data_weighted = pd.concat([data_weighted,data[i] * quantity[j]],axis=1)\n",
    "    data_weighted[\"Sum_Close\"] = data_weighted.filter(regex=\"Close\").sum(axis=1)\n",
    "    data_weighted[\"Sum_High\"] = data_weighted.filter(regex=\"High\").sum(axis=1)\n",
    "    data_weighted[\"Sum_Low\"] = data_weighted.filter(regex=\"Low\").sum(axis=1)\n",
    "    data_weighted[\"Sum_Close_MA_F\"] = data_weighted.Sum_Close.rolling(5).mean()\n",
    "    data_weighted[\"Sum_Close_MA_S\"] = data_weighted.Sum_Close.rolling(20).mean()\n",
    "\n",
    "    data_weighted[\"STOCH_slowk\"], data_weighted[\"STOCH_slowd\"] = ta.STOCHF(data_weighted[\"Sum_High\"].values, data_weighted[\"Sum_Low\"].values, data_weighted[\"Sum_Close\"].values, fastk_period=5, fastd_period=3, fastd_matype=0)\n",
    "    plt.figure(1,figsize = (18,18))\n",
    "    sub = plt.subplot(211)\n",
    "    data_weighted.Sum_Close.plot()\n",
    "    data_weighted.Sum_Close_MA_F.plot()\n",
    "    data_weighted.Sum_Close_MA_S.plot()\n",
    "    plt.legend()\n",
    "    plt.subplot(212,sharex=sub)\n",
    "    data_weighted.STOCH_slowd.plot()\n",
    "    data_weighted.STOCH_slowk.plot()\n",
    "\n",
    "    plt.show()"
   ]
  },
  {
   "cell_type": "code",
   "execution_count": 112,
   "metadata": {},
   "outputs": [
    {
     "data": {
      "text/plain": [
       "([u'UVXY',\n",
       "  u'ZNGA',\n",
       "  u'WCN',\n",
       "  u'AGFS',\n",
       "  u'AZN',\n",
       "  u'TAHO',\n",
       "  u'RRGB',\n",
       "  u'SPY',\n",
       "  u'IEP',\n",
       "  u'ESRX',\n",
       "  u'AIMC',\n",
       "  u'OSG',\n",
       "  u'ROYT'],\n",
       " [10.0, 1.0, 1.0, 1.0, 1.0, 1.0, 1.0, 5.0, 1.0, 4.0, 2.0, 1.0, 2.0])"
      ]
     },
     "execution_count": 112,
     "metadata": {},
     "output_type": "execute_result"
    }
   ],
   "source": [
    "(tickers, quantity)"
   ]
  },
  {
   "cell_type": "code",
   "execution_count": 2,
   "metadata": {},
   "outputs": [
    {
     "name": "stdout",
     "output_type": "stream",
     "text": [
      "Get suggestion succeed!\n",
      "943.4600\n",
      "Ticker found in instruments\n",
      "Trade Fail: JPM\n",
      "Trade Fail: JPM\n"
     ]
    },
    {
     "ename": "KeyboardInterrupt",
     "evalue": "",
     "output_type": "error",
     "traceback": [
      "\u001b[1;31m---------------------------------------------------------------------------\u001b[0m",
      "\u001b[1;31mKeyboardInterrupt\u001b[0m                         Traceback (most recent call last)",
      "\u001b[1;32m<ipython-input-2-cc198e378c50>\u001b[0m in \u001b[0;36m<module>\u001b[1;34m()\u001b[0m\n\u001b[0;32m     11\u001b[0m \u001b[1;32mif\u001b[0m \u001b[0mmy_stock\u001b[0m\u001b[1;33m[\u001b[0m\u001b[1;34m\"Close\"\u001b[0m\u001b[1;33m]\u001b[0m\u001b[1;33m.\u001b[0m\u001b[0msum\u001b[0m\u001b[1;33m(\u001b[0m\u001b[1;33m)\u001b[0m \u001b[1;33m<\u001b[0m \u001b[0mpower\u001b[0m\u001b[1;33m:\u001b[0m\u001b[1;33m\u001b[0m\u001b[0m\n\u001b[0;32m     12\u001b[0m     \u001b[1;32mfor\u001b[0m \u001b[0mi\u001b[0m \u001b[1;32min\u001b[0m \u001b[0mmy_stock\u001b[0m\u001b[1;33m.\u001b[0m\u001b[0mTicker\u001b[0m\u001b[1;33m:\u001b[0m\u001b[1;33m\u001b[0m\u001b[0m\n\u001b[1;32m---> 13\u001b[1;33m         \u001b[0mrobinhood\u001b[0m\u001b[1;33m.\u001b[0m\u001b[0mplace_buy\u001b[0m\u001b[1;33m(\u001b[0m\u001b[0mi\u001b[0m\u001b[1;33m,\u001b[0m\u001b[1;36m1\u001b[0m\u001b[1;33m)\u001b[0m\u001b[1;33m\u001b[0m\u001b[0m\n\u001b[0m\u001b[0;32m     14\u001b[0m     \u001b[0mtickers\u001b[0m \u001b[1;33m,\u001b[0m \u001b[0mquantity\u001b[0m \u001b[1;33m=\u001b[0m \u001b[0mrobinhood\u001b[0m\u001b[1;33m.\u001b[0m\u001b[0mget_my_positions\u001b[0m\u001b[1;33m(\u001b[0m\u001b[1;33m)\u001b[0m\u001b[1;33m\u001b[0m\u001b[0m\n\u001b[0;32m     15\u001b[0m     \u001b[0mrobinhood\u001b[0m\u001b[1;33m.\u001b[0m\u001b[0mget_my_position_beta\u001b[0m\u001b[1;33m(\u001b[0m\u001b[1;33m)\u001b[0m\u001b[1;33m\u001b[0m\u001b[0m\n",
      "\u001b[1;32mC:\\Users\\gli26\\Documents\\GitHub\\My_Trader\\my_trader.py\u001b[0m in \u001b[0;36mplace_buy\u001b[1;34m(self, ticker, num)\u001b[0m\n\u001b[0;32m    194\u001b[0m                 \u001b[1;32melse\u001b[0m\u001b[1;33m:\u001b[0m\u001b[1;33m\u001b[0m\u001b[0m\n\u001b[0;32m    195\u001b[0m                     \u001b[1;32mprint\u001b[0m \u001b[1;33m(\u001b[0m\u001b[1;34m\"Trade Fail: \"\u001b[0m \u001b[1;33m+\u001b[0m \u001b[0mticker\u001b[0m\u001b[1;33m)\u001b[0m\u001b[1;33m\u001b[0m\u001b[0m\n\u001b[1;32m--> 196\u001b[1;33m                 \u001b[0mtime\u001b[0m\u001b[1;33m.\u001b[0m\u001b[0msleep\u001b[0m\u001b[1;33m(\u001b[0m\u001b[1;36m10\u001b[0m\u001b[1;33m)\u001b[0m\u001b[1;33m\u001b[0m\u001b[0m\n\u001b[0m\u001b[0;32m    197\u001b[0m         \u001b[1;32mdef\u001b[0m \u001b[0mplace_sell\u001b[0m\u001b[1;33m(\u001b[0m\u001b[0mself\u001b[0m\u001b[1;33m,\u001b[0m \u001b[0mticker\u001b[0m\u001b[1;33m,\u001b[0m\u001b[0mnum\u001b[0m\u001b[1;33m)\u001b[0m\u001b[1;33m:\u001b[0m\u001b[1;33m\u001b[0m\u001b[0m\n\u001b[0;32m    198\u001b[0m             \u001b[1;32mfor\u001b[0m \u001b[0mi\u001b[0m \u001b[1;32min\u001b[0m \u001b[0mself\u001b[0m\u001b[1;33m.\u001b[0m\u001b[0mmy_trader\u001b[0m\u001b[1;33m.\u001b[0m\u001b[0minstruments\u001b[0m\u001b[1;33m(\u001b[0m\u001b[0mticker\u001b[0m\u001b[1;33m)\u001b[0m\u001b[1;33m:\u001b[0m\u001b[1;33m\u001b[0m\u001b[0m\n",
      "\u001b[1;31mKeyboardInterrupt\u001b[0m: "
     ]
    }
   ],
   "source": [
    "robinhood = get_robinhood()\n",
    "try:\n",
    "    my_stock = pd.read_csv(\"file/Trade_suggestion2018-01-12.csv\")\n",
    "    my_stock = my_stock.rename(columns={\"Unnamed: 0\":\"Ticker\"})\n",
    "    print (\"Get suggestion succeed!\")\n",
    "except:\n",
    "    print (\"Get suggestion fail, stopping\")\n",
    "\n",
    "robinhood.login(\"lgyhz123\",\"5093945464lgyhz\")\n",
    "power = robinhood.get_buying_power()\n",
    "if my_stock[\"Close\"].sum() < power:\n",
    "    for i in my_stock.Ticker:\n",
    "        robinhood.place_buy(i,1)\n",
    "    tickers , quantity = robinhood.get_my_positions()\n",
    "    robinhood.get_my_position_beta()\n",
    "    plot_position(my_stock.Ticker, np.repeat(1,quantity) )\n",
    "else:\n",
    "    print (\"Not enough buying power\")"
   ]
  },
  {
   "cell_type": "code",
   "execution_count": 2,
   "metadata": {},
   "outputs": [
    {
     "ename": "NameError",
     "evalue": "name 'robinhood' is not defined",
     "output_type": "error",
     "traceback": [
      "\u001b[1;31m---------------------------------------------------------------------------\u001b[0m",
      "\u001b[1;31mNameError\u001b[0m                                 Traceback (most recent call last)",
      "\u001b[1;32m<ipython-input-2-a63c9aefd6f3>\u001b[0m in \u001b[0;36m<module>\u001b[1;34m()\u001b[0m\n\u001b[1;32m----> 1\u001b[1;33m \u001b[0mrobinhood\u001b[0m\u001b[1;33m.\u001b[0m\u001b[0mlogout\u001b[0m\u001b[1;33m(\u001b[0m\u001b[1;33m)\u001b[0m\u001b[1;33m\u001b[0m\u001b[0m\n\u001b[0m",
      "\u001b[1;31mNameError\u001b[0m: name 'robinhood' is not defined"
     ]
    }
   ],
   "source": [
    "robinhood.logout()"
   ]
  },
  {
   "cell_type": "code",
   "execution_count": 35,
   "metadata": {},
   "outputs": [
    {
     "name": "stdout",
     "output_type": "stream",
     "text": [
      "JPM\n",
      "IEP\n",
      "ESRX\n",
      "KEN\n",
      "BTI\n",
      "CAT\n",
      "SEAS\n",
      "MRC\n",
      "DST\n"
     ]
    }
   ],
   "source": [
    "for i in my_stock.Ticker:\n",
    "    print i"
   ]
  },
  {
   "cell_type": "code",
   "execution_count": 31,
   "metadata": {},
   "outputs": [
    {
     "data": {
      "text/plain": [
       "'AAPL'"
      ]
     },
     "execution_count": 31,
     "metadata": {},
     "output_type": "execute_result"
    }
   ],
   "source": [
    "ticker"
   ]
  },
  {
   "cell_type": "code",
   "execution_count": null,
   "metadata": {
    "collapsed": true
   },
   "outputs": [],
   "source": []
  }
 ],
 "metadata": {
  "kernelspec": {
   "display_name": "Python 2",
   "language": "python",
   "name": "python2"
  },
  "language_info": {
   "codemirror_mode": {
    "name": "ipython",
    "version": 2
   },
   "file_extension": ".py",
   "mimetype": "text/x-python",
   "name": "python",
   "nbconvert_exporter": "python",
   "pygments_lexer": "ipython2",
   "version": "2.7.13"
  }
 },
 "nbformat": 4,
 "nbformat_minor": 2
}
