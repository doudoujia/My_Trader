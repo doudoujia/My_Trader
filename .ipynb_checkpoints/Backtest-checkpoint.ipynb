{
 "cells": [
  {
   "cell_type": "code",
   "execution_count": 1,
   "metadata": {
    "scrolled": true
   },
   "outputs": [
    {
     "name": "stderr",
     "output_type": "stream",
     "text": [
      "C:\\ProgramData\\Anaconda2\\lib\\site-packages\\fix_yahoo_finance\\__init__.py:43: DeprecationWarning: \n",
      "    Auto-overriding of pandas_datareader's get_data_yahoo() is deprecated and no longer available.\n",
      "    Use pdr_override() to explicitly override it.\n",
      "  DeprecationWarning)\n"
     ]
    }
   ],
   "source": [
    "from my_trader import *\n",
    "import pandas_market_calendars as mcal\n"
   ]
  },
  {
   "cell_type": "code",
   "execution_count": 2,
   "metadata": {
    "scrolled": true
   },
   "outputs": [
    {
     "name": "stdout",
     "output_type": "stream",
     "text": [
      "Test mode is on!!\n",
      "Finished AAPL\n",
      "Finished BAC\n",
      "Finished AMZN\n",
      "Finished T\n",
      "Finished GOOG\n",
      "Finished MO\n",
      "Finished DAL\n",
      "Finished AA\n",
      "Finished AXP\n",
      "Finished BABA\n",
      "Finished ABT\n",
      "Finished UA\n",
      "Finished AMAT\n",
      "Finished AMGN\n",
      "Finished AAL\n",
      "Finished AIG\n",
      "Finished ALL\n",
      "Finished ADBE\n",
      "Finished GOOGL\n",
      "Finished ABBV\n",
      "Finished MT\n",
      "Finished LLY\n",
      "Finished AGN\n",
      "Finished APA\n",
      "Finished ADP\n",
      "Finished APC\n",
      "Finished AKAM\n",
      "Finished NLY\n",
      "Finished ABX\n",
      "Finished ATVI\n",
      "Finished ADSK\n",
      "Finished ADM\n",
      "Finished WBA\n",
      "Finished LUV\n",
      "Finished ACAD\n",
      "Finished AMD\n",
      "Finished AET\n",
      "Finished AEP\n",
      "Finished ALXN\n",
      "Finished AVGO\n",
      "Finished EA\n",
      "('Received response with content-encoding: gzip, but failed to decode it.', error('Error -3 while decompressing: incorrect data check',))\n",
      "error occorded in getting yahool historicals for  DB\n",
      "Finished DB\n",
      "Finished APD\n",
      "Finished NVS\n",
      "Finished ANF\n",
      "Finished LULU\n",
      "Finished ARRY\n",
      "Finished AGNC\n",
      "Finished JBLU\n",
      "Finished A\n",
      "\n",
      "Done: AA\n",
      "\n",
      "Done: AXP\n",
      "\n",
      "Done: ACAD\n",
      "\n",
      "Done: ADBE\n",
      "\n",
      "Done: GOOGL\n",
      "\n",
      "Done: LUV\n",
      "\n",
      "Done: AGN\n",
      "\n",
      "Done: AAL\n",
      "\n",
      "Done: AAPL\n",
      "\n",
      "Done: BABA\n",
      "\n",
      "Done: AMGN\n",
      "\n",
      "Done: AMAT\n",
      "\n",
      "Done: A\n",
      "\n",
      "Done: BAC\n",
      "\n",
      "Done: WBA\n",
      "\n",
      "Done: JBLU\n",
      "\n",
      "Done: AIG\n",
      "\n",
      "Done: ADSK\n",
      "\n",
      "Done: AET\n",
      "\n",
      "Done: LLY\n",
      "\n",
      "Done: AVGO\n",
      "\n",
      "Done: DAL\n",
      "\n",
      "Done: AMD\n",
      "\n",
      "Done: ATVI\n",
      "\n",
      "Done: ARRY\n",
      "\n",
      "Done: GOOG\n",
      "\n",
      "Done: AGNC\n",
      "\n",
      "Done: AKAM\n",
      "\n",
      "Done: ADP\n",
      "\n",
      "Done: AEP\n",
      "\n",
      "Done: DB\n",
      "\n",
      "Done: NLY\n",
      "\n",
      "Done: EA\n",
      "\n",
      "Done: ANF\n",
      "\n",
      "Done: ABBV\n",
      "\n",
      "Done: ABT\n",
      "\n",
      "Done: T\n",
      "\n",
      "Done: ABX\n",
      "\n",
      "Done: AMZN\n",
      "\n",
      "Done: ADM\n",
      "\n",
      "Done: ALL\n",
      "\n",
      "Done: NVS\n",
      "\n",
      "Done: LULU\n",
      "\n",
      "Done: MO\n",
      "\n",
      "Done: MT\n",
      "\n",
      "Done: APC\n",
      "\n",
      "Done: APA\n",
      "\n",
      "Done: UA\n",
      "\n",
      "Done: APD\n",
      "\n",
      "Done: ALXN\n",
      "Technical_points done:  AA\n",
      "Technical_points done:  AXP\n",
      "Technical_points done:  ACAD\n",
      "Technical_points done:  ADBE\n",
      "Technical_points done:  GOOGL\n",
      "Technical_points done:  LUV\n",
      "Technical_points done:  AGN\n",
      "Technical_points done:  AAL\n",
      "Technical_points done:  AAPL\n",
      "Technical_points done:  BABA\n",
      "Technical_points done:  AMGN\n",
      "Technical_points done:  AMAT\n",
      "Technical_points done:  A\n",
      "Technical_points done:  BAC\n",
      "Technical_points done:  WBA\n",
      "Technical_points done:  JBLU\n",
      "Technical_points done:  AIG\n",
      "Technical_points done:  ADSK\n",
      "Technical_points done:  AET\n",
      "Technical_points done:  LLY\n",
      "Technical_points done:  AVGO\n",
      "Technical_points done:  DAL\n",
      "Technical_points done:  AMD\n",
      "Technical_points done:  ATVI\n",
      "Technical_points done:  ARRY\n",
      "Technical_points done:  GOOG\n",
      "Technical_points done:  AGNC\n",
      "Technical_points done:  AKAM\n",
      "Technical_points done:  ADP\n",
      "Technical_points done:  AEP\n",
      "Technical_points done:  DB\n",
      "Technical_points done:  NLY\n",
      "Technical_points done:  EA\n",
      "Technical_points done:  ANF\n",
      "Technical_points done:  ABBV\n",
      "Technical_points done:  ABT\n",
      "Technical_points done:  T\n",
      "Technical_points done:  ABX\n",
      "Technical_points done:  AMZN\n",
      "Technical_points done:  ADM\n",
      "Technical_points done:  ALL\n",
      "Technical_points done:  NVS\n",
      "Technical_points done:  LULU\n",
      "Technical_points done:  MO\n",
      "Technical_points done:  MT\n",
      "Technical_points done:  APC\n",
      "Technical_points done:  APA\n",
      "Technical_points done:  UA\n",
      "Technical_points done:  APD\n",
      "Technical_points done:  ALXN\n",
      "Length:  62\n",
      "Length after drop  60\n",
      "Length:  60\n",
      "Length after drop  59\n"
     ]
    },
    {
     "ename": "TypeError",
     "evalue": "Index(...) must be called with a collection of some kind, Timestamp('2017-10-03 00:00:00') was passed",
     "output_type": "error",
     "traceback": [
      "\u001b[1;31m---------------------------------------------------------------------------\u001b[0m",
      "\u001b[1;31mTypeError\u001b[0m                                 Traceback (most recent call last)",
      "\u001b[1;32m<ipython-input-2-d4f6dc5b5f8e>\u001b[0m in \u001b[0;36m<module>\u001b[1;34m()\u001b[0m\n\u001b[0;32m     10\u001b[0m     \u001b[1;31m#time_line.append(buy)\u001b[0m\u001b[1;33m\u001b[0m\u001b[1;33m\u001b[0m\u001b[0m\n\u001b[0;32m     11\u001b[0m     \u001b[0mtemp\u001b[0m \u001b[1;33m=\u001b[0m \u001b[0mrobinhood\u001b[0m\u001b[1;33m.\u001b[0m\u001b[0mget_protfolio\u001b[0m\u001b[1;33m(\u001b[0m\u001b[0mbuy\u001b[0m\u001b[1;33m.\u001b[0m\u001b[0mindex\u001b[0m\u001b[1;33m,\u001b[0m\u001b[0mnp\u001b[0m\u001b[1;33m.\u001b[0m\u001b[0mceil\u001b[0m\u001b[1;33m(\u001b[0m\u001b[1;33m(\u001b[0m\u001b[1;33m(\u001b[0m\u001b[1;36m500\u001b[0m\u001b[1;33m/\u001b[0m\u001b[0mlen\u001b[0m\u001b[1;33m(\u001b[0m\u001b[0mbuy\u001b[0m\u001b[1;33m.\u001b[0m\u001b[0mindex\u001b[0m\u001b[1;33m)\u001b[0m\u001b[1;33m)\u001b[0m\u001b[1;33m/\u001b[0m\u001b[0mbuy\u001b[0m\u001b[1;33m.\u001b[0m\u001b[0mClose\u001b[0m\u001b[1;33m)\u001b[0m\u001b[1;33m)\u001b[0m\u001b[1;33m)\u001b[0m\u001b[1;33m[\u001b[0m\u001b[1;36m0\u001b[0m\u001b[1;33m]\u001b[0m\u001b[1;33m.\u001b[0m\u001b[0miloc\u001b[0m\u001b[1;33m[\u001b[0m\u001b[1;33m-\u001b[0m\u001b[1;36m1\u001b[0m\u001b[1;33m]\u001b[0m\u001b[1;33m\u001b[0m\u001b[0m\n\u001b[1;32m---> 12\u001b[1;33m     \u001b[0mbt\u001b[0m \u001b[1;33m=\u001b[0m \u001b[0mbt\u001b[0m\u001b[1;33m.\u001b[0m\u001b[0mappend\u001b[0m\u001b[1;33m(\u001b[0m\u001b[0mpd\u001b[0m\u001b[1;33m.\u001b[0m\u001b[0mDataFrame\u001b[0m\u001b[1;33m(\u001b[0m\u001b[0mdata\u001b[0m\u001b[1;33m=\u001b[0m\u001b[1;33m[\u001b[0m\u001b[0mtemp\u001b[0m\u001b[1;33m.\u001b[0m\u001b[0mSum_Close\u001b[0m\u001b[1;33m,\u001b[0m\u001b[0mtemp\u001b[0m\u001b[1;33m.\u001b[0m\u001b[0mSum_Open\u001b[0m\u001b[1;33m,\u001b[0m\u001b[0mtemp\u001b[0m\u001b[1;33m.\u001b[0m\u001b[0mSum_High\u001b[0m\u001b[1;33m,\u001b[0m\u001b[0mtemp\u001b[0m\u001b[1;33m.\u001b[0m\u001b[0mSum_Low\u001b[0m\u001b[1;33m]\u001b[0m\u001b[1;33m,\u001b[0m\u001b[0mindex\u001b[0m \u001b[1;33m=\u001b[0m \u001b[0mbuy\u001b[0m\u001b[1;33m.\u001b[0m\u001b[0mTimeStamp\u001b[0m\u001b[1;33m[\u001b[0m\u001b[1;36m0\u001b[0m\u001b[1;33m]\u001b[0m\u001b[1;33m,\u001b[0m                               \u001b[0mcolumns\u001b[0m \u001b[1;33m=\u001b[0m \u001b[1;33m[\u001b[0m\u001b[1;34m\"Close\"\u001b[0m\u001b[1;33m,\u001b[0m\u001b[1;34m\"Open\"\u001b[0m\u001b[1;33m,\u001b[0m\u001b[1;34m\"High\"\u001b[0m\u001b[1;33m,\u001b[0m\u001b[1;34m\"Low\"\u001b[0m\u001b[1;33m]\u001b[0m\u001b[1;33m)\u001b[0m\u001b[1;33m)\u001b[0m\u001b[1;33m\u001b[0m\u001b[0m\n\u001b[0m\u001b[0;32m     13\u001b[0m \u001b[1;33m\u001b[0m\u001b[0m\n\u001b[0;32m     14\u001b[0m     \u001b[1;32mprint\u001b[0m \u001b[1;34m\"finished\"\u001b[0m\u001b[1;33m\u001b[0m\u001b[0m\n",
      "\u001b[1;32mC:\\ProgramData\\Anaconda2\\lib\\site-packages\\pandas\\core\\frame.pyc\u001b[0m in \u001b[0;36m__init__\u001b[1;34m(self, data, index, columns, dtype, copy)\u001b[0m\n\u001b[0;32m    277\u001b[0m                 \u001b[1;32melse\u001b[0m\u001b[1;33m:\u001b[0m\u001b[1;33m\u001b[0m\u001b[0m\n\u001b[0;32m    278\u001b[0m                     mgr = self._init_ndarray(data, index, columns, dtype=dtype,\n\u001b[1;32m--> 279\u001b[1;33m                                              copy=copy)\n\u001b[0m\u001b[0;32m    280\u001b[0m             \u001b[1;32melse\u001b[0m\u001b[1;33m:\u001b[0m\u001b[1;33m\u001b[0m\u001b[0m\n\u001b[0;32m    281\u001b[0m                 \u001b[0mmgr\u001b[0m \u001b[1;33m=\u001b[0m \u001b[0mself\u001b[0m\u001b[1;33m.\u001b[0m\u001b[0m_init_dict\u001b[0m\u001b[1;33m(\u001b[0m\u001b[1;33m{\u001b[0m\u001b[1;33m}\u001b[0m\u001b[1;33m,\u001b[0m \u001b[0mindex\u001b[0m\u001b[1;33m,\u001b[0m \u001b[0mcolumns\u001b[0m\u001b[1;33m,\u001b[0m \u001b[0mdtype\u001b[0m\u001b[1;33m=\u001b[0m\u001b[0mdtype\u001b[0m\u001b[1;33m)\u001b[0m\u001b[1;33m\u001b[0m\u001b[0m\n",
      "\u001b[1;32mC:\\ProgramData\\Anaconda2\\lib\\site-packages\\pandas\\core\\frame.pyc\u001b[0m in \u001b[0;36m_init_ndarray\u001b[1;34m(self, values, index, columns, dtype, copy)\u001b[0m\n\u001b[0;32m    421\u001b[0m                     \u001b[0mraise_with_traceback\u001b[0m\u001b[1;33m(\u001b[0m\u001b[0me\u001b[0m\u001b[1;33m)\u001b[0m\u001b[1;33m\u001b[0m\u001b[0m\n\u001b[0;32m    422\u001b[0m \u001b[1;33m\u001b[0m\u001b[0m\n\u001b[1;32m--> 423\u001b[1;33m         \u001b[0mindex\u001b[0m\u001b[1;33m,\u001b[0m \u001b[0mcolumns\u001b[0m \u001b[1;33m=\u001b[0m \u001b[0m_get_axes\u001b[0m\u001b[1;33m(\u001b[0m\u001b[1;33m*\u001b[0m\u001b[0mvalues\u001b[0m\u001b[1;33m.\u001b[0m\u001b[0mshape\u001b[0m\u001b[1;33m)\u001b[0m\u001b[1;33m\u001b[0m\u001b[0m\n\u001b[0m\u001b[0;32m    424\u001b[0m         \u001b[0mvalues\u001b[0m \u001b[1;33m=\u001b[0m \u001b[0mvalues\u001b[0m\u001b[1;33m.\u001b[0m\u001b[0mT\u001b[0m\u001b[1;33m\u001b[0m\u001b[0m\n\u001b[0;32m    425\u001b[0m \u001b[1;33m\u001b[0m\u001b[0m\n",
      "\u001b[1;32mC:\\ProgramData\\Anaconda2\\lib\\site-packages\\pandas\\core\\frame.pyc\u001b[0m in \u001b[0;36m_get_axes\u001b[1;34m(N, K, index, columns)\u001b[0m\n\u001b[0;32m    383\u001b[0m                 \u001b[0mindex\u001b[0m \u001b[1;33m=\u001b[0m \u001b[0m_default_index\u001b[0m\u001b[1;33m(\u001b[0m\u001b[0mN\u001b[0m\u001b[1;33m)\u001b[0m\u001b[1;33m\u001b[0m\u001b[0m\n\u001b[0;32m    384\u001b[0m             \u001b[1;32melse\u001b[0m\u001b[1;33m:\u001b[0m\u001b[1;33m\u001b[0m\u001b[0m\n\u001b[1;32m--> 385\u001b[1;33m                 \u001b[0mindex\u001b[0m \u001b[1;33m=\u001b[0m \u001b[0m_ensure_index\u001b[0m\u001b[1;33m(\u001b[0m\u001b[0mindex\u001b[0m\u001b[1;33m)\u001b[0m\u001b[1;33m\u001b[0m\u001b[0m\n\u001b[0m\u001b[0;32m    386\u001b[0m \u001b[1;33m\u001b[0m\u001b[0m\n\u001b[0;32m    387\u001b[0m             \u001b[1;32mif\u001b[0m \u001b[0mcolumns\u001b[0m \u001b[1;32mis\u001b[0m \u001b[0mNone\u001b[0m\u001b[1;33m:\u001b[0m\u001b[1;33m\u001b[0m\u001b[0m\n",
      "\u001b[1;32mC:\\ProgramData\\Anaconda2\\lib\\site-packages\\pandas\\indexes\\base.pyc\u001b[0m in \u001b[0;36m_ensure_index\u001b[1;34m(index_like, copy)\u001b[0m\n\u001b[0;32m   3407\u001b[0m             \u001b[0mindex_like\u001b[0m \u001b[1;33m=\u001b[0m \u001b[0mcopy\u001b[0m\u001b[1;33m(\u001b[0m\u001b[0mindex_like\u001b[0m\u001b[1;33m)\u001b[0m\u001b[1;33m\u001b[0m\u001b[0m\n\u001b[0;32m   3408\u001b[0m \u001b[1;33m\u001b[0m\u001b[0m\n\u001b[1;32m-> 3409\u001b[1;33m     \u001b[1;32mreturn\u001b[0m \u001b[0mIndex\u001b[0m\u001b[1;33m(\u001b[0m\u001b[0mindex_like\u001b[0m\u001b[1;33m)\u001b[0m\u001b[1;33m\u001b[0m\u001b[0m\n\u001b[0m\u001b[0;32m   3410\u001b[0m \u001b[1;33m\u001b[0m\u001b[0m\n\u001b[0;32m   3411\u001b[0m \u001b[1;33m\u001b[0m\u001b[0m\n",
      "\u001b[1;32mC:\\ProgramData\\Anaconda2\\lib\\site-packages\\pandas\\indexes\\base.pyc\u001b[0m in \u001b[0;36m__new__\u001b[1;34m(cls, data, dtype, copy, name, fastpath, tupleize_cols, **kwargs)\u001b[0m\n\u001b[0;32m    266\u001b[0m                          **kwargs)\n\u001b[0;32m    267\u001b[0m         \u001b[1;32melif\u001b[0m \u001b[0mdata\u001b[0m \u001b[1;32mis\u001b[0m \u001b[0mNone\u001b[0m \u001b[1;32mor\u001b[0m \u001b[0mlib\u001b[0m\u001b[1;33m.\u001b[0m\u001b[0misscalar\u001b[0m\u001b[1;33m(\u001b[0m\u001b[0mdata\u001b[0m\u001b[1;33m)\u001b[0m\u001b[1;33m:\u001b[0m\u001b[1;33m\u001b[0m\u001b[0m\n\u001b[1;32m--> 268\u001b[1;33m             \u001b[0mcls\u001b[0m\u001b[1;33m.\u001b[0m\u001b[0m_scalar_data_error\u001b[0m\u001b[1;33m(\u001b[0m\u001b[0mdata\u001b[0m\u001b[1;33m)\u001b[0m\u001b[1;33m\u001b[0m\u001b[0m\n\u001b[0m\u001b[0;32m    269\u001b[0m         \u001b[1;32melse\u001b[0m\u001b[1;33m:\u001b[0m\u001b[1;33m\u001b[0m\u001b[0m\n\u001b[0;32m    270\u001b[0m             if (tupleize_cols and isinstance(data, list) and data and\n",
      "\u001b[1;32mC:\\ProgramData\\Anaconda2\\lib\\site-packages\\pandas\\indexes\\base.pyc\u001b[0m in \u001b[0;36m_scalar_data_error\u001b[1;34m(cls, data)\u001b[0m\n\u001b[0;32m    481\u001b[0m         raise TypeError('{0}(...) must be called with a collection of some '\n\u001b[0;32m    482\u001b[0m                         'kind, {1} was passed'.format(cls.__name__,\n\u001b[1;32m--> 483\u001b[1;33m                                                       repr(data)))\n\u001b[0m\u001b[0;32m    484\u001b[0m \u001b[1;33m\u001b[0m\u001b[0m\n\u001b[0;32m    485\u001b[0m     \u001b[1;33m@\u001b[0m\u001b[0mclassmethod\u001b[0m\u001b[1;33m\u001b[0m\u001b[0m\n",
      "\u001b[1;31mTypeError\u001b[0m: Index(...) must be called with a collection of some kind, Timestamp('2017-10-03 00:00:00') was passed"
     ]
    }
   ],
   "source": [
    "nyse=mcal.get_calendar(\"NYSE\")\n",
    "early = nyse.schedule(start_date='2017-10-01', end_date=datetime.now().strftime(\"%Y-%m-%d\"))\n",
    "time_line = []\n",
    "bt = pd.DataFrame()\n",
    "for i in early.index.date[0:1]:\n",
    "    robinhood = get_robinhood()\n",
    "    start_date = i - timedelta(days=90)\n",
    "    end_date = i\n",
    "    buy = update_price(method = \"day\",test= True,save_file= False,start_date=start_date,end_date=end_date)\n",
    "    #time_line.append(buy)\n",
    "    temp = robinhood.get_protfolio(buy.index,np.ceil(((500/len(buy.index))/buy.Close)))[0].iloc[-1]\n",
    "    bt = bt.append(pd.DataFrame(data=[temp.Sum_Close,temp.Sum_Open,temp.Sum_High,temp.Sum_Low],index = buy.TimeStamp[0],\\\n",
    "                               columns = [\"Close\",\"Open\",\"High\",\"Low\"]))\n",
    "    \n",
    "    print \"finished\"\n",
    "\n",
    "\n",
    "    "
   ]
  },
  {
   "cell_type": "code",
   "execution_count": 5,
   "metadata": {
    "scrolled": true
   },
   "outputs": [
    {
     "name": "stdout",
     "output_type": "stream",
     "text": [
      "Username: lgyhz123\n",
      "········\n"
     ]
    },
    {
     "data": {
      "text/plain": [
       "True"
      ]
     },
     "execution_count": 5,
     "metadata": {},
     "output_type": "execute_result"
    }
   ],
   "source": [
    "robinhood = get_robinhood()\n",
    "robinhood.my_trader.login_prompt()"
   ]
  },
  {
   "cell_type": "code",
   "execution_count": 47,
   "metadata": {},
   "outputs": [
    {
     "name": "stdout",
     "output_type": "stream",
     "text": [
      "ZNGA 1.0000\n",
      "MEOH 1.0000\n",
      "SPY 5.0000\n",
      "CCI 1.0000\n",
      "VIXY 9.0000\n"
     ]
    }
   ],
   "source": [
    "positions = robinhood.get_my_positions()\n",
    "positions = pd.DataFrame(data=positions[1],index = positions[0],columns=[\"Quantity\"])"
   ]
  },
  {
   "cell_type": "code",
   "execution_count": 3,
   "metadata": {},
   "outputs": [
    {
     "ename": "NameError",
     "evalue": "name 'stock1' is not defined",
     "output_type": "error",
     "traceback": [
      "\u001b[1;31m---------------------------------------------------------------------------\u001b[0m",
      "\u001b[1;31mNameError\u001b[0m                                 Traceback (most recent call last)",
      "\u001b[1;32m<ipython-input-3-db423bea03f9>\u001b[0m in \u001b[0;36m<module>\u001b[1;34m()\u001b[0m\n\u001b[1;32m----> 1\u001b[1;33m \u001b[1;32mprint\u001b[0m \u001b[1;33m(\u001b[0m\u001b[1;34m\"{} in my position\"\u001b[0m\u001b[1;33m.\u001b[0m\u001b[0mformat\u001b[0m\u001b[1;33m(\u001b[0m\u001b[0mstock1\u001b[0m\u001b[1;33m)\u001b[0m\u001b[1;33m)\u001b[0m\u001b[1;33m\u001b[0m\u001b[0m\n\u001b[0m",
      "\u001b[1;31mNameError\u001b[0m: name 'stock1' is not defined"
     ]
    }
   ],
   "source": [
    " print (\"{} in my position\".format(stock1))"
   ]
  },
  {
   "cell_type": "code",
   "execution_count": null,
   "metadata": {
    "collapsed": true
   },
   "outputs": [],
   "source": []
  }
 ],
 "metadata": {
  "kernelspec": {
   "display_name": "Python 2",
   "language": "python",
   "name": "python2"
  },
  "language_info": {
   "codemirror_mode": {
    "name": "ipython",
    "version": 2
   },
   "file_extension": ".py",
   "mimetype": "text/x-python",
   "name": "python",
   "nbconvert_exporter": "python",
   "pygments_lexer": "ipython2",
   "version": "2.7.13"
  }
 },
 "nbformat": 4,
 "nbformat_minor": 2
}
