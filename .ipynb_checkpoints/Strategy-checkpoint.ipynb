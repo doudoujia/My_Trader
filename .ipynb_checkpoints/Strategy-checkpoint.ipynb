{
 "cells": [
  {
   "cell_type": "code",
   "execution_count": 3,
   "metadata": {},
   "outputs": [],
   "source": [
    "from my_lib import *\n",
    "from my_trader import *\n",
    "from my_strategies import *"
   ]
  },
  {
   "cell_type": "code",
   "execution_count": 5,
   "metadata": {
    "collapsed": true
   },
   "outputs": [],
   "source": [
    "robinhood = get_robinhood()"
   ]
  },
  {
   "cell_type": "code",
   "execution_count": 6,
   "metadata": {
    "collapsed": true
   },
   "outputs": [],
   "source": [
    "robinhood.login(\"lgyhz123\",\"5093945464lgyhz\")"
   ]
  },
  {
   "cell_type": "code",
   "execution_count": 107,
   "metadata": {},
   "outputs": [
    {
     "name": "stdout",
     "output_type": "stream",
     "text": [
      "UVXY 10.0000\n",
      "ZNGA 1.0000\n",
      "WCN 1.0000\n",
      "AGFS 1.0000\n",
      "AZN 1.0000\n",
      "TAHO 1.0000\n",
      "RRGB 1.0000\n",
      "SPY 5.0000\n",
      "IEP 1.0000\n",
      "ESRX 4.0000\n",
      "AIMC 2.0000\n",
      "OSG 1.0000\n",
      "ROYT 2.0000\n"
     ]
    }
   ],
   "source": [
    "tickers, quantity = robinhood.get_my_positions()"
   ]
  },
  {
   "cell_type": "code",
   "execution_count": 105,
   "metadata": {
    "collapsed": true
   },
   "outputs": [],
   "source": [
    "def plot_position(tickers, quantity):\n",
    "    temp = da.DataReader(tickers[0],\"yahoo\",datetime.now()-timedelta(days=90),datetime.now())\n",
    "    data = pd.DataFrame(index=temp.index)\n",
    "    temp = temp.rename(columns={\"Adj Close\":str(tickers[0]) + \"_Close\"})\n",
    "    temp = temp.rename(columns={\"High\":str(tickers[0]) + \"_High\"})\n",
    "    temp = temp.rename(columns={\"Low\":str(tickers[0]) + \"_Low\"})\n",
    "    data = pd.concat([data,temp[[str(tickers[0]) + \"_Close\",str(tickers[0]) + \"_High\",str(tickers[0]) + \"_Low\"]]], axis=1)\n",
    "    for i in tickers[1:]:\n",
    "        temp = da.DataReader(i,\"yahoo\",datetime.now()-timedelta(days=90),datetime.now())\n",
    "        temp = temp.rename(columns={\"Adj Close\":str(i) + \"_Close\"})\n",
    "        temp = temp.rename(columns={\"High\":str(i) + \"_High\"})\n",
    "        temp = temp.rename(columns={\"Low\":str(i) + \"_Low\"})\n",
    "        data = pd.concat([data,temp[[str(i) + \"_Close\",str(i) + \"_High\",str(i) + \"_Low\"]]], axis=1)\n",
    "    data_weighted = pd.DataFrame(index = data.index)\n",
    "    for i, j in zip(data.columns,range(len(data)*3)):\n",
    "        j = j % 3\n",
    "        data_weighted = pd.concat([data_weighted,data[i] * quantity[j]],axis=1)\n",
    "    data_weighted[\"Sum_Close\"] = data_weighted.filter(regex=\"Close\").sum(axis=1)\n",
    "    data_weighted[\"Sum_High\"] = data_weighted.filter(regex=\"High\").sum(axis=1)\n",
    "    data_weighted[\"Sum_Low\"] = data_weighted.filter(regex=\"Low\").sum(axis=1)\n",
    "    data_weighted[\"Sum_Close_MA_F\"] = data_weighted.Sum_Close.rolling(5).mean()\n",
    "    data_weighted[\"Sum_Close_MA_S\"] = data_weighted.Sum_Close.rolling(20).mean()\n",
    "\n",
    "    data_weighted[\"STOCH_slowk\"], data_weighted[\"STOCH_slowd\"] = ta.STOCHF(data_weighted[\"Sum_High\"].values, data_weighted[\"Sum_Low\"].values, data_weighted[\"Sum_Close\"].values, fastk_period=5, fastd_period=3, fastd_matype=0)\n",
    "    plt.figure(1,figsize = (18,18))\n",
    "    sub = plt.subplot(211)\n",
    "    data_weighted.Sum_Close.plot()\n",
    "    data_weighted.Sum_Close_MA_F.plot()\n",
    "    data_weighted.Sum_Close_MA_S.plot()\n",
    "    plt.legend()\n",
    "    plt.subplot(212,sharex=sub)\n",
    "    data_weighted.STOCH_slowd.plot()\n",
    "    data_weighted.STOCH_slowk.plot()\n",
    "\n",
    "    plt.show()"
   ]
  },
  {
   "cell_type": "code",
   "execution_count": 112,
   "metadata": {},
   "outputs": [
    {
     "data": {
      "text/plain": [
       "([u'UVXY',\n",
       "  u'ZNGA',\n",
       "  u'WCN',\n",
       "  u'AGFS',\n",
       "  u'AZN',\n",
       "  u'TAHO',\n",
       "  u'RRGB',\n",
       "  u'SPY',\n",
       "  u'IEP',\n",
       "  u'ESRX',\n",
       "  u'AIMC',\n",
       "  u'OSG',\n",
       "  u'ROYT'],\n",
       " [10.0, 1.0, 1.0, 1.0, 1.0, 1.0, 1.0, 5.0, 1.0, 4.0, 2.0, 1.0, 2.0])"
      ]
     },
     "execution_count": 112,
     "metadata": {},
     "output_type": "execute_result"
    }
   ],
   "source": [
    "(tickers, quantity)"
   ]
  },
  {
   "cell_type": "code",
   "execution_count": 7,
   "metadata": {},
   "outputs": [
    {
     "name": "stdout",
     "output_type": "stream",
     "text": [
      "Get suggestion succeed!\n",
      "632.8150\n",
      "Ticker found in instruments\n",
      "Trade Fail: JPM\n"
     ]
    },
    {
     "ename": "KeyboardInterrupt",
     "evalue": "",
     "output_type": "error",
     "traceback": [
      "\u001b[1;31m---------------------------------------------------------------------------\u001b[0m",
      "\u001b[1;31mKeyboardInterrupt\u001b[0m                         Traceback (most recent call last)",
      "\u001b[1;32m<ipython-input-7-e2ae0b91775e>\u001b[0m in \u001b[0;36m<module>\u001b[1;34m()\u001b[0m\n\u001b[0;32m     11\u001b[0m \u001b[1;32mif\u001b[0m \u001b[0mmy_stock\u001b[0m\u001b[1;33m[\u001b[0m\u001b[1;34m\"Close\"\u001b[0m\u001b[1;33m]\u001b[0m\u001b[1;33m.\u001b[0m\u001b[0msum\u001b[0m\u001b[1;33m(\u001b[0m\u001b[1;33m)\u001b[0m \u001b[1;33m<\u001b[0m \u001b[0mpower\u001b[0m\u001b[1;33m:\u001b[0m\u001b[1;33m\u001b[0m\u001b[0m\n\u001b[0;32m     12\u001b[0m     \u001b[1;32mfor\u001b[0m \u001b[0mi\u001b[0m \u001b[1;32min\u001b[0m \u001b[0mmy_stock\u001b[0m\u001b[1;33m.\u001b[0m\u001b[0mTicker\u001b[0m\u001b[1;33m:\u001b[0m\u001b[1;33m\u001b[0m\u001b[0m\n\u001b[1;32m---> 13\u001b[1;33m         \u001b[0mrobinhood\u001b[0m\u001b[1;33m.\u001b[0m\u001b[0mplace_buy\u001b[0m\u001b[1;33m(\u001b[0m\u001b[0mi\u001b[0m\u001b[1;33m,\u001b[0m\u001b[1;36m1\u001b[0m\u001b[1;33m)\u001b[0m\u001b[1;33m\u001b[0m\u001b[0m\n\u001b[0m\u001b[0;32m     14\u001b[0m     \u001b[0mtickers\u001b[0m \u001b[1;33m,\u001b[0m \u001b[0mquantity\u001b[0m \u001b[1;33m=\u001b[0m \u001b[0mrobinhood\u001b[0m\u001b[1;33m.\u001b[0m\u001b[0mget_my_positions\u001b[0m\u001b[1;33m(\u001b[0m\u001b[1;33m)\u001b[0m\u001b[1;33m\u001b[0m\u001b[0m\n\u001b[0;32m     15\u001b[0m     \u001b[0mrobinhood\u001b[0m\u001b[1;33m.\u001b[0m\u001b[0mget_my_position_beta\u001b[0m\u001b[1;33m(\u001b[0m\u001b[1;33m)\u001b[0m\u001b[1;33m\u001b[0m\u001b[0m\n",
      "\u001b[1;32mC:\\Users\\gli26\\Documents\\GitHub\\My_Trader\\my_trader.py\u001b[0m in \u001b[0;36mplace_buy\u001b[1;34m(self, ticker, num)\u001b[0m\n\u001b[0;32m    209\u001b[0m                                 \u001b[1;32melse\u001b[0m\u001b[1;33m:\u001b[0m\u001b[1;33m\u001b[0m\u001b[0m\n\u001b[0;32m    210\u001b[0m                                          \u001b[1;32mprint\u001b[0m \u001b[1;33m(\u001b[0m\u001b[1;34m\"Trade Fail: \"\u001b[0m \u001b[1;33m+\u001b[0m \u001b[0mticker\u001b[0m\u001b[1;33m)\u001b[0m\u001b[1;33m\u001b[0m\u001b[0m\n\u001b[1;32m--> 211\u001b[1;33m                                 \u001b[0mtime\u001b[0m\u001b[1;33m.\u001b[0m\u001b[0msleep\u001b[0m\u001b[1;33m(\u001b[0m\u001b[1;36m10\u001b[0m\u001b[1;33m)\u001b[0m\u001b[1;33m\u001b[0m\u001b[0m\n\u001b[0m\u001b[0;32m    212\u001b[0m                         \u001b[1;32melse\u001b[0m\u001b[1;33m:\u001b[0m\u001b[1;33m\u001b[0m\u001b[0m\n\u001b[0;32m    213\u001b[0m                                 \u001b[1;32mprint\u001b[0m \u001b[1;33m(\u001b[0m\u001b[1;34m\"Ticker not found in instruments\"\u001b[0m\u001b[1;33m)\u001b[0m\u001b[1;33m\u001b[0m\u001b[0m\n",
      "\u001b[1;31mKeyboardInterrupt\u001b[0m: "
     ]
    }
   ],
   "source": [
    "robinhood = get_robinhood()\n",
    "try:\n",
    "    my_stock = pd.read_csv(\"file/Trade_suggestion2018-01-12.csv\")\n",
    "    my_stock = my_stock.rename(columns={\"Unnamed: 0\":\"Ticker\"})\n",
    "    print (\"Get suggestion succeed!\")\n",
    "except:\n",
    "    print (\"Get suggestion fail, stopping\")\n",
    "\n",
    "robinhood.login(\"lgyhz123\",\"5093945464lgyhz\")\n",
    "power = robinhood.get_buying_power()\n",
    "if my_stock[\"Close\"].sum() < power:\n",
    "    print (\"Enough buying power\")\n",
    "    for i in my_stock.Ticker:\n",
    "        robinhood.place_buy(i,1)\n",
    "    tickers , quantity = robinhood.get_my_positions()\n",
    "    robinhood.get_my_position_beta()\n",
    "    plot_position(my_stock.Ticker, np.repeat(1,len(my_stock.Ticker)) )\n",
    "else:\n",
    "    print (\"Not enough buying power\")"
   ]
  },
  {
   "cell_type": "code",
   "execution_count": 6,
   "metadata": {},
   "outputs": [],
   "source": [
    "robinhood.logout()"
   ]
  },
  {
   "cell_type": "code",
   "execution_count": 8,
   "metadata": {},
   "outputs": [
    {
     "name": "stdout",
     "output_type": "stream",
     "text": [
      "632.8150\n"
     ]
    },
    {
     "data": {
      "text/plain": [
       "632.815"
      ]
     },
     "execution_count": 8,
     "metadata": {},
     "output_type": "execute_result"
    }
   ],
   "source": [
    "robinhood.get_buying_power()"
   ]
  },
  {
   "cell_type": "code",
   "execution_count": 7,
   "metadata": {},
   "outputs": [
    {
     "name": "stdout",
     "output_type": "stream",
     "text": [
      "Ticker found in instruments\n"
     ]
    }
   ],
   "source": [
    "ticker = \"KEN\"\n",
    "for i in robinhood.my_trader.instruments(ticker):\n",
    "\n",
    "    stock_inst = i\n",
    "    if stock_inst[\"symbol\"]==ticker:\n",
    "        print (\"Ticker found in instruments\")"
   ]
  },
  {
   "cell_type": "code",
   "execution_count": 8,
   "metadata": {},
   "outputs": [
    {
     "data": {
      "text/plain": [
       "[{u'bloomberg_unique': u'EQ0010031200002000',\n",
       "  u'country': u'US',\n",
       "  u'day_trade_ratio': u'0.2500',\n",
       "  u'fundamentals': u'https://api.robinhood.com/fundamentals/JPM/',\n",
       "  u'id': u'43c1172a-9130-420a-ac9b-b01a6ff5dd54',\n",
       "  u'list_date': u'1983-12-30',\n",
       "  u'maintenance_ratio': u'0.2500',\n",
       "  u'margin_initial_ratio': u'0.5000',\n",
       "  u'market': u'https://api.robinhood.com/markets/XNYS/',\n",
       "  u'min_tick_size': None,\n",
       "  u'name': u'JPMorgan Chase & Co.',\n",
       "  u'quote': u'https://api.robinhood.com/quotes/JPM/',\n",
       "  u'simple_name': u'JPMorgan Chase',\n",
       "  u'splits': u'https://api.robinhood.com/instruments/43c1172a-9130-420a-ac9b-b01a6ff5dd54/splits/',\n",
       "  u'state': u'active',\n",
       "  u'symbol': u'JPM',\n",
       "  u'tradability': u'tradable',\n",
       "  u'tradeable': True,\n",
       "  u'type': u'stock',\n",
       "  u'url': u'https://api.robinhood.com/instruments/43c1172a-9130-420a-ac9b-b01a6ff5dd54/'},\n",
       " {u'bloomberg_unique': u'EQ0000000008097083',\n",
       "  u'country': u'US',\n",
       "  u'day_trade_ratio': u'0.2500',\n",
       "  u'fundamentals': u'https://api.robinhood.com/fundamentals/AMJ/',\n",
       "  u'id': u'67198c6b-dba4-41b2-948b-547985fa2990',\n",
       "  u'list_date': u'2009-04-02',\n",
       "  u'maintenance_ratio': u'0.2500',\n",
       "  u'margin_initial_ratio': u'0.5000',\n",
       "  u'market': u'https://api.robinhood.com/markets/ARCX/',\n",
       "  u'min_tick_size': None,\n",
       "  u'name': u'JPMorgan Alerian MLP Index ETN',\n",
       "  u'quote': u'https://api.robinhood.com/quotes/AMJ/',\n",
       "  u'simple_name': None,\n",
       "  u'splits': u'https://api.robinhood.com/instruments/67198c6b-dba4-41b2-948b-547985fa2990/splits/',\n",
       "  u'state': u'active',\n",
       "  u'symbol': u'AMJ',\n",
       "  u'tradability': u'tradable',\n",
       "  u'tradeable': True,\n",
       "  u'type': u'etp',\n",
       "  u'url': u'https://api.robinhood.com/instruments/67198c6b-dba4-41b2-948b-547985fa2990/'},\n",
       " {u'bloomberg_unique': u'PFEP0481226',\n",
       "  u'country': u'US',\n",
       "  u'day_trade_ratio': u'0.2500',\n",
       "  u'fundamentals': u'https://api.robinhood.com/fundamentals/JPM-F/',\n",
       "  u'id': u'76f28bf1-938b-46ff-b664-b2e710d912f5',\n",
       "  u'list_date': u'2015-02-06',\n",
       "  u'maintenance_ratio': u'0.2500',\n",
       "  u'margin_initial_ratio': u'0.5000',\n",
       "  u'market': u'https://api.robinhood.com/markets/XNYS/',\n",
       "  u'min_tick_size': None,\n",
       "  u'name': u'JPMorgan Chase & Co.',\n",
       "  u'quote': u'https://api.robinhood.com/quotes/JPM-F/',\n",
       "  u'simple_name': None,\n",
       "  u'splits': u'https://api.robinhood.com/instruments/76f28bf1-938b-46ff-b664-b2e710d912f5/splits/',\n",
       "  u'state': u'active',\n",
       "  u'symbol': u'JPM-F',\n",
       "  u'tradability': u'untradable',\n",
       "  u'tradeable': False,\n",
       "  u'type': u'pfd',\n",
       "  u'url': u'https://api.robinhood.com/instruments/76f28bf1-938b-46ff-b664-b2e710d912f5/'},\n",
       " {u'bloomberg_unique': u'PFEP0490987',\n",
       "  u'country': u'US',\n",
       "  u'day_trade_ratio': u'0.2500',\n",
       "  u'fundamentals': u'https://api.robinhood.com/fundamentals/JPM-H/',\n",
       "  u'id': u'a43f2fac-cfcb-475b-9cb7-1a4dbda8666b',\n",
       "  u'list_date': u'2015-07-23',\n",
       "  u'maintenance_ratio': u'0.2500',\n",
       "  u'margin_initial_ratio': u'0.5000',\n",
       "  u'market': u'https://api.robinhood.com/markets/XNYS/',\n",
       "  u'min_tick_size': None,\n",
       "  u'name': u'JPMorgan Chase & Co.',\n",
       "  u'quote': u'https://api.robinhood.com/quotes/JPM-H/',\n",
       "  u'simple_name': None,\n",
       "  u'splits': u'https://api.robinhood.com/instruments/a43f2fac-cfcb-475b-9cb7-1a4dbda8666b/splits/',\n",
       "  u'state': u'active',\n",
       "  u'symbol': u'JPM-H',\n",
       "  u'tradability': u'untradable',\n",
       "  u'tradeable': False,\n",
       "  u'type': u'pfd',\n",
       "  u'url': u'https://api.robinhood.com/instruments/a43f2fac-cfcb-475b-9cb7-1a4dbda8666b/'},\n",
       " {u'bloomberg_unique': u'PFEP0487736',\n",
       "  u'country': u'US',\n",
       "  u'day_trade_ratio': u'0.2500',\n",
       "  u'fundamentals': u'https://api.robinhood.com/fundamentals/JPM-G/',\n",
       "  u'id': u'52b6c65e-5a2c-4047-ad79-46b19eeacec6',\n",
       "  u'list_date': u'2015-05-29',\n",
       "  u'maintenance_ratio': u'0.2500',\n",
       "  u'margin_initial_ratio': u'0.5000',\n",
       "  u'market': u'https://api.robinhood.com/markets/XNYS/',\n",
       "  u'min_tick_size': None,\n",
       "  u'name': u'JPMorgan Chase & Co.',\n",
       "  u'quote': u'https://api.robinhood.com/quotes/JPM-G/',\n",
       "  u'simple_name': None,\n",
       "  u'splits': u'https://api.robinhood.com/instruments/52b6c65e-5a2c-4047-ad79-46b19eeacec6/splits/',\n",
       "  u'state': u'active',\n",
       "  u'symbol': u'JPM-G',\n",
       "  u'tradability': u'untradable',\n",
       "  u'tradeable': False,\n",
       "  u'type': u'pfd',\n",
       "  u'url': u'https://api.robinhood.com/instruments/52b6c65e-5a2c-4047-ad79-46b19eeacec6/'},\n",
       " {u'bloomberg_unique': u'PFEP0455543',\n",
       "  u'country': u'US',\n",
       "  u'day_trade_ratio': u'0.2500',\n",
       "  u'fundamentals': u'https://api.robinhood.com/fundamentals/JPM-B/',\n",
       "  u'id': u'e27dfad5-944b-4f25-9c38-1d2f4b4ae4c3',\n",
       "  u'list_date': u'2014-01-27',\n",
       "  u'maintenance_ratio': u'0.2500',\n",
       "  u'margin_initial_ratio': u'0.5000',\n",
       "  u'market': u'https://api.robinhood.com/markets/XNYS/',\n",
       "  u'min_tick_size': None,\n",
       "  u'name': u'JPMorgan Chase & Co.',\n",
       "  u'quote': u'https://api.robinhood.com/quotes/JPM-B/',\n",
       "  u'simple_name': None,\n",
       "  u'splits': u'https://api.robinhood.com/instruments/e27dfad5-944b-4f25-9c38-1d2f4b4ae4c3/splits/',\n",
       "  u'state': u'active',\n",
       "  u'symbol': u'JPM-B',\n",
       "  u'tradability': u'untradable',\n",
       "  u'tradeable': False,\n",
       "  u'type': u'pfd',\n",
       "  u'url': u'https://api.robinhood.com/instruments/e27dfad5-944b-4f25-9c38-1d2f4b4ae4c3/'},\n",
       " {u'bloomberg_unique': u'PFEP0437715',\n",
       "  u'country': u'US',\n",
       "  u'day_trade_ratio': u'0.2500',\n",
       "  u'fundamentals': u'https://api.robinhood.com/fundamentals/JPM-A/',\n",
       "  u'id': u'da2b3423-6552-4f1a-b84e-af667b3a0097',\n",
       "  u'list_date': u'2013-01-31',\n",
       "  u'maintenance_ratio': u'0.2500',\n",
       "  u'margin_initial_ratio': u'0.5000',\n",
       "  u'market': u'https://api.robinhood.com/markets/XNYS/',\n",
       "  u'min_tick_size': None,\n",
       "  u'name': u'JPMorgan Chase & Co.',\n",
       "  u'quote': u'https://api.robinhood.com/quotes/JPM-A/',\n",
       "  u'simple_name': None,\n",
       "  u'splits': u'https://api.robinhood.com/instruments/da2b3423-6552-4f1a-b84e-af667b3a0097/splits/',\n",
       "  u'state': u'active',\n",
       "  u'symbol': u'JPM-A',\n",
       "  u'tradability': u'untradable',\n",
       "  u'tradeable': False,\n",
       "  u'type': u'pfd',\n",
       "  u'url': u'https://api.robinhood.com/instruments/da2b3423-6552-4f1a-b84e-af667b3a0097/'},\n",
       " {u'bloomberg_unique': u'PFEP0463984',\n",
       "  u'country': u'US',\n",
       "  u'day_trade_ratio': u'0.2500',\n",
       "  u'fundamentals': u'https://api.robinhood.com/fundamentals/JPM-E/',\n",
       "  u'id': u'27b7d200-63f9-49e4-a4b1-ebf1a53f49e3',\n",
       "  u'list_date': u'2014-06-17',\n",
       "  u'maintenance_ratio': u'0.2500',\n",
       "  u'margin_initial_ratio': u'0.5000',\n",
       "  u'market': u'https://api.robinhood.com/markets/XNYS/',\n",
       "  u'min_tick_size': None,\n",
       "  u'name': u'JPMorgan Chase & Co.',\n",
       "  u'quote': u'https://api.robinhood.com/quotes/JPM-E/',\n",
       "  u'simple_name': None,\n",
       "  u'splits': u'https://api.robinhood.com/instruments/27b7d200-63f9-49e4-a4b1-ebf1a53f49e3/splits/',\n",
       "  u'state': u'active',\n",
       "  u'symbol': u'JPM-E',\n",
       "  u'tradability': u'untradable',\n",
       "  u'tradeable': False,\n",
       "  u'type': u'pfd',\n",
       "  u'url': u'https://api.robinhood.com/instruments/27b7d200-63f9-49e4-a4b1-ebf1a53f49e3/'},\n",
       " {u'bloomberg_unique': u'EQ0000000007339303',\n",
       "  u'country': u'US',\n",
       "  u'day_trade_ratio': u'0.2500',\n",
       "  u'fundamentals': u'https://api.robinhood.com/fundamentals/JPM+/',\n",
       "  u'id': u'b81f88e9-ca91-4028-a8fb-1b8d66393697',\n",
       "  u'list_date': u'2010-09-01',\n",
       "  u'maintenance_ratio': u'0.2500',\n",
       "  u'margin_initial_ratio': u'0.5000',\n",
       "  u'market': u'https://api.robinhood.com/markets/XNYS/',\n",
       "  u'min_tick_size': None,\n",
       "  u'name': u'JPMorgan Chase',\n",
       "  u'quote': u'https://api.robinhood.com/quotes/JPM+/',\n",
       "  u'simple_name': u'JPMorgan Chase (Warrant)',\n",
       "  u'splits': u'https://api.robinhood.com/instruments/b81f88e9-ca91-4028-a8fb-1b8d66393697/splits/',\n",
       "  u'state': u'active',\n",
       "  u'symbol': u'JPM+',\n",
       "  u'tradability': u'position_closing_only',\n",
       "  u'tradeable': True,\n",
       "  u'type': u'wrt',\n",
       "  u'url': u'https://api.robinhood.com/instruments/b81f88e9-ca91-4028-a8fb-1b8d66393697/'}]"
      ]
     },
     "execution_count": 8,
     "metadata": {},
     "output_type": "execute_result"
    }
   ],
   "source": [
    "stock_inst"
   ]
  },
  {
   "cell_type": "code",
   "execution_count": null,
   "metadata": {
    "collapsed": true
   },
   "outputs": [],
   "source": []
  }
 ],
 "metadata": {
  "kernelspec": {
   "display_name": "Python 2",
   "language": "python",
   "name": "python2"
  },
  "language_info": {
   "codemirror_mode": {
    "name": "ipython",
    "version": 2
   },
   "file_extension": ".py",
   "mimetype": "text/x-python",
   "name": "python",
   "nbconvert_exporter": "python",
   "pygments_lexer": "ipython2",
   "version": "2.7.13"
  }
 },
 "nbformat": 4,
 "nbformat_minor": 2
}
