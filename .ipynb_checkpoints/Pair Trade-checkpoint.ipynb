{
 "cells": [
  {
   "cell_type": "code",
   "execution_count": 2,
   "metadata": {},
   "outputs": [
    {
     "name": "stderr",
     "output_type": "stream",
     "text": [
      "C:\\ProgramData\\Anaconda2\\lib\\site-packages\\fix_yahoo_finance\\__init__.py:43: DeprecationWarning: \n",
      "    Auto-overriding of pandas_datareader's get_data_yahoo() is deprecated and no longer available.\n",
      "    Use pdr_override() to explicitly override it.\n",
      "  DeprecationWarning)\n"
     ]
    }
   ],
   "source": [
    "from my_trader import *"
   ]
  },
  {
   "cell_type": "code",
   "execution_count": 143,
   "metadata": {},
   "outputs": [],
   "source": [
    "robinhood = get_robinhood()\n",
    "stock1 = \"UVXY\"\n",
    "stock2 = \"SPY\"\n",
    "window = 7\n",
    "initial = 500\n",
    "\n",
    "\n",
    "price1 = robinhood.get_historical(stock1,interval=\"10minute\",span = \"week\")\n",
    "price2 = robinhood.get_historical(stock2,interval=\"10minute\",span = \"week\")\n",
    "price1 = price1.set_index(\"begins_at\")\n",
    "price2 = price2.set_index(\"begins_at\")\n",
    "price1 = price1.rename(columns={\"close_price\":stock1+\"_close\"})\n",
    "price2 = price2.rename(columns={\"close_price\":stock2+\"_close\"})\n",
    "price_table = pd.concat([price1[stock1+\"_close\"],price2[stock2+\"_close\"]],axis = 1)\n",
    "price_table[stock1+\"_close\"] = price_table[stock1+\"_close\"].astype(float)\n",
    "price_table[stock2+\"_close\"] = price_table[stock2+\"_close\"].astype(float)\n",
    "price_table[stock1+\"_log_ret\"] = log(price_table[stock1+\"_close\"] / price_table[stock1+\"_close\"].shift(1))\n",
    "price_table[stock2+\"_log_ret\"] = log(price_table[stock2+\"_close\"] / price_table[stock2+\"_close\"].shift(1))\n",
    "price_table[stock1+\"_log_ret_mv\"] = price_table[stock1+\"_log_ret\"].rolling(window).mean()\n",
    "price_table[stock2+\"_log_ret_mv\"] =price_table[stock2+\"_log_ret\"].rolling(window).mean()\n",
    "price_table[\"relative\"]=price_table[stock1+\"_log_ret\"]/price_table[stock2+\"_log_ret\"]\n",
    "price_table[\"relative_mv\"] = price_table[\"relative\"].rolling(window).mean()\n",
    "#price_table[\"relative_mv\"]=price_table[stock1+\"_log_ret_mv\"]/price_table[stock2+\"_log_ret_mv\"]\n",
    "price_table[\"z_score\"] =( price_table[\"relative\"]-price_table[\"relative_mv\"])/price_table.relative.std()\n",
    "price_table[\"trade\"]=np.NaN\n",
    "price_table[\"slope\"]=np.NaN\n",
    "for i in range(6,len(price_table)):\n",
    "    price_table[\"slope\"].iloc[i] = stats.linregress(price_table[stock1+\"_log_ret\"].iloc[i-(window-1):i],price_table[stock2+\"_log_ret\"].iloc[i-6:i])[0]\n",
    "price_table[\"buy_line\"] = np.NaN\n",
    "for i in range(6,len(price_table)):\n",
    "    if price_table.slope.iloc[i]>0.5:\n",
    "        price_table[\"buy_line\"].iloc[i] = -1.25\n",
    "    elif price_table.slope.iloc[i]>0.75:\n",
    "        price_table[\"buy_line\"].iloc[i] -1.75\n",
    "    else:\n",
    "        price_table[\"buy_line\"].iloc[i] = -2\n",
    "price_table[\"sell_line\"] = np.NaN\n",
    "for i in range(window-1,len(price_table)):\n",
    "    if price_table.slope.iloc[i]>0.5:\n",
    "        price_table[\"sell_line\"].iloc[i] = 1.25\n",
    "    elif price_table.slope.iloc[i]>0.75:\n",
    "        price_table[\"sell_line\"].iloc[i] = 1.75\n",
    "    else:\n",
    "        price_table[\"sell_line\"].iloc[i] = 2  \n",
    "\n",
    "for i in range(window-1,len(price_table)):\n",
    "    if price_table.z_score.iloc[i] < price_table.buy_line.iloc[i]:\n",
    "        price_table.trade.iloc[i] = 1\n",
    "    elif price_table.z_score.iloc[i] > price_table.sell_line.iloc[i]:\n",
    "        price_table.trade.iloc[i] = 0\n",
    "    else:\n",
    "        price_table.trade.iloc[i] = price_table.trade.iloc[i-1]\n",
    "        \n",
    "        \n",
    "#price_table[\"cost_per_trade\"] =abs( price_table[stock1+\"_close\"]+price_table[stock2+\"_close\"]*price_table[\"relative_mv\"])\n",
    "price_table[stock1+\"_value\"] = initial/(1+price_table[\"relative_mv\"])\n",
    "price_table[stock2+\"_value\"] = initial/(1+price_table[\"relative_mv\"])*price_table[\"relative_mv\"]\n",
    "price_table[stock1+\"_shares\"] = price_table[stock1+\"_value\"]/price_table[stock1+\"_close\"]\n",
    "price_table[stock2+\"_shares\"] = price_table[stock2+\"_value\"]/price_table[stock2+\"_close\"]\n",
    "\n",
    "price_table[\"p_L\"] = price_table[stock1+\"_value\"] * price_table[stock1+\"_log_ret\"]*price_table.trade +  \\\n",
    "price_table[stock2+\"_value\"] * price_table[stock2+\"_log_ret\"]*price_table.trade"
   ]
  },
  {
   "cell_type": "code",
   "execution_count": 144,
   "metadata": {},
   "outputs": [
    {
     "data": {
      "text/plain": [
       "-23.63941020329416"
      ]
     },
     "execution_count": 144,
     "metadata": {},
     "output_type": "execute_result"
    }
   ],
   "source": [
    "price_table.p_L.sum()"
   ]
  },
  {
   "cell_type": "code",
   "execution_count": 118,
   "metadata": {
    "collapsed": true
   },
   "outputs": [],
   "source": [
    "initial = 500"
   ]
  },
  {
   "cell_type": "code",
   "execution_count": 119,
   "metadata": {},
   "outputs": [],
   "source": []
  },
  {
   "cell_type": "code",
   "execution_count": 140,
   "metadata": {},
   "outputs": [],
   "source": [
    "price_table.to_csv(\"price_table.csv\")"
   ]
  },
  {
   "cell_type": "code",
   "execution_count": null,
   "metadata": {
    "collapsed": true
   },
   "outputs": [],
   "source": []
  }
 ],
 "metadata": {
  "kernelspec": {
   "display_name": "Python 2",
   "language": "python",
   "name": "python2"
  },
  "language_info": {
   "codemirror_mode": {
    "name": "ipython",
    "version": 2
   },
   "file_extension": ".py",
   "mimetype": "text/x-python",
   "name": "python",
   "nbconvert_exporter": "python",
   "pygments_lexer": "ipython2",
   "version": "2.7.13"
  }
 },
 "nbformat": 4,
 "nbformat_minor": 2
}
