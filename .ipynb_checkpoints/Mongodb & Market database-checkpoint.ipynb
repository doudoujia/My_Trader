{
 "cells": [
  {
   "cell_type": "code",
   "execution_count": 2,
   "metadata": {},
   "outputs": [
    {
     "name": "stderr",
     "output_type": "stream",
     "text": [
      "/Library/Frameworks/Python.framework/Versions/2.7/lib/python2.7/site-packages/statsmodels/compat/pandas.py:56: FutureWarning: The pandas.core.datetools module is deprecated and will be removed in a future version. Please use the pandas.tseries module instead.\n",
      "  from pandas.core import datetools\n",
      "/Library/Frameworks/Python.framework/Versions/2.7/lib/python2.7/site-packages/fix_yahoo_finance/__init__.py:43: DeprecationWarning: \n",
      "    Auto-overriding of pandas_datareader's get_data_yahoo() is deprecated and no longer available.\n",
      "    Use pdr_override() to explicitly override it.\n",
      "  DeprecationWarning)\n"
     ]
    }
   ],
   "source": [
    "import pymongo\n",
    "from my_trader import *"
   ]
  },
  {
   "cell_type": "code",
   "execution_count": 552,
   "metadata": {},
   "outputs": [],
   "source": [
    "def get_ondemand_quote(sym):\n",
    "    api_key = 'b59b144a62e058b6c4e265c049dc679f'\n",
    "    sym = \"%2C\".join(sym)\n",
    "    # This is the required format for datetimes to access the API\n",
    "\n",
    "    api_url = 'https://marketdata.websol.barchart.com/getQuote.csv?' +\\\n",
    "                    'apikey={}&symbols={}&mode=D'\\\n",
    "                         .format(api_key,sym)\n",
    "\n",
    "    csvfile = pd.read_csv(api_url)\n",
    "    csvfile = csvfile.rename({\"symbol\":\"Ticker\",\"serverTimestamp\":\"TimeStamp\",\\\n",
    "                       \"open\":\"Open\",\"high\":\"High\",\"low\":\"Low\",\"close\":\"Close\",\\\n",
    "                       \"volume\":\"Volume\",\"lastPrice\":\"Adj Close\",\"netChange\":\"Return\"},axis=1)\n",
    "    #csvfile.set_index('timestamp', inplace=True)\n",
    "    return csvfile\n",
    "\n",
    "def get_all_quote():\n",
    "    result = pd.DataFrame()\n",
    "    all_stock = pd.read_csv(directory + \"Stock.csv\")\n",
    "    for i in range(199,len(all_stock),200):\n",
    "        tic_list = all_stock.Ticker[i-199:i]\n",
    "        result = result.append(get_ondemand_quote(tic_list))   \n",
    "    return result\n",
    "\n",
    "def query_database(stock, start_date = datetime.now()-timedelta(days =90),end_date=datetime.now()):\n",
    "    client = pymongo.MongoClient()\n",
    "    db = client[\"stocks_daily\"]\n",
    "    collection = db[stock]\n",
    "    start_date = datetime.now()-timedelta(days =90)\n",
    "    start_date=(start_date-datetime.utcfromtimestamp(0)).total_seconds()*1000\n",
    "    end_date=datetime.now()\n",
    "    end_date = (end_date-datetime.utcfromtimestamp(0)).total_seconds()*1000\n",
    "    get = collection.find({\"Ticker\":stock,\"TimeStamp\":{\"$gte\":start_date,\"$lt\":end_date}}).sort(\"TimeStamp\",pymongo.ASCENDING)\n",
    "    get_frame = pd.DataFrame(list(get))\n",
    "    get_frame[u'TimeStamp'] = get_frame[u'TimeStamp'].apply(lambda x: datetime.utcfromtimestamp(0) + timedelta(milliseconds= x))\n",
    "    get_frame = get_frame.loc[:,[\"TimeStamp\",'Adj Close','Close','High','Low','Open','Return','Ticker']]\n",
    "    get_frame = get_frame.dropna()\n",
    "    get_frame = get_frame.reindex()\n",
    "    return get_frame\n",
    "\n",
    "def frame_to_mongo(data,collection):\n",
    "    records = json.loads(data.T.to_json()).values()\n",
    "    collection.insert(records)\n",
    "def update_db(stock):\n",
    "\n",
    "    client = pymongo.MongoClient()\n",
    "    db = client[\"stocks_daily\"]\n",
    "    collection = db[stock]\n",
    "    quote = get_ondemand_quote([stock])\n",
    "    quote['TimeStamp'].loc[0]  = datetime.strptime(quote['TimeStamp'][0][0:10],\"%Y-%m-%d\")\n",
    "    quote = json.loads(quote.T.to_json()).values()[0]\n",
    "    collection.update({\"TimeStamp\":quote[u'TimeStamp']},{\"$set\": quote },upsert=True)\n",
    "\n",
    "def delete_duplicates(collection):\n",
    "    cursor = collection.aggregate(\n",
    "        [\n",
    "            {\"$group\": {\"_id\": \"$TimeStamp\", \"unique_id\": {\"$addToSet\": \"$_id\"}, \"count\": {\"$sum\": 1}}},\n",
    "            {\"$match\": {\"count\": { \"$gte\": 2 }}}\n",
    "        ]\n",
    "    )\n",
    "\n",
    "    response = []\n",
    "    for doc in cursor:\n",
    "        del doc[\"unique_id\"][0]\n",
    "        for id in doc[\"unique_id\"]:\n",
    "            response.append(id)\n",
    "\n",
    "    collection.delete_many({\"_id\": {\"$in\": response}})"
   ]
  },
  {
   "cell_type": "code",
   "execution_count": 553,
   "metadata": {},
   "outputs": [],
   "source": [
    "all_stock = pd.read_csv(directory+\"Stock.csv\")"
   ]
  },
  {
   "cell_type": "code",
   "execution_count": 556,
   "metadata": {},
   "outputs": [
    {
     "data": {
      "text/plain": [
       "0.013532410122242771"
      ]
     },
     "execution_count": 556,
     "metadata": {},
     "output_type": "execute_result"
    }
   ],
   "source": [
    "300.0/len(all_stock)"
   ]
  },
  {
   "cell_type": "code",
   "execution_count": null,
   "metadata": {},
   "outputs": [],
   "source": []
  }
 ],
 "metadata": {
  "kernelspec": {
   "display_name": "Python 2",
   "language": "python",
   "name": "python2"
  },
  "language_info": {
   "codemirror_mode": {
    "name": "ipython",
    "version": 2
   },
   "file_extension": ".py",
   "mimetype": "text/x-python",
   "name": "python",
   "nbconvert_exporter": "python",
   "pygments_lexer": "ipython2",
   "version": "2.7.14"
  }
 },
 "nbformat": 4,
 "nbformat_minor": 2
}
