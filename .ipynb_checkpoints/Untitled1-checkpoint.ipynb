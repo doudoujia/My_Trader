{
 "cells": [
  {
   "cell_type": "code",
   "execution_count": 3,
   "metadata": {},
   "outputs": [],
   "source": [
    "from my_lib import *\n",
    "from my_trader import *\n",
    "from my_strategies import *\n",
    "\n",
    "\n",
    "class bot:\n",
    "\n",
    "    def __init__(self):\n",
    "        flag = False\n",
    "        trail = 0 \n",
    "        while not flag and trail < 3:\n",
    "            try:\n",
    "                self.robinhood = get_robinhood()\n",
    "                self.robinhood.logout()\n",
    "                self.robinhood.login(\"lgyhz123\",\"5093945464lgyhz\")\n",
    "                self.tickers , self.quantity = self.robinhood.get_my_positions()\n",
    "                print \"logined\"\n",
    "                flag = True\n",
    "            except Exception as e:\n",
    "                print e\n",
    "                self.robinhood.logout()\n",
    "                trial += 1\n",
    "                continue\n",
    "    #this one has check up utility\n",
    "\n",
    "\n",
    "    def __exit__(self):\n",
    "        self.robinhood.logout\n",
    "        print \"logouted\"\n",
    "\n",
    "    def place_my_order_check(self):\n",
    "       # robinhood = get_robinhood()\n",
    "        #robinhood.logout()\n",
    "        #robinhood.login(\"lgyhz123\",\"5093945464lgyhz\")\n",
    "        get_stock = False\n",
    "        place_order = False\n",
    "        trail = 0\n",
    "        while (not get_stock and not place_order) or trail < 3:\n",
    "            try:\n",
    "                my_stock = pd.read_csv(\"file/Trade_suggestion_minute_1st\" + str(datetime.now()-timedelta(days=1))[0:10]+\".csv\")\n",
    "                my_stock = my_stock.rename(columns={\"Unnamed: 0\":\"Ticker\"})\n",
    "                print (\"Get suggestion succeed!\")\n",
    "                get_stock=True\n",
    "            except:\n",
    "                print (\"Get suggestion fail, stopping\")\n",
    "                trail += 1\n",
    "                continue\n",
    "            try:\n",
    "                my_stock[\"position_place_quantity\"]= np.ceil(((500/len(my_stock.Close))/my_stock.Close))\n",
    "                power = self.robinhood.get_buying_power()\n",
    "                print (\"Enough buying power\")\n",
    "                if np.dot(my_stock.position_place_quantity,my_stock.Close) < power:\n",
    "                    self.robinhood.place_buy_bulk_checkup(my_stock.Ticker, my_stock.position_place_quantity)\n",
    "                    self.robinhood.get_my_position_beta()\n",
    "                    plot_position(my_stock.Ticker, my_stock.position_place_quantity )\n",
    "                    place_order = True\n",
    "                else:\n",
    "                    print (\"Not enough buying power\")\n",
    "                    return\n",
    "            except Exception, e:\n",
    "                print e\n",
    "                trail += 1\n",
    "\n",
    "\n",
    "\n",
    "    def sell_previous_day(self):\n",
    "        #robinhood = get_robinhood()\n",
    "        #robinhood.logout()\n",
    "       # robinhood.my_trader.login(\"lgyhz123\",\"5093945464lgyhz\")\n",
    "        sell= False\n",
    "        trail = 0\n",
    "        while not sell and trail >3:\n",
    "            try:\n",
    "                sell_list = self.robinhood.get_last_order_ticker((datetime.now()-timedelta(days=0)).strftime(\"%Y-%m-%d\"))\n",
    "                print \"sell list\"\n",
    "                print sell_list\n",
    "                self.robinhood.place_sell_bulk_checkup(sell_list.Ticker,sell_list.Quantity)\n",
    "                sell = True\n",
    "               # robinhood.logout()\n",
    "            except Exception as e:\n",
    "                print e\n",
    "                trail += 1\n",
    "                continue\n",
    "\n",
    "\n",
    "    # first, get can_trade universe\n",
    "\n",
    "    def check_beta(self):\n",
    "       # robinhood = get_robinhood()\n",
    "        #robinhood.logout()\n",
    "        #robinhood.login(\"lgyhz123\",\"5093945464lgyhz\")\n",
    "        check= False\n",
    "        trail > 3\n",
    "        while not sell and trail >3:\n",
    "            try:\n",
    "                self.robinhood.get_my_position_beta_minute()\n",
    "                check = True\n",
    "       # robinhood.logout()\n",
    "            except Exception as e:\n",
    "                print e\n",
    "                trail += 1\n",
    "                continue\n",
    "\n",
    "        #robinhood.logout()\n",
    "\n",
    "\n",
    "    def mean_reversion_check(self):\n",
    "       # robinhood = get_robinhood()\n",
    "         flag = False\n",
    "         trail = 0\n",
    "         while not flag and trail < 3:\n",
    "             try:\n",
    "                self.robinhood.get_my_position_beta_minute()\n",
    "                for i in self.tickers:\n",
    "                    mean_reversion(self.tickers,\"minute\")\n",
    "                flag = True\n",
    "             except Exception as e:\n",
    "                 print (e);\n",
    "                 trail += 1\n",
    "                 continue\n",
    "       # robinhood.login(\"lgyhz123\",\"5093945464lgyhz\")\n",
    "\n",
    "        #robinhood.logout()\n",
    "\n",
    "    def plot(self):\n",
    "        #robinhood = get_robinhood()\n",
    "      #  robinhood.login(\"lgyhz123\",\"5093945464lgyhz\")\n",
    "         flag = False\n",
    "         trail = 0\n",
    "         while not flag and trail < 3:\n",
    "             try:\n",
    "                 plot_position(self.tickers,self.quantity)\n",
    "                 flag = True\n",
    "             except Exception as e:\n",
    "                 print (e);\n",
    "                 trail += 1\n",
    "                 continue\n",
    "            "
   ]
  },
  {
   "cell_type": "code",
   "execution_count": 5,
   "metadata": {},
   "outputs": [
    {
     "ename": "AttributeError",
     "evalue": "bot instance has no __call__ method",
     "output_type": "error",
     "traceback": [
      "\u001b[1;31m---------------------------------------------------------------------------\u001b[0m",
      "\u001b[1;31mAttributeError\u001b[0m                            Traceback (most recent call last)",
      "\u001b[1;32m<ipython-input-5-5b884832b29b>\u001b[0m in \u001b[0;36m<module>\u001b[1;34m()\u001b[0m\n\u001b[1;32m----> 1\u001b[1;33m \u001b[0mbot\u001b[0m \u001b[1;33m=\u001b[0m \u001b[0mbot\u001b[0m\u001b[1;33m(\u001b[0m\u001b[1;33m)\u001b[0m\u001b[1;33m\u001b[0m\u001b[0m\n\u001b[0m",
      "\u001b[1;31mAttributeError\u001b[0m: bot instance has no __call__ method"
     ]
    }
   ],
   "source": [
    "bot = bot()"
   ]
  },
  {
   "cell_type": "code",
   "execution_count": 11,
   "metadata": {},
   "outputs": [
    {
     "ename": "UnboundLocalError",
     "evalue": "local variable 'trail' referenced before assignment",
     "output_type": "error",
     "traceback": [
      "\u001b[1;31m---------------------------------------------------------------------------\u001b[0m",
      "\u001b[1;31mUnboundLocalError\u001b[0m                         Traceback (most recent call last)",
      "\u001b[1;32m<ipython-input-11-c82938c6773a>\u001b[0m in \u001b[0;36m<module>\u001b[1;34m()\u001b[0m\n\u001b[1;32m----> 1\u001b[1;33m \u001b[0mbot\u001b[0m\u001b[1;33m.\u001b[0m\u001b[0msell_previous_day\u001b[0m\u001b[1;33m(\u001b[0m\u001b[1;33m)\u001b[0m\u001b[1;33m\u001b[0m\u001b[0m\n\u001b[0m",
      "\u001b[1;32m<ipython-input-3-6862cbeda2fd>\u001b[0m in \u001b[0;36msell_previous_day\u001b[1;34m(self)\u001b[0m\n\u001b[0;32m     69\u001b[0m        \u001b[1;31m# robinhood.my_trader.login(\"lgyhz123\",\"5093945464lgyhz\")\u001b[0m\u001b[1;33m\u001b[0m\u001b[1;33m\u001b[0m\u001b[0m\n\u001b[0;32m     70\u001b[0m         \u001b[0msell\u001b[0m\u001b[1;33m=\u001b[0m \u001b[0mFalse\u001b[0m\u001b[1;33m\u001b[0m\u001b[0m\n\u001b[1;32m---> 71\u001b[1;33m         \u001b[0mtrail\u001b[0m \u001b[1;33m>\u001b[0m \u001b[1;36m3\u001b[0m\u001b[1;33m\u001b[0m\u001b[0m\n\u001b[0m\u001b[0;32m     72\u001b[0m         \u001b[1;32mwhile\u001b[0m \u001b[1;32mnot\u001b[0m \u001b[0msell\u001b[0m \u001b[1;32mand\u001b[0m \u001b[0mtrail\u001b[0m \u001b[1;33m>\u001b[0m\u001b[1;36m3\u001b[0m\u001b[1;33m:\u001b[0m\u001b[1;33m\u001b[0m\u001b[0m\n\u001b[0;32m     73\u001b[0m             \u001b[1;32mtry\u001b[0m\u001b[1;33m:\u001b[0m\u001b[1;33m\u001b[0m\u001b[0m\n",
      "\u001b[1;31mUnboundLocalError\u001b[0m: local variable 'trail' referenced before assignment"
     ]
    }
   ],
   "source": [
    "bot.sell_previous_day()"
   ]
  },
  {
   "cell_type": "code",
   "execution_count": 6,
   "metadata": {},
   "outputs": [
    {
     "name": "stdout",
     "output_type": "stream",
     "text": [
      "Bar1 init running\n",
      "Foo init running\n"
     ]
    }
   ],
   "source": [
    "class Foo(object):\n",
    "    def __init__(self):\n",
    "        print(\"Foo init running\")\n",
    "\n",
    "    def __del__(self):\n",
    "        print(\"Destructor Foo\")\n",
    "\n",
    "class Bar(object):\n",
    "    def __init__(self):\n",
    "        print(\"Bar1 init running\")\n",
    "        self.bar = self\n",
    "        self.foo = Foo()\n",
    "\n",
    "b = Bar()\n",
    "\n",
    "# del b"
   ]
  },
  {
   "cell_type": "code",
   "execution_count": 10,
   "metadata": {},
   "outputs": [
    {
     "name": "stdout",
     "output_type": "stream",
     "text": [
      "Foo init running\n"
     ]
    }
   ],
   "source": [
    "f = Foo()"
   ]
  },
  {
   "cell_type": "code",
   "execution_count": null,
   "metadata": {
    "collapsed": true
   },
   "outputs": [],
   "source": []
  }
 ],
 "metadata": {
  "kernelspec": {
   "display_name": "Python 2",
   "language": "python",
   "name": "python2"
  },
  "language_info": {
   "codemirror_mode": {
    "name": "ipython",
    "version": 2
   },
   "file_extension": ".py",
   "mimetype": "text/x-python",
   "name": "python",
   "nbconvert_exporter": "python",
   "pygments_lexer": "ipython2",
   "version": "2.7.13"
  }
 },
 "nbformat": 4,
 "nbformat_minor": 2
}
