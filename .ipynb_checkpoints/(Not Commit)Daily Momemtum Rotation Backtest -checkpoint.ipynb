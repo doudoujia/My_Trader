{
 "cells": [
  {
   "cell_type": "code",
   "execution_count": 1,
   "metadata": {},
   "outputs": [
    {
     "name": "stderr",
     "output_type": "stream",
     "text": [
      "C:\\ProgramData\\Anaconda2\\lib\\site-packages\\fix_yahoo_finance\\__init__.py:43: DeprecationWarning: \n",
      "    Auto-overriding of pandas_datareader's get_data_yahoo() is deprecated and no longer available.\n",
      "    Use pdr_override() to explicitly override it.\n",
      "  DeprecationWarning)\n"
     ]
    }
   ],
   "source": [
    "from my_lib import *\n",
    "from my_strategies import *\n",
    "from my_trader import *"
   ]
  },
  {
   "cell_type": "code",
   "execution_count": 5,
   "metadata": {
    "collapsed": true
   },
   "outputs": [],
   "source": [
    "robinhood = get_robinhood()\n",
    "robinhood.login(\"lgyhz123\",\"5093945464lgyhz\")"
   ]
  },
  {
   "cell_type": "code",
   "execution_count": 6,
   "metadata": {},
   "outputs": [
    {
     "name": "stdout",
     "output_type": "stream",
     "text": [
      "UVXY 30.0000\n",
      "ZNGA 1.0000\n",
      "IEP 3.0000\n",
      "WLK 1.0000\n",
      "DG 1.0000\n"
     ]
    }
   ],
   "source": [
    "tickers, quantity = robinhood.get_my_positions()"
   ]
  },
  {
   "cell_type": "code",
   "execution_count": 24,
   "metadata": {
    "collapsed": true
   },
   "outputs": [],
   "source": [
    "def get_protfolio(tickers,quantity):\n",
    "    temp = da.DataReader(tickers[0],\"yahoo\",datetime.now()-timedelta(days=90),datetime.now())\n",
    "    data = pd.DataFrame(index=temp.index)\n",
    "    temp = temp.rename(columns={\"Adj Close\":str(tickers[0]) + \"_Close\"})\n",
    "    temp = temp.rename(columns={\"High\":str(tickers[0]) + \"_High\"})\n",
    "    temp = temp.rename(columns={\"Low\":str(tickers[0]) + \"_Low\"})\n",
    "    temp = temp.rename(columns={\"Open\":str(tickers[0]) + \"_Open\"})\n",
    "    data = pd.concat([data,temp[[str(tickers[0]) + \"_Close\",str(tickers[0]) + \"_High\",str(tickers[0]) + \"_Low\",str(tickers[0]) + \"_Open\"]]], axis=1)\n",
    "    for i in tickers[1:]:\n",
    "        temp = da.DataReader(i,\"yahoo\",datetime.now()-timedelta(days=90),datetime.now())\n",
    "        temp = temp.rename(columns={\"Adj Close\":str(i) + \"_Close\"})\n",
    "        temp = temp.rename(columns={\"High\":str(i) + \"_High\"})\n",
    "        temp = temp.rename(columns={\"Low\":str(i) + \"_Low\"})\n",
    "        temp = temp.rename(columns={\"Open\":str(i) + \"_Open\"})\n",
    "        data = pd.concat([data,temp[[str(i) + \"_Close\",str(i) + \"_High\",str(i) + \"_Low\",str(i) + \"_Open\"]]], axis=1)\n",
    "    data_weighted = pd.DataFrame(index = data.index)\n",
    "    for i, j in zip(data.columns,range(len(data.columns))):\n",
    "        #j = int(np.ceil(j / 3))\n",
    "        j = j/4\n",
    "        data_weighted = pd.concat([data_weighted,data[i] * quantity[j]],axis=1)\n",
    "    data_weighted[\"Sum_Close\"] = data_weighted.filter(regex=\"Close\").sum(axis=1)\n",
    "    data_weighted[\"Sum_High\"] = data_weighted.filter(regex=\"High\").sum(axis=1)\n",
    "    data_weighted[\"Sum_Low\"] = data_weighted.filter(regex=\"Low\").sum(axis=1)\n",
    "    data_weighted[\"Sum_Open\"] = data_weighted.filter(regex=\"Open\").sum(axis=1)\n",
    "    #one day trade backtest\n",
    "    data_weighted[\"intraday_return\"] = data_weighted.Sum_Close - data_weighted.Sum_Open\n",
    "    data_weighted[\"intraday_return_prt\"] = (data_weighted.Sum_Close - data_weighted.Sum_Open)/data_weighted.Sum_Close\n",
    "\n",
    "    return data_weighted\n",
    "\n"
   ]
  },
  {
   "cell_type": "code",
   "execution_count": 21,
   "metadata": {},
   "outputs": [],
   "source": [
    "data_weighted=get_protfolio(tickers,quantity)"
   ]
  },
  {
   "cell_type": "code",
   "execution_count": 23,
   "metadata": {},
   "outputs": [
    {
     "data": {
      "text/plain": [
       "-0.0028849809948372812"
      ]
     },
     "execution_count": 23,
     "metadata": {},
     "output_type": "execute_result"
    }
   ],
   "source": [
    "data_weighted.intraday_return_prt.mean()"
   ]
  },
  {
   "cell_type": "code",
   "execution_count": null,
   "metadata": {
    "collapsed": true
   },
   "outputs": [],
   "source": []
  }
 ],
 "metadata": {
  "kernelspec": {
   "display_name": "Python 2",
   "language": "python",
   "name": "python2"
  },
  "language_info": {
   "codemirror_mode": {
    "name": "ipython",
    "version": 2
   },
   "file_extension": ".py",
   "mimetype": "text/x-python",
   "name": "python",
   "nbconvert_exporter": "python",
   "pygments_lexer": "ipython2",
   "version": "2.7.13"
  }
 },
 "nbformat": 4,
 "nbformat_minor": 2
}
