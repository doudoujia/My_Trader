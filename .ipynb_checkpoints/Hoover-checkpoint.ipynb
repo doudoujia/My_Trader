{
 "cells": [
  {
   "cell_type": "code",
   "execution_count": 1,
   "metadata": {
    "scrolled": false
   },
   "outputs": [
    {
     "name": "stderr",
     "output_type": "stream",
     "text": [
      "/Library/Frameworks/Python.framework/Versions/2.7/lib/python2.7/site-packages/statsmodels/compat/pandas.py:56: FutureWarning: The pandas.core.datetools module is deprecated and will be removed in a future version. Please use the pandas.tseries module instead.\n",
      "  from pandas.core import datetools\n",
      "/Library/Frameworks/Python.framework/Versions/2.7/lib/python2.7/site-packages/fix_yahoo_finance/__init__.py:43: DeprecationWarning: \n",
      "    Auto-overriding of pandas_datareader's get_data_yahoo() is deprecated and no longer available.\n",
      "    Use pdr_override() to explicitly override it.\n",
      "  DeprecationWarning)\n"
     ]
    }
   ],
   "source": [
    "from my_trader import *\n",
    "import pandas as pd\n",
    "import numpy as np\n",
    "from selenium import webdriver\n",
    "import urllib2\n",
    "import time\n",
    "import re\n",
    "\n",
    "from selenium.webdriver.support.ui import WebDriverWait\n",
    "from selenium.webdriver.support.ui import Select\n",
    "from selenium.webdriver.support import expected_conditions as EC\n",
    "from selenium.webdriver.common.by import By\n",
    "from selenium.common.exceptions import TimeoutException\n",
    "from selenium.webdriver.common.action_chains import ActionChains\n",
    "\n",
    "\n",
    "def create_driver_session(session_id, executor_url):\n",
    "    from selenium.webdriver.remote.webdriver import WebDriver as RemoteWebDriver\n",
    "\n",
    "    # Save the original function, so we can revert our patch\n",
    "    org_command_execute = RemoteWebDriver.execute\n",
    "\n",
    "    def new_command_execute(self, command, params=None):\n",
    "        if command == \"newSession\":\n",
    "            # Mock the response\n",
    "            return {'success': 0, 'value': None, 'sessionId': session_id}\n",
    "        else:\n",
    "            return org_command_execute(self, command, params)\n",
    "\n",
    "    # Patch the function before creating the driver object\n",
    "    RemoteWebDriver.execute = new_command_execute\n",
    "\n",
    "    new_driver = webdriver.Remote(command_executor=executor_url, desired_capabilities={})\n",
    "    new_driver.session_id = session_id\n",
    "\n",
    "    # Replace the patched function with original function\n",
    "    RemoteWebDriver.execute = org_command_execute\n",
    "\n",
    "    return new_driver"
   ]
  },
  {
   "cell_type": "code",
   "execution_count": 11,
   "metadata": {},
   "outputs": [],
   "source": [
    "driver=webdriver.Firefox()\n",
    "session_id =driver.session_id\n",
    "executor_url =driver.command_executor._url"
   ]
  },
  {
   "cell_type": "code",
   "execution_count": 12,
   "metadata": {},
   "outputs": [],
   "source": [
    "driver.get('https://signon.onesource.com/Web/Logon/Signin.aspx')\n",
    "time.sleep(5)\n",
    "driver.implicitly_wait(5)\n",
    "driver.find_element_by_id(\"username\").clear()\n",
    "driver.find_element_by_id(\"username\").send_keys(\"hli@calasiancc.org\")\n",
    "driver.find_element_by_id(\"password\").clear()\n",
    "driver.find_element_by_id(\"password\").send_keys(\"dbhoovers1\")\n",
    "driver.find_element_by_id(\"btnSignIn\").click()\n",
    "time.sleep(5)\n",
    "driver.implicitly_wait(10)\n",
    "driver.find_element_by_link_text(\"Lists\").click()\n",
    "time.sleep(5)\n",
    "driver.implicitly_wait(10)\n",
    "\n",
    "# list selector\n",
    "i = 0\n",
    "list_ele = driver.find_elements_by_class_name(\"name-row\")\n",
    "get = list_ele[0]\n",
    "get.find_element_by_tag_name(\"a\").click()"
   ]
  },
  {
   "cell_type": "code",
   "execution_count": 13,
   "metadata": {},
   "outputs": [],
   "source": [
    "i = 3\n",
    "company_list = driver.find_elements_by_class_name(\"clickable\")\n",
    "driver.implicitly_wait(10)\n",
    "get_company = company_list[i]\n",
    "driver.execute_script(\"return arguments[0].scrollIntoView();\", get_company)\n",
    "driver.execute_script(\"arguments[0].click();\", get_company)\n",
    "#company_list[i].click()"
   ]
  },
  {
   "cell_type": "code",
   "execution_count": 87,
   "metadata": {
    "scrolled": true
   },
   "outputs": [
    {
     "data": {
      "text/plain": [
       "<pymongo.results.InsertOneResult at 0x10c3d6f80>"
      ]
     },
     "execution_count": 87,
     "metadata": {},
     "output_type": "execute_result"
    }
   ],
   "source": [
    "#get basic information\n",
    "info = {}\n",
    "data = driver.find_elements_by_class_name(\"data-container\")\n",
    "for i in range(len(data)):\n",
    "    \n",
    "    try:\n",
    "        label=data[i].find_element_by_class_name(\"data-label\")\n",
    "    except:\n",
    "        continue \n",
    "        #label=data[i].find_element_by_class_name(\"data-label wide\")\n",
    "    value=data[i].find_elements_by_class_name(\"data-value\")\n",
    "    value = value[0].text\n",
    "    label = label.text\n",
    "    label = label.encode('ascii','ignore')\n",
    "    info[label] = value\n",
    "address = driver.find_element_by_class_name(\"company-address\").text\n",
    "company_name = driver.find_element_by_class_name(\"name\").text\n",
    "info[\"address\"] = address\n",
    "info[\"company_name\"] = company_name\n",
    "mongodb.db[\"hoover_data\"].insert_one(info)\n",
    "\n",
    "#get description about the company\n",
    "\n",
    "data_title = [\"description\",\"industry\",\"highlights\"]\n",
    "description=pd.DataFrame()\n",
    "for i in data_title:\n",
    "    get_temp = driver.find_element_by_class_name(\"highlights\")\n",
    "    get_temp = get_temp.text.split(\"\\n\")\n",
    "    #get_temp = get_temp.text.split(\":\")\n",
    "for i in range(len(get_temp)):\n",
    "    get_temp[i] = get_temp[i].encode('ascii','ignore')\n",
    "    get = get_temp[i].split(\":\")\n",
    "    description = description.append([get])\n",
    "description = description.set_index(0)\n",
    "description=json.loads(description.to_json()).values()[0]\n",
    "mongodb.db[\"hoover_data\"].update_one({\"company_name\":company_name},{\"$set\":description},upsert=True)\n",
    "\n",
    "#---------------------------\n",
    "def render_text_contact(get_temp):\n",
    "    #flag = False\n",
    "    result = pd.DataFrame()\n",
    "    get_temp = get_temp.text.split(\"\\n\")\n",
    "    header=[\"name\",\"position\",\"location\",\"industry\"]\n",
    "    count_header = 0\n",
    "    #get_temp = get_temp.text.split(\":\")\n",
    "    for i in range(len(get_temp)):\n",
    "        get_temp[i] = get_temp[i].encode('ascii','ignore')\n",
    "        if \":\" in get_temp[i]:\n",
    "            #flag = True\n",
    "            get = get_temp[i].split(\":\")\n",
    "            result = result.append([get])\n",
    "            \n",
    "        else:\n",
    "            result = result.append([[header[count_header],get_temp[i]]])\n",
    "            count_header +=1\n",
    "        \n",
    "    result = result.reindex()    \n",
    "    return result\n",
    "#---------------------------\n",
    "contacts = driver.find_element_by_id(\"totalContacts\").text\n",
    "contacts = int(contacts)\n",
    "if contacts != 0:\n",
    "    driver.find_element_by_id(\"company_contacts\").click()\n",
    "    # find contact\n",
    "contacts = driver.find_element_by_id(\"totalContacts\").text\n",
    "contacts = int(contacts)\n",
    "if contacts != 0:\n",
    "    driver.find_element_by_id(\"company_contacts\").click()\n",
    "    contacts = driver.find_elements_by_class_name(\"detail-container\")\n",
    "\n",
    "    contacts = driver.find_elements_by_class_name(\"search-result-container\")\n",
    "    result = pd.DataFrame()\n",
    "    for i in range(len(contacts)):\n",
    "\n",
    "        result = result.append(render_text_contact(contacts[i]))\n",
    "\n",
    "    # reindexing\n",
    "\n",
    "    for i in range(len(result)):\n",
    "        index_name = i/4\n",
    "        result.iloc[i].name=index_name\n",
    "    x=range(len(result.index)/5 )\n",
    "    index_name=np.repeat(x,5)\n",
    "    result.index = index_name\n",
    "\n",
    "    # organize contact in to a dataframe\n",
    "    new_result = pd.DataFrame()\n",
    "    for i in list(set(result.index)):\n",
    "        new_result= new_result.append([list(result.loc[i].T.iloc[1].values)])\n",
    "    new_result.columns=list(result.loc[0].T[0:1].iloc[0])  \n",
    "time.sleep(3)\n",
    "driver.implicitly_wait(10)    \n",
    "driver.back()\n",
    "new_result = json.loads(new_result.T.to_json()).values()\n",
    "mongodb.db[\"hoover_data\"].update_one({\"company_name\":company_name},{\"$set\":{\"contact\":new_result}},upsert=True)"
   ]
  },
  {
   "cell_type": "code",
   "execution_count": 126,
   "metadata": {},
   "outputs": [
    {
     "data": {
      "text/plain": [
       "<pymongo.results.UpdateResult at 0x10e7de2d8>"
      ]
     },
     "execution_count": 126,
     "metadata": {},
     "output_type": "execute_result"
    }
   ],
   "source": []
  },
  {
   "cell_type": "code",
   "execution_count": 245,
   "metadata": {},
   "outputs": [],
   "source": [
    "#page info\n",
    "\n",
    "current_page = driver.find_element_by_class_name(\"current-page\")\n",
    "current_page=current_page.get_attribute('innerHTML')\n",
    "current_page = int(current_page)\n",
    "\n",
    "total_page = driver.find_element_by_class_name(\"total-page\")\n",
    "total_page=total_page.get_attribute('innerHTML')\n",
    "total_page = int(total_page)\n",
    "\n",
    "\n",
    "if total_page > current_page:\n",
    "    next_page = driver.find_element_by_class_name(\"next-page\")\n",
    "    driver.execute_script(\"arguments[0].click();\", next_page)\n",
    "else:\n",
    "    break"
   ]
  },
  {
   "cell_type": "code",
   "execution_count": 3,
   "metadata": {},
   "outputs": [],
   "source": [
    "mongodb = mongo(\"hoover\")"
   ]
  },
  {
   "cell_type": "code",
   "execution_count": 113,
   "metadata": {
    "collapsed": true
   },
   "outputs": [
    {
     "data": {
      "text/html": [
       "<div>\n",
       "<style scoped>\n",
       "    .dataframe tbody tr th:only-of-type {\n",
       "        vertical-align: middle;\n",
       "    }\n",
       "\n",
       "    .dataframe tbody tr th {\n",
       "        vertical-align: top;\n",
       "    }\n",
       "\n",
       "    .dataframe thead th {\n",
       "        text-align: right;\n",
       "    }\n",
       "</style>\n",
       "<table border=\"1\" class=\"dataframe\">\n",
       "  <thead>\n",
       "    <tr style=\"text-align: right;\">\n",
       "      <th></th>\n",
       "      <th></th>\n",
       "      <th>Annual Sales:</th>\n",
       "      <th>Company Type:</th>\n",
       "      <th>Corporate Highlights</th>\n",
       "      <th>D-U-N-S Number</th>\n",
       "      <th>D-U-N-S Number:</th>\n",
       "      <th>Employees:</th>\n",
       "      <th>Incorporation Date</th>\n",
       "      <th>Industry:</th>\n",
       "      <th>Key ID Number:</th>\n",
       "      <th>Latitude</th>\n",
       "      <th>Longitude</th>\n",
       "      <th>Minority Owned</th>\n",
       "      <th>Reporting Currency:</th>\n",
       "      <th>Tel:</th>\n",
       "      <th>Tradestyle</th>\n",
       "      <th>_id</th>\n",
       "      <th>address</th>\n",
       "      <th>company_name</th>\n",
       "    </tr>\n",
       "  </thead>\n",
       "  <tbody>\n",
       "    <tr>\n",
       "      <th>0</th>\n",
       "      <td></td>\n",
       "      <td>41k</td>\n",
       "      <td>Private Independent</td>\n",
       "      <td>None</td>\n",
       "      <td>080983889</td>\n",
       "      <td>08-098-3889</td>\n",
       "      <td>1 (This Site) 1 (All Sites)</td>\n",
       "      <td>2017</td>\n",
       "      <td>Nonclassifiable Establishments</td>\n",
       "      <td>278850734</td>\n",
       "      <td>38.589226</td>\n",
       "      <td>-121.405677</td>\n",
       "      <td>True</td>\n",
       "      <td>USD</td>\n",
       "      <td>916-549-8959</td>\n",
       "      <td>Alexander Builds</td>\n",
       "      <td>5aa464e57ed7aa452174aa62</td>\n",
       "      <td>2020 Hurley Way Ste 225\\nSacramento, Californi...</td>\n",
       "      <td>Bryan Alexander</td>\n",
       "    </tr>\n",
       "  </tbody>\n",
       "</table>\n",
       "</div>"
      ],
      "text/plain": [
       "    Annual Sales:        Company Type: Corporate Highlights D-U-N-S Number  \\\n",
       "0             41k  Private Independent                 None      080983889   \n",
       "\n",
       "  D-U-N-S Number:                   Employees: Incorporation Date  \\\n",
       "0     08-098-3889  1 (This Site) 1 (All Sites)               2017   \n",
       "\n",
       "                        Industry: Key ID Number:    Latitude     Longitude  \\\n",
       "0  Nonclassifiable Establishments      278850734   38.589226   -121.405677   \n",
       "\n",
       "  Minority Owned Reporting Currency:          Tel:         Tradestyle  \\\n",
       "0           True                 USD  916-549-8959   Alexander Builds   \n",
       "\n",
       "                        _id  \\\n",
       "0  5aa464e57ed7aa452174aa62   \n",
       "\n",
       "                                             address     company_name  \n",
       "0  2020 Hurley Way Ste 225\\nSacramento, Californi...  Bryan Alexander  "
      ]
     },
     "execution_count": 113,
     "metadata": {},
     "output_type": "execute_result"
    }
   ],
   "source": [
    "pd.DataFrame(list(mongodb.db[\"hoover_data\"].find()))"
   ]
  },
  {
   "cell_type": "code",
   "execution_count": 98,
   "metadata": {
    "scrolled": true
   },
   "outputs": [
    {
     "data": {
      "text/plain": [
       "<selenium.webdriver.firefox.webelement.FirefoxWebElement (session=\"b5c77f41-a284-ec43-bee1-6674bbc8ea2c\", element=\"54e34c9d-45e5-144b-93bc-a4b7d24bd501\")>"
      ]
     },
     "execution_count": 98,
     "metadata": {},
     "output_type": "execute_result"
    }
   ],
   "source": [
    "contacts[i]"
   ]
  },
  {
   "cell_type": "code",
   "execution_count": 67,
   "metadata": {},
   "outputs": [
    {
     "ename": "AttributeError",
     "evalue": "'list' object has no attribute 'to_json'",
     "output_type": "error",
     "traceback": [
      "\u001b[0;31m---------------------------------------------------------------------------\u001b[0m",
      "\u001b[0;31mAttributeError\u001b[0m                            Traceback (most recent call last)",
      "\u001b[0;32m<ipython-input-67-94cbf7da86d3>\u001b[0m in \u001b[0;36m<module>\u001b[0;34m()\u001b[0m\n\u001b[0;32m----> 1\u001b[0;31m \u001b[0mdescription\u001b[0m\u001b[0;34m=\u001b[0m\u001b[0mjson\u001b[0m\u001b[0;34m.\u001b[0m\u001b[0mloads\u001b[0m\u001b[0;34m(\u001b[0m\u001b[0mdescription\u001b[0m\u001b[0;34m.\u001b[0m\u001b[0mto_json\u001b[0m\u001b[0;34m(\u001b[0m\u001b[0;34m)\u001b[0m\u001b[0;34m)\u001b[0m\u001b[0;34m.\u001b[0m\u001b[0mvalues\u001b[0m\u001b[0;34m(\u001b[0m\u001b[0;34m)\u001b[0m\u001b[0;34m\u001b[0m\u001b[0m\n\u001b[0m",
      "\u001b[0;31mAttributeError\u001b[0m: 'list' object has no attribute 'to_json'"
     ]
    }
   ],
   "source": [
    "description=json.loads(description.to_json()).values()"
   ]
  },
  {
   "cell_type": "code",
   "execution_count": 75,
   "metadata": {},
   "outputs": [
    {
     "data": {
      "text/plain": [
       "u' 2017'"
      ]
     },
     "execution_count": 75,
     "metadata": {},
     "output_type": "execute_result"
    }
   ],
   "source": [
    "description['Incorporation Date']"
   ]
  },
  {
   "cell_type": "code",
   "execution_count": 107,
   "metadata": {},
   "outputs": [
    {
     "ename": "AttributeError",
     "evalue": "'dict' object has no attribute 'to_json'",
     "output_type": "error",
     "traceback": [
      "\u001b[0;31m---------------------------------------------------------------------------\u001b[0m",
      "\u001b[0;31mAttributeError\u001b[0m                            Traceback (most recent call last)",
      "\u001b[0;32m<ipython-input-107-2dd7f03bfd12>\u001b[0m in \u001b[0;36m<module>\u001b[0;34m()\u001b[0m\n\u001b[0;32m----> 1\u001b[0;31m \u001b[0mnew_result\u001b[0m \u001b[0;34m=\u001b[0m \u001b[0mjson\u001b[0m\u001b[0;34m.\u001b[0m\u001b[0mloads\u001b[0m\u001b[0;34m(\u001b[0m\u001b[0mnew_result\u001b[0m\u001b[0;34m.\u001b[0m\u001b[0mto_json\u001b[0m\u001b[0;34m(\u001b[0m\u001b[0;34m)\u001b[0m\u001b[0;34m)\u001b[0m\u001b[0;34m.\u001b[0m\u001b[0mvalues\u001b[0m\u001b[0;34m(\u001b[0m\u001b[0;34m)\u001b[0m\u001b[0;34m\u001b[0m\u001b[0m\n\u001b[0m",
      "\u001b[0;31mAttributeError\u001b[0m: 'dict' object has no attribute 'to_json'"
     ]
    }
   ],
   "source": [
    "new_result = json.loads(new_result.to_json()).values()"
   ]
  },
  {
   "cell_type": "code",
   "execution_count": 115,
   "metadata": {},
   "outputs": [
    {
     "data": {
      "text/html": [
       "<div>\n",
       "<style scoped>\n",
       "    .dataframe tbody tr th:only-of-type {\n",
       "        vertical-align: middle;\n",
       "    }\n",
       "\n",
       "    .dataframe tbody tr th {\n",
       "        vertical-align: top;\n",
       "    }\n",
       "\n",
       "    .dataframe thead th {\n",
       "        text-align: right;\n",
       "    }\n",
       "</style>\n",
       "<table border=\"1\" class=\"dataframe\">\n",
       "  <thead>\n",
       "    <tr style=\"text-align: right;\">\n",
       "      <th></th>\n",
       "      <th>name</th>\n",
       "      <th>position</th>\n",
       "      <th>location</th>\n",
       "      <th>industry</th>\n",
       "      <th>Main</th>\n",
       "    </tr>\n",
       "  </thead>\n",
       "  <tbody>\n",
       "    <tr>\n",
       "      <th>0</th>\n",
       "      <td>Tim Costa</td>\n",
       "      <td>President at W B Wright, Inc</td>\n",
       "      <td>Sacramento, California, United States</td>\n",
       "      <td>Food Manufacturing</td>\n",
       "      <td>916-443-2346</td>\n",
       "    </tr>\n",
       "  </tbody>\n",
       "</table>\n",
       "</div>"
      ],
      "text/plain": [
       "        name                      position  \\\n",
       "0  Tim Costa  President at W B Wright, Inc   \n",
       "\n",
       "                                location            industry           Main  \n",
       "0  Sacramento, California, United States  Food Manufacturing   916-443-2346  "
      ]
     },
     "execution_count": 115,
     "metadata": {},
     "output_type": "execute_result"
    }
   ],
   "source": [
    "new_result"
   ]
  },
  {
   "cell_type": "code",
   "execution_count": 124,
   "metadata": {},
   "outputs": [],
   "source": [
    "new_result=json.loads(new_result.T.to_json()).values()"
   ]
  },
  {
   "cell_type": "code",
   "execution_count": 125,
   "metadata": {},
   "outputs": [
    {
     "data": {
      "text/plain": [
       "<pymongo.results.UpdateResult at 0x10bbe94d0>"
      ]
     },
     "execution_count": 125,
     "metadata": {},
     "output_type": "execute_result"
    }
   ],
   "source": []
  },
  {
   "cell_type": "code",
   "execution_count": 122,
   "metadata": {},
   "outputs": [
    {
     "data": {
      "text/html": [
       "<div>\n",
       "<style scoped>\n",
       "    .dataframe tbody tr th:only-of-type {\n",
       "        vertical-align: middle;\n",
       "    }\n",
       "\n",
       "    .dataframe tbody tr th {\n",
       "        vertical-align: top;\n",
       "    }\n",
       "\n",
       "    .dataframe thead th {\n",
       "        text-align: right;\n",
       "    }\n",
       "</style>\n",
       "<table border=\"1\" class=\"dataframe\">\n",
       "  <thead>\n",
       "    <tr style=\"text-align: right;\">\n",
       "      <th></th>\n",
       "      <th>name</th>\n",
       "      <th>position</th>\n",
       "      <th>location</th>\n",
       "      <th>industry</th>\n",
       "      <th>Main</th>\n",
       "    </tr>\n",
       "  </thead>\n",
       "  <tbody>\n",
       "    <tr>\n",
       "      <th>0</th>\n",
       "      <td>Tim Costa</td>\n",
       "      <td>President at W B Wright, Inc</td>\n",
       "      <td>Sacramento, California, United States</td>\n",
       "      <td>Food Manufacturing</td>\n",
       "      <td>916-443-2346</td>\n",
       "    </tr>\n",
       "  </tbody>\n",
       "</table>\n",
       "</div>"
      ],
      "text/plain": [
       "        name                      position  \\\n",
       "0  Tim Costa  President at W B Wright, Inc   \n",
       "\n",
       "                                location            industry           Main  \n",
       "0  Sacramento, California, United States  Food Manufacturing   916-443-2346  "
      ]
     },
     "execution_count": 122,
     "metadata": {},
     "output_type": "execute_result"
    }
   ],
   "source": [
    "new_result"
   ]
  },
  {
   "cell_type": "code",
   "execution_count": null,
   "metadata": {},
   "outputs": [],
   "source": []
  }
 ],
 "metadata": {
  "kernelspec": {
   "display_name": "Python 2",
   "language": "python",
   "name": "python2"
  },
  "language_info": {
   "codemirror_mode": {
    "name": "ipython",
    "version": 2
   },
   "file_extension": ".py",
   "mimetype": "text/x-python",
   "name": "python",
   "nbconvert_exporter": "python",
   "pygments_lexer": "ipython2",
   "version": "2.7.14"
  }
 },
 "nbformat": 4,
 "nbformat_minor": 2
}
