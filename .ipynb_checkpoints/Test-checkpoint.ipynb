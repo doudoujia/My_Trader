{
 "cells": [
  {
   "cell_type": "code",
   "execution_count": 2,
   "metadata": {},
   "outputs": [
    {
     "name": "stderr",
     "output_type": "stream",
     "text": [
      "/Library/Frameworks/Python.framework/Versions/2.7/lib/python2.7/site-packages/statsmodels/compat/pandas.py:56: FutureWarning: The pandas.core.datetools module is deprecated and will be removed in a future version. Please use the pandas.tseries module instead.\n",
      "  from pandas.core import datetools\n"
     ]
    }
   ],
   "source": [
    "from my_trader import *\n",
    "import math"
   ]
  },
  {
   "cell_type": "code",
   "execution_count": 48,
   "metadata": {
    "collapsed": true
   },
   "outputs": [],
   "source": [
    "robinhood = get_robinhood()\n",
    "robinhood.login()"
   ]
  },
  {
   "cell_type": "code",
   "execution_count": 51,
   "metadata": {},
   "outputs": [],
   "source": [
    "my_stock = pd.read_csv(\"file/Trade_suggestion\" + str(datetime.now()-timedelta(days=1))[0:10]+\".csv\")"
   ]
  },
  {
   "cell_type": "code",
   "execution_count": 3,
   "metadata": {},
   "outputs": [
    {
     "name": "stdout",
     "output_type": "stream",
     "text": [
      "ZNGA 1.0000\n",
      "TAHO 1.0000\n",
      "RRGB 1.0000\n",
      "SPY 6.0000\n",
      "IEP 3.0000\n",
      "OSG 1.0000\n",
      "ROYT 2.0000\n",
      "FCFS 1.0000\n",
      "AES 1.0000\n",
      "ISSC 1.0000\n",
      "FDC 1.0000\n",
      "WLK 1.0000\n",
      "VRNT 1.0000\n",
      "0.840984907799\n",
      "          Beta  Quantity  Last_price    Weight\n",
      "ZNGA  0.036493       1.0        3.80  0.001752\n",
      "TAHO -0.369054       1.0        4.72  0.002176\n",
      "RRGB  0.403548       1.0       53.30  0.024568\n",
      "SPY   1.000000       6.0      279.61  0.773311\n",
      "IEP   0.325061       3.0       55.90  0.077301\n",
      "OSG   0.210234       1.0        2.81  0.001295\n",
      "ROYT  0.105414       2.0        2.52  0.002323\n",
      "FCFS  0.402574       1.0       70.95  0.032704\n",
      "AES   0.222917       1.0       10.72  0.004941\n",
      "ISSC  0.054599       1.0        3.03  0.001397\n",
      "FDC   0.435015       1.0       17.60  0.008113\n",
      "WLK   0.137103       1.0      108.77  0.050137\n",
      "VRNT  0.405705       1.0       43.35  0.019982\n"
     ]
    },
    {
     "data": {
      "text/plain": [
       "(0.84098490779876256,           Beta  Quantity  Last_price    Weight\n",
       " ZNGA  0.036493       1.0        3.80  0.001752\n",
       " TAHO -0.369054       1.0        4.72  0.002176\n",
       " RRGB  0.403548       1.0       53.30  0.024568\n",
       " SPY   1.000000       6.0      279.61  0.773311\n",
       " IEP   0.325061       3.0       55.90  0.077301\n",
       " OSG   0.210234       1.0        2.81  0.001295\n",
       " ROYT  0.105414       2.0        2.52  0.002323\n",
       " FCFS  0.402574       1.0       70.95  0.032704\n",
       " AES   0.222917       1.0       10.72  0.004941\n",
       " ISSC  0.054599       1.0        3.03  0.001397\n",
       " FDC   0.435015       1.0       17.60  0.008113\n",
       " WLK   0.137103       1.0      108.77  0.050137\n",
       " VRNT  0.405705       1.0       43.35  0.019982)"
      ]
     },
     "execution_count": 3,
     "metadata": {},
     "output_type": "execute_result"
    }
   ],
   "source": [
    "robinhood.get_my_position_beta_minute()"
   ]
  },
  {
   "cell_type": "code",
   "execution_count": 15,
   "metadata": {},
   "outputs": [
    {
     "data": {
      "text/plain": [
       "(          Beta\n",
       " UVXY  0.846917, array([[ 0.00338583,  0.00206093],\n",
       "        [ 0.00206093,  0.00174895]]))"
      ]
     },
     "execution_count": 15,
     "metadata": {},
     "output_type": "execute_result"
    }
   ],
   "source": [
    "beta([\"UVXY\"],bench= \"^VIX\",interval = \"day\")"
   ]
  },
  {
   "cell_type": "code",
   "execution_count": 45,
   "metadata": {
    "collapsed": true
   },
   "outputs": [],
   "source": [
    "robinhood.logout()"
   ]
  },
  {
   "cell_type": "code",
   "execution_count": 5,
   "metadata": {
    "collapsed": true
   },
   "outputs": [],
   "source": [
    "bench= \"SPY\"\n",
    "ticker_list = [\"UVXY\"]\n",
    "interval = \"minute\""
   ]
  },
  {
   "cell_type": "code",
   "execution_count": 6,
   "metadata": {
    "collapsed": true
   },
   "outputs": [],
   "source": [
    "robinhood = get_robinhood()\n",
    "betas = []\n",
    "ben_mark=pd.DataFrame()\n",
    "if interval == \"day\":\n",
    "    ben_mark= da.DataReader(bench,\"yahoo\",datetime.now()-timedelta(days=90),datetime.now())\n",
    "    ben_mark=ben_mark.rename(columns ={\"Adj Close\":bench})\n",
    "elif interval == \"minute\":\n",
    "    ben_mark = robinhood.get_historical(bench,interval=\"10minute\",span = \"week\")\n",
    "    ben_mark=ben_mark.rename(columns ={\"close_price\":bench})\n",
    "    ben_mark[bench]=ben_mark[bench].astype(float)\n",
    "    ben_mark.index = ben_mark.begins_at\n",
    "ben_mark[bench + \"_re\"] = log(ben_mark[bench]/ben_mark[bench].shift(1))\n",
    "for i in list(ticker_list):\n",
    "    new=[]\n",
    "    ticker = i\n",
    "    try:\n",
    "        if interval ==\"day\":\n",
    "\n",
    "            stock = da.DataReader(str(ticker),\"yahoo\",datetime.now()-timedelta(days=90),datetime.now())\n",
    "            stock = stock.rename(columns = {\"Adj Close\":ticker})\n",
    "        elif interval == \"minute\":\n",
    "            stock= robinhood.get_historical(ticker,interval=\"10minute\",span = \"week\")\n",
    "            stock=stock.rename(columns ={\"close_price\":ticker})\n",
    "            stock[ticker] = stock[ticker].astype(float)\n",
    "            stock.index = stock.begins_at\n",
    "    except:\n",
    "        print (str(i)+\" ticker maybe wrong. Error in getting data\")\n",
    "        betas.append(np.NaN)\n",
    "        continue\n",
    "\n",
    "    # get return and put them in a new dataframe\n",
    "\n",
    "    stock[ticker + \"_re\"] = log(stock[ticker]/stock[ticker].shift(1))\n",
    "    new = pd.concat([ben_mark,stock],axis =1)\n",
    "    new = new[[bench + \"_re\",ticker + \"_re\" ]]\n",
    "    new = new.dropna()\n",
    "\n",
    "    #calculate beta using covariance matrix\n",
    "    covmat = np.cov(new[bench + \"_re\"],new[ticker + \"_re\"])\n",
    "    beta = covmat[0,1]/  np.sqrt(covmat[1,1]*covmat[0,0])\n",
    "    betas.append(beta)\n",
    "betas = pd.DataFrame(betas)\n",
    "betas.index = ticker_list\n",
    "betas.columns=[\"Beta\"]\n"
   ]
  },
  {
   "cell_type": "code",
   "execution_count": 22,
   "metadata": {},
   "outputs": [
    {
     "data": {
      "text/plain": [
       "2169.45"
      ]
     },
     "execution_count": 22,
     "metadata": {},
     "output_type": "execute_result"
    }
   ],
   "source": [
    "robinhood.my_trader.market_value()"
   ]
  },
  {
   "cell_type": "code",
   "execution_count": 6,
   "metadata": {
    "collapsed": true
   },
   "outputs": [
    {
     "data": {
      "text/plain": [
       "[{u'adjusted_previous_close': u'176.1900',\n",
       "  u'ask_price': u'179.4600',\n",
       "  u'ask_size': 100,\n",
       "  u'bid_price': u'179.3000',\n",
       "  u'bid_size': 200,\n",
       "  u'has_traded': True,\n",
       "  u'instrument': u'https://api.robinhood.com/instruments/450dfc6d-5510-4d40-abfb-f633b7d9be3e/',\n",
       "  u'last_extended_hours_trade_price': u'179.3700',\n",
       "  u'last_trade_price': u'179.1000',\n",
       "  u'last_trade_price_source': u'consolidated',\n",
       "  u'previous_close': u'176.1900',\n",
       "  u'previous_close_date': u'2018-01-16',\n",
       "  u'symbol': u'AAPL',\n",
       "  u'trading_halted': False,\n",
       "  u'updated_at': u'2018-01-18T01:00:00Z'},\n",
       " {u'adjusted_previous_close': u'9.7500',\n",
       "  u'ask_price': u'9.4600',\n",
       "  u'ask_size': 1600,\n",
       "  u'bid_price': u'9.4200',\n",
       "  u'bid_size': 500,\n",
       "  u'has_traded': True,\n",
       "  u'instrument': u'https://api.robinhood.com/instruments/00e90099-4281-4c93-b50d-fbd4d2469821/',\n",
       "  u'last_extended_hours_trade_price': u'9.4000',\n",
       "  u'last_trade_price': u'9.3400',\n",
       "  u'last_trade_price_source': u'consolidated',\n",
       "  u'previous_close': u'9.7500',\n",
       "  u'previous_close_date': u'2018-01-16',\n",
       "  u'symbol': u'UVXY',\n",
       "  u'trading_halted': False,\n",
       "  u'updated_at': u'2018-01-18T00:59:55Z'}]"
      ]
     },
     "execution_count": 6,
     "metadata": {},
     "output_type": "execute_result"
    }
   ],
   "source": [
    "robinhood.my_trader.quotes_data([\"AAPL\",\"UVXY\"])"
   ]
  },
  {
   "cell_type": "code",
   "execution_count": 5,
   "metadata": {
    "collapsed": true
   },
   "outputs": [],
   "source": [
    "data = pd.read_csv(\"file/Trade_suggestion2018-01-17.csv\")"
   ]
  },
  {
   "cell_type": "code",
   "execution_count": 6,
   "metadata": {
    "collapsed": true
   },
   "outputs": [],
   "source": [
    "data[\"position_place\"]= np.ceil(((data.Close.sum()/len(data.Close))/data.Close))"
   ]
  },
  {
   "cell_type": "code",
   "execution_count": 44,
   "metadata": {},
   "outputs": [
    {
     "data": {
      "text/plain": [
       "688.95499500000005"
      ]
     },
     "execution_count": 44,
     "metadata": {},
     "output_type": "execute_result"
    }
   ],
   "source": [
    "np.dot(data.position_place,data.Close)"
   ]
  },
  {
   "cell_type": "code",
   "execution_count": 8,
   "metadata": {},
   "outputs": [
    {
     "data": {
      "text/html": [
       "<div>\n",
       "<style scoped>\n",
       "    .dataframe tbody tr th:only-of-type {\n",
       "        vertical-align: middle;\n",
       "    }\n",
       "\n",
       "    .dataframe tbody tr th {\n",
       "        vertical-align: top;\n",
       "    }\n",
       "\n",
       "    .dataframe thead th {\n",
       "        text-align: right;\n",
       "    }\n",
       "</style>\n",
       "<table border=\"1\" class=\"dataframe\">\n",
       "  <thead>\n",
       "    <tr style=\"text-align: right;\">\n",
       "      <th></th>\n",
       "      <th>Unnamed: 0</th>\n",
       "      <th>ADXR</th>\n",
       "      <th>APO</th>\n",
       "      <th>AROONOSC</th>\n",
       "      <th>CCI</th>\n",
       "      <th>Close</th>\n",
       "      <th>Earnings_date</th>\n",
       "      <th>High</th>\n",
       "      <th>Industry</th>\n",
       "      <th>Industry_weight</th>\n",
       "      <th>...</th>\n",
       "      <th>Market_cap</th>\n",
       "      <th>Open</th>\n",
       "      <th>ROCP</th>\n",
       "      <th>RSI</th>\n",
       "      <th>Return</th>\n",
       "      <th>Sector</th>\n",
       "      <th>Technical_points</th>\n",
       "      <th>TimeStamp</th>\n",
       "      <th>Volume</th>\n",
       "      <th>position_place</th>\n",
       "    </tr>\n",
       "  </thead>\n",
       "  <tbody>\n",
       "    <tr>\n",
       "      <th>0</th>\n",
       "      <td>HCI</td>\n",
       "      <td>41.457516</td>\n",
       "      <td>1.823013</td>\n",
       "      <td>100.000000</td>\n",
       "      <td>100.815487</td>\n",
       "      <td>35.369999</td>\n",
       "      <td>Feb 01 AMC</td>\n",
       "      <td>35.470001</td>\n",
       "      <td>Property &amp; Casualty Insurance</td>\n",
       "      <td>0.000616</td>\n",
       "      <td>...</td>\n",
       "      <td>2.932600e+08</td>\n",
       "      <td>34.400002</td>\n",
       "      <td>0.120367</td>\n",
       "      <td>69.735810</td>\n",
       "      <td>0.033079</td>\n",
       "      <td>Financial</td>\n",
       "      <td>4.0</td>\n",
       "      <td>2018-01-17</td>\n",
       "      <td>140417.0</td>\n",
       "      <td>2.0</td>\n",
       "    </tr>\n",
       "    <tr>\n",
       "      <th>1</th>\n",
       "      <td>IEP</td>\n",
       "      <td>20.233246</td>\n",
       "      <td>1.641987</td>\n",
       "      <td>78.571429</td>\n",
       "      <td>51.981284</td>\n",
       "      <td>55.900002</td>\n",
       "      <td>Feb 02 BMO</td>\n",
       "      <td>56.240002</td>\n",
       "      <td>Conglomerates</td>\n",
       "      <td>0.589110</td>\n",
       "      <td>...</td>\n",
       "      <td>9.560000e+09</td>\n",
       "      <td>55.900002</td>\n",
       "      <td>0.028330</td>\n",
       "      <td>63.546654</td>\n",
       "      <td>0.000537</td>\n",
       "      <td>Conglomerates</td>\n",
       "      <td>4.0</td>\n",
       "      <td>2018-01-17</td>\n",
       "      <td>68117.0</td>\n",
       "      <td>1.0</td>\n",
       "    </tr>\n",
       "    <tr>\n",
       "      <th>2</th>\n",
       "      <td>PFE</td>\n",
       "      <td>14.794051</td>\n",
       "      <td>0.068654</td>\n",
       "      <td>100.000000</td>\n",
       "      <td>227.818874</td>\n",
       "      <td>37.180000</td>\n",
       "      <td>Jan 30 BMO</td>\n",
       "      <td>37.369999</td>\n",
       "      <td>Drug Manufacturers - Major</td>\n",
       "      <td>0.129838</td>\n",
       "      <td>...</td>\n",
       "      <td>2.170000e+11</td>\n",
       "      <td>36.820000</td>\n",
       "      <td>0.020307</td>\n",
       "      <td>65.515126</td>\n",
       "      <td>0.015600</td>\n",
       "      <td>Healthcare</td>\n",
       "      <td>4.0</td>\n",
       "      <td>2018-01-17</td>\n",
       "      <td>24010385.0</td>\n",
       "      <td>2.0</td>\n",
       "    </tr>\n",
       "    <tr>\n",
       "      <th>3</th>\n",
       "      <td>EDN</td>\n",
       "      <td>28.460669</td>\n",
       "      <td>1.226474</td>\n",
       "      <td>92.857143</td>\n",
       "      <td>218.173273</td>\n",
       "      <td>57.509998</td>\n",
       "      <td>Feb 15 BMO</td>\n",
       "      <td>58.880001</td>\n",
       "      <td>Electric Utilities</td>\n",
       "      <td>0.001933</td>\n",
       "      <td>...</td>\n",
       "      <td>1.110000e+09</td>\n",
       "      <td>56.720001</td>\n",
       "      <td>0.149051</td>\n",
       "      <td>79.097054</td>\n",
       "      <td>0.026430</td>\n",
       "      <td>Utilities</td>\n",
       "      <td>4.0</td>\n",
       "      <td>2018-01-17</td>\n",
       "      <td>101756.0</td>\n",
       "      <td>1.0</td>\n",
       "    </tr>\n",
       "    <tr>\n",
       "      <th>4</th>\n",
       "      <td>GLT</td>\n",
       "      <td>28.346342</td>\n",
       "      <td>0.929771</td>\n",
       "      <td>100.000000</td>\n",
       "      <td>147.178381</td>\n",
       "      <td>23.379999</td>\n",
       "      <td>Jan 30 BMO</td>\n",
       "      <td>23.420000</td>\n",
       "      <td>Paper &amp; Paper Products</td>\n",
       "      <td>0.048388</td>\n",
       "      <td>...</td>\n",
       "      <td>9.519800e+08</td>\n",
       "      <td>23.040001</td>\n",
       "      <td>0.070513</td>\n",
       "      <td>74.168840</td>\n",
       "      <td>0.024380</td>\n",
       "      <td>Consumer Goods</td>\n",
       "      <td>4.0</td>\n",
       "      <td>2018-01-17</td>\n",
       "      <td>203365.0</td>\n",
       "      <td>3.0</td>\n",
       "    </tr>\n",
       "    <tr>\n",
       "      <th>5</th>\n",
       "      <td>GGG</td>\n",
       "      <td>34.926582</td>\n",
       "      <td>1.072372</td>\n",
       "      <td>100.000000</td>\n",
       "      <td>95.914664</td>\n",
       "      <td>47.169998</td>\n",
       "      <td>Jan 29 AMC</td>\n",
       "      <td>47.720001</td>\n",
       "      <td>Diversified Machinery</td>\n",
       "      <td>0.002904</td>\n",
       "      <td>...</td>\n",
       "      <td>2.630000e+09</td>\n",
       "      <td>46.669998</td>\n",
       "      <td>0.044971</td>\n",
       "      <td>65.643486</td>\n",
       "      <td>0.012084</td>\n",
       "      <td>Industrial Goods</td>\n",
       "      <td>4.0</td>\n",
       "      <td>2018-01-17</td>\n",
       "      <td>754064.0</td>\n",
       "      <td>2.0</td>\n",
       "    </tr>\n",
       "    <tr>\n",
       "      <th>6</th>\n",
       "      <td>MAR</td>\n",
       "      <td>52.258400</td>\n",
       "      <td>2.914421</td>\n",
       "      <td>100.000000</td>\n",
       "      <td>176.847191</td>\n",
       "      <td>142.000000</td>\n",
       "      <td>Feb 06 AMC</td>\n",
       "      <td>142.639999</td>\n",
       "      <td>Lodging</td>\n",
       "      <td>0.290224</td>\n",
       "      <td>...</td>\n",
       "      <td>5.069000e+10</td>\n",
       "      <td>140.210007</td>\n",
       "      <td>0.061682</td>\n",
       "      <td>74.703902</td>\n",
       "      <td>0.020282</td>\n",
       "      <td>Services</td>\n",
       "      <td>4.0</td>\n",
       "      <td>2018-01-17</td>\n",
       "      <td>1749533.0</td>\n",
       "      <td>1.0</td>\n",
       "    </tr>\n",
       "    <tr>\n",
       "      <th>7</th>\n",
       "      <td>ROCK</td>\n",
       "      <td>25.897741</td>\n",
       "      <td>1.740385</td>\n",
       "      <td>100.000000</td>\n",
       "      <td>149.018629</td>\n",
       "      <td>37.150002</td>\n",
       "      <td>Feb 02 BMO</td>\n",
       "      <td>37.500000</td>\n",
       "      <td>Steel &amp; Iron</td>\n",
       "      <td>0.009861</td>\n",
       "      <td>...</td>\n",
       "      <td>1.100000e+09</td>\n",
       "      <td>36.849998</td>\n",
       "      <td>0.102374</td>\n",
       "      <td>76.635419</td>\n",
       "      <td>0.018843</td>\n",
       "      <td>Basic Materials</td>\n",
       "      <td>4.0</td>\n",
       "      <td>2018-01-17</td>\n",
       "      <td>485301.0</td>\n",
       "      <td>2.0</td>\n",
       "    </tr>\n",
       "    <tr>\n",
       "      <th>8</th>\n",
       "      <td>ASX</td>\n",
       "      <td>21.644730</td>\n",
       "      <td>0.140609</td>\n",
       "      <td>100.000000</td>\n",
       "      <td>239.903299</td>\n",
       "      <td>7.095000</td>\n",
       "      <td>Jan 25 BMO</td>\n",
       "      <td>7.100000</td>\n",
       "      <td>Semiconductor Equipment &amp; Materials</td>\n",
       "      <td>0.058918</td>\n",
       "      <td>...</td>\n",
       "      <td>1.148000e+10</td>\n",
       "      <td>7.010000</td>\n",
       "      <td>0.071752</td>\n",
       "      <td>74.544414</td>\n",
       "      <td>0.034531</td>\n",
       "      <td>Technology</td>\n",
       "      <td>4.0</td>\n",
       "      <td>2018-01-17</td>\n",
       "      <td>1067501.0</td>\n",
       "      <td>7.0</td>\n",
       "    </tr>\n",
       "  </tbody>\n",
       "</table>\n",
       "<p>9 rows × 25 columns</p>\n",
       "</div>"
      ],
      "text/plain": [
       "  Unnamed: 0       ADXR       APO    AROONOSC         CCI       Close  \\\n",
       "0        HCI  41.457516  1.823013  100.000000  100.815487   35.369999   \n",
       "1        IEP  20.233246  1.641987   78.571429   51.981284   55.900002   \n",
       "2        PFE  14.794051  0.068654  100.000000  227.818874   37.180000   \n",
       "3        EDN  28.460669  1.226474   92.857143  218.173273   57.509998   \n",
       "4        GLT  28.346342  0.929771  100.000000  147.178381   23.379999   \n",
       "5        GGG  34.926582  1.072372  100.000000   95.914664   47.169998   \n",
       "6        MAR  52.258400  2.914421  100.000000  176.847191  142.000000   \n",
       "7       ROCK  25.897741  1.740385  100.000000  149.018629   37.150002   \n",
       "8        ASX  21.644730  0.140609  100.000000  239.903299    7.095000   \n",
       "\n",
       "  Earnings_date        High                             Industry  \\\n",
       "0    Feb 01 AMC   35.470001        Property & Casualty Insurance   \n",
       "1    Feb 02 BMO   56.240002                        Conglomerates   \n",
       "2    Jan 30 BMO   37.369999           Drug Manufacturers - Major   \n",
       "3    Feb 15 BMO   58.880001                   Electric Utilities   \n",
       "4    Jan 30 BMO   23.420000               Paper & Paper Products   \n",
       "5    Jan 29 AMC   47.720001                Diversified Machinery   \n",
       "6    Feb 06 AMC  142.639999                              Lodging   \n",
       "7    Feb 02 BMO   37.500000                         Steel & Iron   \n",
       "8    Jan 25 BMO    7.100000  Semiconductor Equipment & Materials   \n",
       "\n",
       "   Industry_weight       ...          Market_cap        Open      ROCP  \\\n",
       "0         0.000616       ...        2.932600e+08   34.400002  0.120367   \n",
       "1         0.589110       ...        9.560000e+09   55.900002  0.028330   \n",
       "2         0.129838       ...        2.170000e+11   36.820000  0.020307   \n",
       "3         0.001933       ...        1.110000e+09   56.720001  0.149051   \n",
       "4         0.048388       ...        9.519800e+08   23.040001  0.070513   \n",
       "5         0.002904       ...        2.630000e+09   46.669998  0.044971   \n",
       "6         0.290224       ...        5.069000e+10  140.210007  0.061682   \n",
       "7         0.009861       ...        1.100000e+09   36.849998  0.102374   \n",
       "8         0.058918       ...        1.148000e+10    7.010000  0.071752   \n",
       "\n",
       "         RSI    Return            Sector  Technical_points   TimeStamp  \\\n",
       "0  69.735810  0.033079         Financial               4.0  2018-01-17   \n",
       "1  63.546654  0.000537     Conglomerates               4.0  2018-01-17   \n",
       "2  65.515126  0.015600        Healthcare               4.0  2018-01-17   \n",
       "3  79.097054  0.026430         Utilities               4.0  2018-01-17   \n",
       "4  74.168840  0.024380    Consumer Goods               4.0  2018-01-17   \n",
       "5  65.643486  0.012084  Industrial Goods               4.0  2018-01-17   \n",
       "6  74.703902  0.020282          Services               4.0  2018-01-17   \n",
       "7  76.635419  0.018843   Basic Materials               4.0  2018-01-17   \n",
       "8  74.544414  0.034531        Technology               4.0  2018-01-17   \n",
       "\n",
       "       Volume  position_place  \n",
       "0    140417.0             2.0  \n",
       "1     68117.0             1.0  \n",
       "2  24010385.0             2.0  \n",
       "3    101756.0             1.0  \n",
       "4    203365.0             3.0  \n",
       "5    754064.0             2.0  \n",
       "6   1749533.0             1.0  \n",
       "7    485301.0             2.0  \n",
       "8   1067501.0             7.0  \n",
       "\n",
       "[9 rows x 25 columns]"
      ]
     },
     "execution_count": 8,
     "metadata": {},
     "output_type": "execute_result"
    }
   ],
   "source": [
    "data"
   ]
  },
  {
   "cell_type": "code",
   "execution_count": null,
   "metadata": {
    "collapsed": true
   },
   "outputs": [],
   "source": []
  }
 ],
 "metadata": {
  "kernelspec": {
   "display_name": "Python 2",
   "language": "python",
   "name": "python2"
  },
  "language_info": {
   "codemirror_mode": {
    "name": "ipython",
    "version": 2
   },
   "file_extension": ".py",
   "mimetype": "text/x-python",
   "name": "python",
   "nbconvert_exporter": "python",
   "pygments_lexer": "ipython2",
   "version": "2.7.13"
  }
 },
 "nbformat": 4,
 "nbformat_minor": 2
}
