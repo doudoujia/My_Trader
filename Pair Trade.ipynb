{
 "cells": [
  {
   "cell_type": "code",
   "execution_count": 1,
   "metadata": {},
   "outputs": [
    {
     "name": "stderr",
     "output_type": "stream",
     "text": [
      "C:\\ProgramData\\Anaconda2\\lib\\site-packages\\fix_yahoo_finance\\__init__.py:43: DeprecationWarning: \n",
      "    Auto-overriding of pandas_datareader's get_data_yahoo() is deprecated and no longer available.\n",
      "    Use pdr_override() to explicitly override it.\n",
      "  DeprecationWarning)\n"
     ]
    }
   ],
   "source": [
    "from my_trader import *"
   ]
  },
  {
   "cell_type": "code",
   "execution_count": 2,
   "metadata": {},
   "outputs": [
    {
     "name": "stdout",
     "output_type": "stream",
     "text": [
      "Finished VIXY\n",
      "Finished SPY\n"
     ]
    },
    {
     "name": "stderr",
     "output_type": "stream",
     "text": [
      "C:\\ProgramData\\Anaconda2\\lib\\site-packages\\pandas\\core\\indexing.py:132: SettingWithCopyWarning: \n",
      "A value is trying to be set on a copy of a slice from a DataFrame\n",
      "\n",
      "See the caveats in the documentation: http://pandas.pydata.org/pandas-docs/stable/indexing.html#indexing-view-versus-copy\n",
      "  self._setitem_with_indexer(indexer, value)\n"
     ]
    }
   ],
   "source": [
    "robinhood = get_robinhood()\n",
    "stock1 = \"VIXY\"\n",
    "stock2 = \"SPY\"\n",
    "window = 30\n",
    "data_len = 210\n",
    "initial = 1500\n",
    "\n",
    "\n",
    "price1 = get_price_data([stock1],method=\"day\",start_date=datetime.now()-timedelta(days=data_len),end_date=datetime.now()-timedelta(days=0))\n",
    "price2 = get_price_data([stock2],method=\"day\",start_date=datetime.now()-timedelta(days=data_len),end_date=datetime.now()-timedelta(days=0))\n",
    "#price1 = get_price_data([stock1],method = \"robinhood\")\n",
    "#price2 = get_price_data([stock2],method = \"robinhood\")\n",
    "price1 = price1.set_index(\"TimeStamp\")\n",
    "price2 = price2.set_index(\"TimeStamp\")\n",
    "price1 = price1.rename(columns={\"Close\":stock1+\"_close\"})\n",
    "price2 = price2.rename(columns={\"Close\":stock2+\"_close\"})\n",
    "\n",
    "\n",
    "\n",
    "price_table = pd.concat([price1[stock1+\"_close\"],price2[stock2+\"_close\"]],axis = 1)\n",
    "price_table = price_table.fillna(price_table.shift(1))\n",
    "price_table[stock1+\"_close\"] = price_table[stock1+\"_close\"].astype(float)\n",
    "price_table[stock2+\"_close\"] = price_table[stock2+\"_close\"].astype(float)\n",
    "price_table[stock1+\"_log_ret\"] = log(price_table[stock1+\"_close\"] / price_table[stock1+\"_close\"].shift(1))\n",
    "price_table[stock2+\"_log_ret\"] = log(price_table[stock2+\"_close\"] / price_table[stock2+\"_close\"].shift(1))\n",
    "\n",
    "#price_table=price_table.fillna(1)\n",
    "\n",
    "price_table[stock1+\"_log_ret_mv\"] = price_table[stock1+\"_log_ret\"].rolling(window).mean()\n",
    "price_table[stock2+\"_log_ret_mv\"] =price_table[stock2+\"_log_ret\"].rolling(window).mean()\n",
    "price_table[\"relative\"]=price_table[stock1+\"_log_ret\"]/price_table[stock2+\"_log_ret\"]\n",
    "price_table[\"relative_mv\"] = price_table[\"relative\"].rolling(window).mean()\n",
    "\n",
    "price_table.relative.loc[price_table.relative==-np.inf]=np.NaN\n",
    "\n",
    "#price_table[\"relative_mv\"]=price_table[stock1+\"_log_ret_mv\"]/price_table[stock2+\"_log_ret_mv\"]\n",
    "price_table[\"z_score\"] =( price_table[\"relative\"]-price_table[\"relative_mv\"])/price_table.relative.std()\n",
    "price_table[\"trade\"]=0\n",
    "price_table[\"trade_signal\"]=np.NaN\n",
    "price_table[\"slope\"]=0\n",
    "for i in range(window-1,len(price_table)):\n",
    "    price_table[\"slope\"].iloc[i] = stats.linregress(price_table[stock1+\"_log_ret\"]\\\n",
    "                                                    .iloc[i-(window-1):i],price_table[stock2+\"_log_ret\"].iloc[i-(window-1):i])[0]\n",
    "price_table[\"buy_line\"] = np.NaN\n",
    "\n",
    "\n",
    "\n",
    "for i in range(window-1,len(price_table)):\n",
    "    if price_table.slope.iloc[i]>0.5:\n",
    "        price_table[\"buy_line\"].iloc[i] = -1.25\n",
    "    elif price_table.slope.iloc[i]>0.75:\n",
    "        price_table[\"buy_line\"].iloc[i]= -1.75\n",
    "    elif price_table.slope.iloc[i]<-0.5:\n",
    "        price_table[\"buy_line\"].iloc[i] -2.25\n",
    "    elif price_table.slope.iloc[i]<-0.75:\n",
    "        price_table[\"buy_line\"].iloc[i]= -2.75\n",
    "    else:\n",
    "        price_table[\"buy_line\"].iloc[i] = -2\n",
    "price_table[\"sell_line\"] = np.NaN\n",
    "for i in range(window-1,len(price_table)):\n",
    "    if price_table.slope.iloc[i]>0.5:\n",
    "        price_table[\"sell_line\"].iloc[i] = 1.25\n",
    "    elif price_table.slope.iloc[i]>0.75:\n",
    "        price_table[\"sell_line\"].iloc[i] = 1.75\n",
    "    elif price_table.slope.iloc[i]<-0.5:\n",
    "        price_table[\"sell_line\"].iloc[i] = 2.25\n",
    "    elif price_table.slope.iloc[i]<-0.75:\n",
    "        price_table[\"sell_line\"].iloc[i] = 2.75\n",
    "    else:\n",
    "        price_table[\"sell_line\"].iloc[i] = 2  \n",
    "           \n",
    "#no short sell\n",
    "\n",
    "price_table[\"relative_mv\"] = abs(price_table[\"relative_mv\"])\n",
    "\n",
    "        \n",
    "#price_table[\"cost_per_trade\"] =abs( price_table[stock1+\"_close\"]+price_table[stock2+\"_close\"]*price_table[\"relative_mv\"])\n",
    "price_table[stock1+\"_suggest_shares\"] = np.ceil((initial/(1+price_table[\"relative_mv\"])/price_table[stock1+\"_close\"]))\n",
    "price_table[stock2+\"_suggest_shares\"] = np.ceil((initial/(1+price_table[\"relative_mv\"])*price_table[\"relative_mv\"]/price_table[stock2+\"_close\"]))\n",
    "\n",
    "\n",
    "\n",
    "#set live trade signal and backtest \n",
    "price_table[stock1+\"_shares\"] = 0 \n",
    "price_table[stock2+\"_shares\"] = 0\n",
    "for i in range(window-1,len(price_table)):\n",
    "    if price_table.z_score.iloc[i] < price_table.buy_line.iloc[i]:\n",
    "        price_table[\"trade\"].iloc[i] = 1\n",
    "        price_table[\"trade_signal\"].iloc[i] = 1\n",
    "        price_table[stock1+\"_shares\"].iloc[i] = price_table[stock1+\"_suggest_shares\"].iloc[i]\n",
    "        price_table[stock2+\"_shares\"].iloc[i] = price_table[stock2+\"_suggest_shares\"].iloc[i]\n",
    "    elif price_table.z_score.iloc[i] > price_table.sell_line.iloc[i]:\n",
    "        price_table[\"trade\"].iloc[i] = 0\n",
    "        price_table[\"trade_signal\"].iloc[i] = 0\n",
    "        price_table[stock1+\"_shares\"].iloc[i] = 0 \n",
    "        price_table[stock2+\"_shares\"].iloc[i] = 0\n",
    "    else:\n",
    "        price_table[\"trade\"].iloc[i] = price_table.trade.iloc[i-1]\n",
    "        price_table[stock1+\"_shares\"].iloc[i] = price_table[stock1+\"_shares\"].iloc[i-1]\n",
    "        price_table[stock2+\"_shares\"].iloc[i] = price_table[stock2+\"_shares\"].iloc[i-1]\n",
    "\n",
    "#price_table[stock1+\"_value\"] = price_table[stock1+\"_suggest_shares\"]*price_table[stock1+\"_close\"]\n",
    "#price_table[stock2+\"_value\"] = price_table[stock2+\"_suggest_shares\"]*price_table[stock2+\"_close\"]\n",
    "\n",
    "price_table[stock1+\"_value\"] = price_table[stock1+\"_shares\"]*price_table[stock1+\"_close\"]\n",
    "price_table[stock2+\"_value\"] = price_table[stock2+\"_shares\"]*price_table[stock2+\"_close\"]\n",
    "\n",
    "\n",
    "\n",
    "price_table[\"p_L\"] = price_table[stock1+\"_value\"].shift(1) * price_table[stock1+\"_log_ret\"].shift(1)*price_table.trade.shift(1) +  \\\n",
    "price_table[stock2+\"_value\"].shift(1) * price_table[stock2+\"_log_ret\"].shift(1)*price_table.trade.shift(1)\n",
    "price_table[\"rolling_p_L\"] = price_table.p_L.rolling(30).sum()"
   ]
  },
  {
   "cell_type": "code",
   "execution_count": 33,
   "metadata": {
    "scrolled": false
   },
   "outputs": [],
   "source": [
    "\n",
    "\n",
    "\n",
    "def pair_trade(stock1, stock2,initial,method = \"day\",window = 30,data_len = 210, continuous = False):    \n",
    "    robinhood = get_robinhood()\n",
    "    # stock1 = \"VIXY\"\n",
    "    # stock2 = \"SPY\"\n",
    "    if method == \"day\":\n",
    "        price1 = get_price_data([stock1],method=\"day\",start_date=datetime.now()-timedelta(days=data_len),end_date=datetime.now()-timedelta(days=0))\n",
    "        price2 = get_price_data([stock2],method=\"day\",start_date=datetime.now()-timedelta(days=data_len),end_date=datetime.now()-timedelta(days=0))\n",
    "    elif method == \"minute\":\n",
    "        price1 = get_price_data([stock1],method = \"robinhood\")\n",
    "        price2 = get_price_data([stock2],method = \"robinhood\")\n",
    "    price1 = price1.set_index(\"TimeStamp\")\n",
    "    price2 = price2.set_index(\"TimeStamp\")\n",
    "    price1 = price1.rename(columns={\"Close\":stock1+\"_close\"})\n",
    "    price2 = price2.rename(columns={\"Close\":stock2+\"_close\"})\n",
    "\n",
    "\n",
    "\n",
    "    price_table = pd.concat([price1[stock1+\"_close\"],price2[stock2+\"_close\"]],axis = 1)\n",
    "    price_table = price_table.fillna(price_table.shift(1))\n",
    "    price_table[stock1+\"_close\"] = price_table[stock1+\"_close\"].astype(float)\n",
    "    price_table[stock2+\"_close\"] = price_table[stock2+\"_close\"].astype(float)\n",
    "    price_table[stock1+\"_log_ret\"] = log(price_table[stock1+\"_close\"] / price_table[stock1+\"_close\"].shift(1))\n",
    "    price_table[stock2+\"_log_ret\"] = log(price_table[stock2+\"_close\"] / price_table[stock2+\"_close\"].shift(1))\n",
    "\n",
    "    #price_table=price_table.fillna(1)\n",
    "\n",
    "    price_table[stock1+\"_log_ret_mv\"] = price_table[stock1+\"_log_ret\"].rolling(window).mean()\n",
    "    price_table[stock2+\"_log_ret_mv\"] =price_table[stock2+\"_log_ret\"].rolling(window).mean()\n",
    "    price_table[\"relative\"]=price_table[stock1+\"_log_ret\"]/price_table[stock2+\"_log_ret\"]\n",
    "    price_table[\"relative_mv\"] = price_table[\"relative\"].rolling(window).mean()\n",
    "\n",
    "    price_table.relative.loc[price_table.relative==-np.inf]=price_table.relative.shift(1)\n",
    "\n",
    "    #price_table[\"relative_mv\"]=price_table[stock1+\"_log_ret_mv\"]/price_table[stock2+\"_log_ret_mv\"]\n",
    "    price_table[\"z_score\"] =( price_table[\"relative\"]-price_table[\"relative_mv\"])/price_table.relative.std()\n",
    "    price_table[\"trade\"]=0\n",
    "    price_table[\"trade_signal\"]=np.NaN\n",
    "    price_table[\"slope\"]=0\n",
    "    for i in range(window-1,len(price_table)):\n",
    "        price_table[\"slope\"].iloc[i] = stats.linregress(price_table[stock1+\"_log_ret\"]\\\n",
    "                                                        .iloc[i-(window-1):i],price_table[stock2+\"_log_ret\"].iloc[i-(window-1):i])[0]\n",
    "    price_table[\"buy_line\"] = np.NaN\n",
    "\n",
    "    print (\"Log return done, 10%\")\n",
    "\n",
    "    for i in range(window-1,len(price_table)):\n",
    "        if price_table.slope.iloc[i]>0.5:\n",
    "            price_table[\"buy_line\"].iloc[i] = -1.25\n",
    "        elif price_table.slope.iloc[i]>0.75:\n",
    "            price_table[\"buy_line\"].iloc[i]= -1.75\n",
    "        elif price_table.slope.iloc[i]<-0.5:\n",
    "            price_table[\"buy_line\"].iloc[i] -2.25\n",
    "        elif price_table.slope.iloc[i]<-0.75:\n",
    "            price_table[\"buy_line\"].iloc[i]= -2.75\n",
    "        else:\n",
    "            price_table[\"buy_line\"].iloc[i] = -2\n",
    "     \n",
    "    price_table[\"sell_line\"] = np.NaN\n",
    "    for i in range(window-1,len(price_table)):\n",
    "        if price_table.slope.iloc[i]>0.5:\n",
    "            price_table[\"sell_line\"].iloc[i] = 1.25\n",
    "        elif price_table.slope.iloc[i]>0.75:\n",
    "            price_table[\"sell_line\"].iloc[i] = 1.75\n",
    "        elif price_table.slope.iloc[i]<-0.5:\n",
    "            price_table[\"sell_line\"].iloc[i] = 2.25\n",
    "        elif price_table.slope.iloc[i]<-0.75:\n",
    "            price_table[\"sell_line\"].iloc[i] = 2.75\n",
    "        else:\n",
    "            price_table[\"sell_line\"].iloc[i] = 2  \n",
    "    print (\"Signal Line done, 30%\")           \n",
    "    #no short sell\n",
    "\n",
    "    price_table[\"relative_mv\"] = abs(price_table[\"relative_mv\"])\n",
    "\n",
    "            \n",
    "    #price_table[\"cost_per_trade\"] =abs( price_table[stock1+\"_close\"]+price_table[stock2+\"_close\"]*price_table[\"relative_mv\"])\n",
    "    price_table[stock1+\"_suggest_shares\"] = np.ceil((initial/(1+price_table[\"relative_mv\"])/price_table[stock1+\"_close\"]))\n",
    "    price_table[stock2+\"_suggest_shares\"] = np.ceil((initial/(1+price_table[\"relative_mv\"])*price_table[\"relative_mv\"]/price_table[stock2+\"_close\"]))\n",
    "\n",
    "\n",
    "    #set live trade signal and backtest \n",
    "    price_table[stock1+\"_shares\"] = 0 \n",
    "    price_table[stock2+\"_shares\"] = 0\n",
    "    for i in range(window-1,len(price_table)):\n",
    "        if price_table.z_score.iloc[i] < price_table.buy_line.iloc[i]:\n",
    "            price_table[\"trade\"].iloc[i] = 1\n",
    "            price_table[\"trade_signal\"].iloc[i] = 1\n",
    "            price_table[stock1+\"_shares\"].iloc[i] = price_table[stock1+\"_suggest_shares\"].iloc[i]\n",
    "            price_table[stock2+\"_shares\"].iloc[i] = price_table[stock2+\"_suggest_shares\"].iloc[i]\n",
    "        elif price_table.z_score.iloc[i] > price_table.sell_line.iloc[i]:\n",
    "            price_table[\"trade\"].iloc[i] = 0\n",
    "            price_table[\"trade_signal\"].iloc[i] = 0\n",
    "            price_table[stock1+\"_shares\"].iloc[i] = 0 \n",
    "            price_table[stock2+\"_shares\"].iloc[i] = 0\n",
    "        else:\n",
    "            price_table[\"trade\"].iloc[i] = price_table.trade.iloc[i-1]\n",
    "            price_table[stock1+\"_shares\"].iloc[i] = price_table[stock1+\"_shares\"].iloc[i-1]\n",
    "            price_table[stock2+\"_shares\"].iloc[i] = price_table[stock2+\"_shares\"].iloc[i-1]\n",
    "    print (\"Trade singal done, 60%\") \n",
    "    if not continuous:\n",
    "        price_table[stock1+\"_value\"] = price_table[stock1+\"_shares\"].shift(1)*price_table[stock1+\"_close\"].shift(1)\n",
    "        price_table[stock2+\"_value\"] = price_table[stock2+\"_shares\"].shift(1)*price_table[stock2+\"_close\"].shift(1)\n",
    "        price_table[\"p_L\"] = price_table[stock1+\"_value\"].shift(1) * price_table[stock1+\"_log_ret\"].shift(1) +  \\\n",
    "        price_table[stock2+\"_value\"].shift(1) * price_table[stock2+\"_log_ret\"].shift(1)\n",
    "    else:    \n",
    "        price_table[stock1+\"_value\"] = price_table[stock1+\"_suggest_shares\"].shift(1)*price_table[stock1+\"_close\"].shift(1)\n",
    "        price_table[stock2+\"_value\"] = price_table[stock2+\"_suggest_shares\"].shift(1)*price_table[stock2+\"_close\"].shift(1)\n",
    "        price_table[\"p_L\"] = price_table[stock1+\"_value\"].shift(1) * price_table[stock1+\"_log_ret\"].shift(1)*price_table.trade.shift(1) +  \\\n",
    "        price_table[stock2+\"_value\"].shift(1) * price_table[stock2+\"_log_ret\"].shift(1)*price_table.trade.shift(1)\n",
    "\n",
    "    print (\"Finalizing, 90%\")\n",
    "    price_table[\"rolling_p_L\"] = price_table.p_L.rolling(window).sum()\n",
    "    return price_table"
   ]
  },
  {
   "cell_type": "code",
   "execution_count": 41,
   "metadata": {},
   "outputs": [
    {
     "name": "stdout",
     "output_type": "stream",
     "text": [
      "Finished VIXY\n",
      "Finished SPY\n",
      "Log return done, 10%\n",
      "Signal Line done, 30%\n",
      "Trade singal done, 60%\n",
      "Finalizing, 90%\n"
     ]
    }
   ],
   "source": [
    "price = pair_trade(\"VIXY\",\"SPY\",1500,continuous=True)"
   ]
  },
  {
   "cell_type": "code",
   "execution_count": 42,
   "metadata": {},
   "outputs": [
    {
     "data": {
      "text/plain": [
       "237.4736700510888"
      ]
     },
     "execution_count": 42,
     "metadata": {},
     "output_type": "execute_result"
    }
   ],
   "source": [
    "price.p_L.sum()"
   ]
  },
  {
   "cell_type": "code",
   "execution_count": 38,
   "metadata": {},
   "outputs": [
    {
     "data": {
      "text/plain": [
       "145"
      ]
     },
     "execution_count": 38,
     "metadata": {},
     "output_type": "execute_result"
    }
   ],
   "source": [
    "len(price)"
   ]
  },
  {
   "cell_type": "code",
   "execution_count": 43,
   "metadata": {},
   "outputs": [],
   "source": [
    "price.to_csv(\"price_table.csv\")"
   ]
  },
  {
   "cell_type": "code",
   "execution_count": 86,
   "metadata": {},
   "outputs": [
    {
     "data": {
      "text/plain": [
       "32.365204234006"
      ]
     },
     "execution_count": 86,
     "metadata": {},
     "output_type": "execute_result"
    }
   ],
   "source": [
    "price_table.relative.std()"
   ]
  },
  {
   "cell_type": "code",
   "execution_count": null,
   "metadata": {
    "collapsed": true
   },
   "outputs": [],
   "source": []
  }
 ],
 "metadata": {
  "kernelspec": {
   "display_name": "Python 2",
   "language": "python",
   "name": "python2"
  },
  "language_info": {
   "codemirror_mode": {
    "name": "ipython",
    "version": 2
   },
   "file_extension": ".py",
   "mimetype": "text/x-python",
   "name": "python",
   "nbconvert_exporter": "python",
   "pygments_lexer": "ipython2",
   "version": "2.7.13"
  }
 },
 "nbformat": 4,
 "nbformat_minor": 2
}
