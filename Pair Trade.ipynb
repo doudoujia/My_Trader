{
 "cells": [
  {
   "cell_type": "code",
   "execution_count": 1,
   "metadata": {},
   "outputs": [
    {
     "name": "stderr",
     "output_type": "stream",
     "text": [
      "C:\\ProgramData\\Anaconda2\\lib\\site-packages\\fix_yahoo_finance\\__init__.py:43: DeprecationWarning: \n",
      "    Auto-overriding of pandas_datareader's get_data_yahoo() is deprecated and no longer available.\n",
      "    Use pdr_override() to explicitly override it.\n",
      "  DeprecationWarning)\n"
     ]
    }
   ],
   "source": [
    "from my_trader import *"
   ]
  },
  {
   "cell_type": "code",
   "execution_count": 2,
   "metadata": {},
   "outputs": [
    {
     "name": "stdout",
     "output_type": "stream",
     "text": [
      "Finished VIXY\n",
      "Finished SPY\n"
     ]
    },
    {
     "name": "stderr",
     "output_type": "stream",
     "text": [
      "C:\\ProgramData\\Anaconda2\\lib\\site-packages\\pandas\\core\\indexing.py:132: SettingWithCopyWarning: \n",
      "A value is trying to be set on a copy of a slice from a DataFrame\n",
      "\n",
      "See the caveats in the documentation: http://pandas.pydata.org/pandas-docs/stable/indexing.html#indexing-view-versus-copy\n",
      "  self._setitem_with_indexer(indexer, value)\n"
     ]
    }
   ],
   "source": [
    "robinhood = get_robinhood()\n",
    "stock1 = \"VIXY\"\n",
    "stock2 = \"SPY\"\n",
    "window = 30\n",
    "data_len = 210\n",
    "initial = 1500\n",
    "\n",
    "\n",
    "price1 = get_price_data([stock1],method=\"day\",start_date=datetime.now()-timedelta(days=data_len),end_date=datetime.now()-timedelta(days=0))\n",
    "price2 = get_price_data([stock2],method=\"day\",start_date=datetime.now()-timedelta(days=data_len),end_date=datetime.now()-timedelta(days=0))\n",
    "#price1 = get_price_data([stock1],method = \"robinhood\")\n",
    "#price2 = get_price_data([stock2],method = \"robinhood\")\n",
    "price1 = price1.set_index(\"TimeStamp\")\n",
    "price2 = price2.set_index(\"TimeStamp\")\n",
    "price1 = price1.rename(columns={\"Close\":stock1+\"_close\"})\n",
    "price2 = price2.rename(columns={\"Close\":stock2+\"_close\"})\n",
    "\n",
    "\n",
    "\n",
    "price_table = pd.concat([price1[stock1+\"_close\"],price2[stock2+\"_close\"]],axis = 1)\n",
    "price_table = price_table.fillna(price_table.shift(1))\n",
    "price_table[stock1+\"_close\"] = price_table[stock1+\"_close\"].astype(float)\n",
    "price_table[stock2+\"_close\"] = price_table[stock2+\"_close\"].astype(float)\n",
    "price_table[stock1+\"_log_ret\"] = log(price_table[stock1+\"_close\"] / price_table[stock1+\"_close\"].shift(1))\n",
    "price_table[stock2+\"_log_ret\"] = log(price_table[stock2+\"_close\"] / price_table[stock2+\"_close\"].shift(1))\n",
    "\n",
    "#price_table=price_table.fillna(1)\n",
    "\n",
    "price_table[stock1+\"_log_ret_mv\"] = price_table[stock1+\"_log_ret\"].rolling(window).mean()\n",
    "price_table[stock2+\"_log_ret_mv\"] =price_table[stock2+\"_log_ret\"].rolling(window).mean()\n",
    "price_table[\"relative\"]=price_table[stock1+\"_log_ret\"]/price_table[stock2+\"_log_ret\"]\n",
    "price_table[\"relative_mv\"] = price_table[\"relative\"].rolling(window).mean()\n",
    "\n",
    "price_table.relative.loc[price_table.relative==-np.inf]=np.NaN\n",
    "\n",
    "#price_table[\"relative_mv\"]=price_table[stock1+\"_log_ret_mv\"]/price_table[stock2+\"_log_ret_mv\"]\n",
    "price_table[\"z_score\"] =( price_table[\"relative\"]-price_table[\"relative_mv\"])/price_table.relative.std()\n",
    "price_table[\"trade\"]=0\n",
    "price_table[\"trade_signal\"]=np.NaN\n",
    "price_table[\"slope\"]=0\n",
    "for i in range(window-1,len(price_table)):\n",
    "    price_table[\"slope\"].iloc[i] = stats.linregress(price_table[stock1+\"_log_ret\"]\\\n",
    "                                                    .iloc[i-(window-1):i],price_table[stock2+\"_log_ret\"].iloc[i-(window-1):i])[0]\n",
    "price_table[\"buy_line\"] = np.NaN\n",
    "\n",
    "\n",
    "\n",
    "for i in range(window-1,len(price_table)):\n",
    "    if price_table.slope.iloc[i]>0.5:\n",
    "        price_table[\"buy_line\"].iloc[i] = -1.25\n",
    "    elif price_table.slope.iloc[i]>0.75:\n",
    "        price_table[\"buy_line\"].iloc[i]= -1.75\n",
    "    elif price_table.slope.iloc[i]<-0.5:\n",
    "        price_table[\"buy_line\"].iloc[i] -2.25\n",
    "    elif price_table.slope.iloc[i]<-0.75:\n",
    "        price_table[\"buy_line\"].iloc[i]= -2.75\n",
    "    else:\n",
    "        price_table[\"buy_line\"].iloc[i] = -2\n",
    "price_table[\"sell_line\"] = np.NaN\n",
    "for i in range(window-1,len(price_table)):\n",
    "    if price_table.slope.iloc[i]>0.5:\n",
    "        price_table[\"sell_line\"].iloc[i] = 1.25\n",
    "    elif price_table.slope.iloc[i]>0.75:\n",
    "        price_table[\"sell_line\"].iloc[i] = 1.75\n",
    "    elif price_table.slope.iloc[i]<-0.5:\n",
    "        price_table[\"sell_line\"].iloc[i] = 2.25\n",
    "    elif price_table.slope.iloc[i]<-0.75:\n",
    "        price_table[\"sell_line\"].iloc[i] = 2.75\n",
    "    else:\n",
    "        price_table[\"sell_line\"].iloc[i] = 2  \n",
    "           \n",
    "#no short sell\n",
    "\n",
    "price_table[\"relative_mv\"] = abs(price_table[\"relative_mv\"])\n",
    "\n",
    "        \n",
    "#price_table[\"cost_per_trade\"] =abs( price_table[stock1+\"_close\"]+price_table[stock2+\"_close\"]*price_table[\"relative_mv\"])\n",
    "price_table[stock1+\"_suggest_shares\"] = np.ceil((initial/(1+price_table[\"relative_mv\"])/price_table[stock1+\"_close\"]))\n",
    "price_table[stock2+\"_suggest_shares\"] = np.ceil((initial/(1+price_table[\"relative_mv\"])*price_table[\"relative_mv\"]/price_table[stock2+\"_close\"]))\n",
    "\n",
    "\n",
    "\n",
    "#set live trade signal and backtest \n",
    "price_table[stock1+\"_shares\"] = 0 \n",
    "price_table[stock2+\"_shares\"] = 0\n",
    "for i in range(window-1,len(price_table)):\n",
    "    if price_table.z_score.iloc[i] < price_table.buy_line.iloc[i]:\n",
    "        price_table[\"trade\"].iloc[i] = 1\n",
    "        price_table[\"trade_signal\"].iloc[i] = 1\n",
    "        price_table[stock1+\"_shares\"].iloc[i] = price_table[stock1+\"_suggest_shares\"].iloc[i]\n",
    "        price_table[stock2+\"_shares\"].iloc[i] = price_table[stock2+\"_suggest_shares\"].iloc[i]\n",
    "    elif price_table.z_score.iloc[i] > price_table.sell_line.iloc[i]:\n",
    "        price_table[\"trade\"].iloc[i] = 0\n",
    "        price_table[\"trade_signal\"].iloc[i] = 0\n",
    "        price_table[stock1+\"_shares\"].iloc[i] = 0 \n",
    "        price_table[stock2+\"_shares\"].iloc[i] = 0\n",
    "    else:\n",
    "        price_table[\"trade\"].iloc[i] = price_table.trade.iloc[i-1]\n",
    "        price_table[stock1+\"_shares\"].iloc[i] = price_table[stock1+\"_shares\"].iloc[i-1]\n",
    "        price_table[stock2+\"_shares\"].iloc[i] = price_table[stock2+\"_shares\"].iloc[i-1]\n",
    "\n",
    "#price_table[stock1+\"_value\"] = price_table[stock1+\"_suggest_shares\"]*price_table[stock1+\"_close\"]\n",
    "#price_table[stock2+\"_value\"] = price_table[stock2+\"_suggest_shares\"]*price_table[stock2+\"_close\"]\n",
    "\n",
    "price_table[stock1+\"_value\"] = price_table[stock1+\"_shares\"]*price_table[stock1+\"_close\"]\n",
    "price_table[stock2+\"_value\"] = price_table[stock2+\"_shares\"]*price_table[stock2+\"_close\"]\n",
    "\n",
    "\n",
    "\n",
    "price_table[\"p_L\"] = price_table[stock1+\"_value\"].shift(1) * price_table[stock1+\"_log_ret\"].shift(1)*price_table.trade.shift(1) +  \\\n",
    "price_table[stock2+\"_value\"].shift(1) * price_table[stock2+\"_log_ret\"].shift(1)*price_table.trade.shift(1)\n",
    "price_table[\"rolling_p_L\"] = price_table.p_L.rolling(30).sum()"
   ]
  },
  {
   "cell_type": "code",
   "execution_count": 101,
   "metadata": {
    "scrolled": false
   },
   "outputs": [
    {
     "data": {
      "text/plain": [
       "VIXY_close               35.470001\n",
       "SPY_close               269.130005\n",
       "VIXY_log_ret             -0.032999\n",
       "SPY_log_ret               0.019511\n",
       "VIXY_log_ret_mv           0.014600\n",
       "SPY_log_ret_mv            0.000193\n",
       "relative                 -1.691329\n",
       "relative_mv               4.130633\n",
       "z_score                   0.039613\n",
       "trade                     1.000000\n",
       "trade_signal                   NaN\n",
       "slope                    -0.153826\n",
       "buy_line                 -2.000000\n",
       "sell_line                 2.000000\n",
       "VIXY_suggest_shares       9.000000\n",
       "SPY_suggest_shares        5.000000\n",
       "VIXY_shares               2.000000\n",
       "SPY_shares                6.000000\n",
       "VIXY_value               70.940002\n",
       "SPY_value              1614.780030\n",
       "p_L                     -46.066290\n",
       "rolling_p_L              14.774481\n",
       "Name: 2018-02-06 00:00:00, dtype: float64"
      ]
     },
     "execution_count": 101,
     "metadata": {},
     "output_type": "execute_result"
    }
   ],
   "source": [
    "price_table.iloc[-1]"
   ]
  },
  {
   "cell_type": "code",
   "execution_count": 33,
   "metadata": {
    "collapsed": true
   },
   "outputs": [],
   "source": [
    "price_table.to_csv(\"price_table.csv\")"
   ]
  },
  {
   "cell_type": "code",
   "execution_count": 37,
   "metadata": {},
   "outputs": [
    {
     "data": {
      "text/plain": [
       "(          Beta\n",
       " VIXY -0.883393, array([[  6.25742912e-05,  -3.31949627e-04],\n",
       "        [ -3.31949627e-04,   2.25652577e-03]]), [0.047502902712985122])"
      ]
     },
     "execution_count": 37,
     "metadata": {},
     "output_type": "execute_result"
    }
   ],
   "source": [
    "beta([\"VIXY\"])"
   ]
  },
  {
   "cell_type": "code",
   "execution_count": 44,
   "metadata": {
    "collapsed": true
   },
   "outputs": [
    {
     "data": {
      "text/plain": [
       "{u'adjusted_previous_close': u'27.3100',\n",
       " u'ask_price': u'47.0000',\n",
       " u'ask_size': 500,\n",
       " u'bid_price': u'40.5000',\n",
       " u'bid_size': 3000,\n",
       " u'has_traded': True,\n",
       " u'instrument': u'https://api.robinhood.com/instruments/869251ff-fb17-40c6-9d24-9ab7636dd3d6/',\n",
       " u'last_extended_hours_trade_price': u'44.5100',\n",
       " u'last_trade_price': u'36.6600',\n",
       " u'last_trade_price_source': u'consolidated',\n",
       " u'previous_close': u'27.3100',\n",
       " u'previous_close_date': u'2018-02-02',\n",
       " u'symbol': u'VIXY',\n",
       " u'trading_halted': False,\n",
       " u'updated_at': u'2018-02-06T01:00:00Z'}"
      ]
     },
     "execution_count": 44,
     "metadata": {},
     "output_type": "execute_result"
    }
   ],
   "source": [
    "robinhood.my_trader.quote_data(\"VIXY\")"
   ]
  },
  {
   "cell_type": "code",
   "execution_count": 23,
   "metadata": {
    "collapsed": true
   },
   "outputs": [
    {
     "name": "stdout",
     "output_type": "stream",
     "text": [
      "***********************************************\n",
      "**********VIXY*******************\n",
      "Augmented Dickey Fuller test statistic = -1.17422487337\n",
      "Augmented Dickey Fuller p-value = 0.68458410199\n",
      "Augmented Dickey Fuller 1%, 5% and 10% test statistics = {'5%': -2.8770397560752436, '1%': -3.4656203971241921, '10%': -2.5750324547306476}\n",
      "Hurst Exponent = 0.45\n",
      "Halflife =  126.0\n",
      "\n",
      "\n",
      "['VIXY', 'Augmented Dickey Fuller: Not significant', 'mean reverting', 'Halflife: 126.0 10_minute']\n",
      "***********************************************\n"
     ]
    },
    {
     "data": {
      "text/plain": [
       "['VIXY',\n",
       " 'Augmented Dickey Fuller: Not significant',\n",
       " 'mean reverting',\n",
       " 'Halflife: 126.0 10_minute']"
      ]
     },
     "execution_count": 23,
     "metadata": {},
     "output_type": "execute_result"
    }
   ],
   "source": [
    "mean_reversion(\"VIXY\",\"minute\")"
   ]
  },
  {
   "cell_type": "code",
   "execution_count": 84,
   "metadata": {
    "collapsed": true
   },
   "outputs": [],
   "source": [
    "price_table.relative.loc[price_table.relative==-np.inf]=np.NaN\n"
   ]
  },
  {
   "cell_type": "code",
   "execution_count": 86,
   "metadata": {},
   "outputs": [
    {
     "data": {
      "text/plain": [
       "32.365204234006"
      ]
     },
     "execution_count": 86,
     "metadata": {},
     "output_type": "execute_result"
    }
   ],
   "source": [
    "price_table.relative.std()"
   ]
  },
  {
   "cell_type": "code",
   "execution_count": null,
   "metadata": {
    "collapsed": true
   },
   "outputs": [],
   "source": []
  }
 ],
 "metadata": {
  "kernelspec": {
   "display_name": "Python 2",
   "language": "python",
   "name": "python2"
  },
  "language_info": {
   "codemirror_mode": {
    "name": "ipython",
    "version": 2
   },
   "file_extension": ".py",
   "mimetype": "text/x-python",
   "name": "python",
   "nbconvert_exporter": "python",
   "pygments_lexer": "ipython2",
   "version": "2.7.13"
  }
 },
 "nbformat": 4,
 "nbformat_minor": 2
}
