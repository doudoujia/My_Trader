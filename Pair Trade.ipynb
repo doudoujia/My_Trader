{
 "cells": [
  {
   "cell_type": "code",
   "execution_count": 1,
   "metadata": {},
   "outputs": [
    {
     "name": "stderr",
     "output_type": "stream",
     "text": [
      "C:\\ProgramData\\Anaconda2\\lib\\site-packages\\fix_yahoo_finance\\__init__.py:43: DeprecationWarning: \n",
      "    Auto-overriding of pandas_datareader's get_data_yahoo() is deprecated and no longer available.\n",
      "    Use pdr_override() to explicitly override it.\n",
      "  DeprecationWarning)\n"
     ]
    }
   ],
   "source": [
    "from my_trader import *"
   ]
  },
  {
   "cell_type": "code",
   "execution_count": 22,
   "metadata": {},
   "outputs": [],
   "source": [
    "robinhood = get_robinhood()\n",
    "stock1 = \"UVXY\"\n",
    "stock2 = \"SPY\"\n",
    "window = 7\n",
    "initial = 1200\n",
    "\n",
    "\n",
    "price1 = robinhood.get_historical(stock1)\n",
    "price2 = robinhood.get_historical(stock2)\n",
    "price1 = price1.set_index(\"begins_at\")\n",
    "price2 = price2.set_index(\"begins_at\")\n",
    "price1 = price1.rename(columns={\"close_price\":stock1+\"_close\"})\n",
    "price2 = price2.rename(columns={\"close_price\":stock2+\"_close\"})\n",
    "\n",
    "\n",
    "\n",
    "price_table = pd.concat([price1[stock1+\"_close\"],price2[stock2+\"_close\"]],axis = 1)\n",
    "price_table[stock1+\"_close\"] = price_table[stock1+\"_close\"].astype(float)\n",
    "price_table[stock2+\"_close\"] = price_table[stock2+\"_close\"].astype(float)\n",
    "price_table[stock1+\"_log_ret\"] = log(price_table[stock1+\"_close\"] / price_table[stock1+\"_close\"].shift(1))\n",
    "price_table[stock2+\"_log_ret\"] = log(price_table[stock2+\"_close\"] / price_table[stock2+\"_close\"].shift(1))\n",
    "price_table[stock1+\"_log_ret_mv\"] = price_table[stock1+\"_log_ret\"].rolling(window).mean()\n",
    "price_table[stock2+\"_log_ret_mv\"] =price_table[stock2+\"_log_ret\"].rolling(window).mean()\n",
    "price_table[\"relative\"]=price_table[stock1+\"_log_ret\"]/price_table[stock2+\"_log_ret\"]\n",
    "price_table[\"relative_mv\"] = price_table[\"relative\"].rolling(window).mean()\n",
    "#price_table[\"relative_mv\"]=price_table[stock1+\"_log_ret_mv\"]/price_table[stock2+\"_log_ret_mv\"]\n",
    "price_table[\"z_score\"] =( price_table[\"relative\"]-price_table[\"relative_mv\"])/price_table.relative.std()\n",
    "price_table[\"trade\"]=np.NaN\n",
    "price_table[\"trade_signal\"]=np.NaN\n",
    "price_table[\"slope\"]=np.NaN\n",
    "for i in range(window-1,len(price_table)):\n",
    "    price_table[\"slope\"].iloc[i] = stats.linregress(price_table[stock1+\"_log_ret\"]\\\n",
    "                                                    .iloc[i-(window-1):i],price_table[stock2+\"_log_ret\"].iloc[i-(window-1):i])[0]\n",
    "price_table[\"buy_line\"] = np.NaN\n",
    "for i in range(window-1,len(price_table)):\n",
    "    if price_table.slope.iloc[i]>0.5:\n",
    "        price_table[\"buy_line\"].iloc[i] = -1.25\n",
    "    elif price_table.slope.iloc[i]>0.75:\n",
    "        price_table[\"buy_line\"].iloc[i] -1.75\n",
    "    else:\n",
    "        price_table[\"buy_line\"].iloc[i] = -2\n",
    "price_table[\"sell_line\"] = np.NaN\n",
    "for i in range(window-1,len(price_table)):\n",
    "    if price_table.slope.iloc[i]>0.5:\n",
    "        price_table[\"sell_line\"].iloc[i] = 1.25\n",
    "    elif price_table.slope.iloc[i]>0.75:\n",
    "        price_table[\"sell_line\"].iloc[i] = 1.75\n",
    "    else:\n",
    "        price_table[\"sell_line\"].iloc[i] = 2  \n",
    "#set live trade signal and backtest \n",
    "for i in range(window-1,len(price_table)):\n",
    "    if price_table.z_score.iloc[i] < price_table.buy_line.iloc[i]:\n",
    "        price_table.trade.iloc[i] = 1\n",
    "        price_table.trade_signal.iloc[i] = 1\n",
    "    elif price_table.z_score.iloc[i] > price_table.sell_line.iloc[i]:\n",
    "        price_table.trade.iloc[i] = 0\n",
    "        price_table.trade_signal.iloc[i] = 0\n",
    "    else:\n",
    "        price_table.trade.iloc[i] = price_table.trade.iloc[i-1]\n",
    "\n",
    "        \n",
    "#price_table[\"cost_per_trade\"] =abs( price_table[stock1+\"_close\"]+price_table[stock2+\"_close\"]*price_table[\"relative_mv\"])\n",
    "price_table[stock1+\"_value\"] = initial/(1+price_table[\"relative_mv\"])\n",
    "price_table[stock2+\"_value\"] = initial/(1+price_table[\"relative_mv\"])*price_table[\"relative_mv\"]\n",
    "price_table[stock1+\"_shares\"] = price_table[stock1+\"_value\"]/price_table[stock1+\"_close\"]\n",
    "price_table[stock2+\"_shares\"] = price_table[stock2+\"_value\"]/price_table[stock2+\"_close\"]\n",
    "\n",
    "price_table[\"p_L\"] = price_table[stock1+\"_value\"] * price_table[stock1+\"_log_ret\"]*price_table.trade +  \\\n",
    "price_table[stock2+\"_value\"] * price_table[stock2+\"_log_ret\"]*price_table.trade"
   ]
  },
  {
   "cell_type": "code",
   "execution_count": 21,
   "metadata": {},
   "outputs": [
    {
     "data": {
      "text/plain": [
       "-226.7669991017313"
      ]
     },
     "execution_count": 21,
     "metadata": {},
     "output_type": "execute_result"
    }
   ],
   "source": [
    "price_table.p_L.sum()"
   ]
  },
  {
   "cell_type": "code",
   "execution_count": 140,
   "metadata": {},
   "outputs": [],
   "source": [
    "price_table.to_csv(\"price_table.csv\")"
   ]
  },
  {
   "cell_type": "code",
   "execution_count": 23,
   "metadata": {},
   "outputs": [
    {
     "ename": "KeyError",
     "evalue": "'results'",
     "output_type": "error",
     "traceback": [
      "\u001b[1;31m---------------------------------------------------------------------------\u001b[0m",
      "\u001b[1;31mKeyError\u001b[0m                                  Traceback (most recent call last)",
      "\u001b[1;32m<ipython-input-23-ac319cb5087d>\u001b[0m in \u001b[0;36m<module>\u001b[1;34m()\u001b[0m\n\u001b[1;32m----> 1\u001b[1;33m \u001b[0mstocks\u001b[0m\u001b[1;33m,\u001b[0m \u001b[0mquantity\u001b[0m \u001b[1;33m=\u001b[0m\u001b[0mrobinhood\u001b[0m\u001b[1;33m.\u001b[0m\u001b[0mget_my_positions\u001b[0m\u001b[1;33m(\u001b[0m\u001b[1;33m)\u001b[0m\u001b[1;33m\u001b[0m\u001b[0m\n\u001b[0m",
      "\u001b[1;32mC:\\Ken'sDesktop\\My_Trader\\my_trader\\my_trader.py\u001b[0m in \u001b[0;36mget_my_positions\u001b[1;34m(self)\u001b[0m\n\u001b[0;32m    307\u001b[0m         \u001b[0mmy_positions\u001b[0m\u001b[1;33m=\u001b[0m\u001b[1;33m[\u001b[0m\u001b[1;33m]\u001b[0m\u001b[1;33m\u001b[0m\u001b[0m\n\u001b[0;32m    308\u001b[0m         \u001b[0mposition_quantity\u001b[0m \u001b[1;33m=\u001b[0m \u001b[1;33m[\u001b[0m\u001b[1;33m]\u001b[0m\u001b[1;33m\u001b[0m\u001b[0m\n\u001b[1;32m--> 309\u001b[1;33m         \u001b[1;32mfor\u001b[0m \u001b[0mi\u001b[0m \u001b[1;32min\u001b[0m \u001b[0mself\u001b[0m\u001b[1;33m.\u001b[0m\u001b[0mmy_trader\u001b[0m\u001b[1;33m.\u001b[0m\u001b[0mpositions\u001b[0m\u001b[1;33m(\u001b[0m\u001b[1;33m)\u001b[0m\u001b[1;33m[\u001b[0m\u001b[1;34m\"results\"\u001b[0m\u001b[1;33m]\u001b[0m\u001b[1;33m:\u001b[0m\u001b[1;33m\u001b[0m\u001b[0m\n\u001b[0m\u001b[0;32m    310\u001b[0m             \u001b[1;32mif\u001b[0m \u001b[0mfloat\u001b[0m\u001b[1;33m(\u001b[0m\u001b[0mi\u001b[0m\u001b[1;33m[\u001b[0m\u001b[1;34m\"quantity\"\u001b[0m\u001b[1;33m]\u001b[0m\u001b[1;33m)\u001b[0m\u001b[1;33m>\u001b[0m\u001b[1;36m0\u001b[0m\u001b[1;33m:\u001b[0m\u001b[1;33m\u001b[0m\u001b[0m\n\u001b[0;32m    311\u001b[0m                 \u001b[0mposition_quantity\u001b[0m\u001b[1;33m.\u001b[0m\u001b[0mappend\u001b[0m\u001b[1;33m(\u001b[0m\u001b[0mfloat\u001b[0m\u001b[1;33m(\u001b[0m\u001b[0mi\u001b[0m\u001b[1;33m[\u001b[0m\u001b[1;34m\"quantity\"\u001b[0m\u001b[1;33m]\u001b[0m\u001b[1;33m)\u001b[0m\u001b[1;33m)\u001b[0m\u001b[1;33m\u001b[0m\u001b[0m\n",
      "\u001b[1;31mKeyError\u001b[0m: 'results'"
     ]
    }
   ],
   "source": [
    "stocks, quantity =robinhood.get_my_positions()"
   ]
  },
  {
   "cell_type": "code",
   "execution_count": null,
   "metadata": {
    "collapsed": true
   },
   "outputs": [],
   "source": []
  }
 ],
 "metadata": {
  "kernelspec": {
   "display_name": "Python 2",
   "language": "python",
   "name": "python2"
  },
  "language_info": {
   "codemirror_mode": {
    "name": "ipython",
    "version": 2
   },
   "file_extension": ".py",
   "mimetype": "text/x-python",
   "name": "python",
   "nbconvert_exporter": "python",
   "pygments_lexer": "ipython2",
   "version": "2.7.13"
  }
 },
 "nbformat": 4,
 "nbformat_minor": 2
}
