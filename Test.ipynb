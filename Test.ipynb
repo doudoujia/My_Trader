{
 "cells": [
  {
   "cell_type": "code",
   "execution_count": 34,
   "metadata": {},
   "outputs": [],
   "source": [
    "from my_trader import *\n",
    "import math"
   ]
  },
  {
   "cell_type": "code",
   "execution_count": 2,
   "metadata": {},
   "outputs": [],
   "source": [
    "robinhood = get_robinhood()\n",
    "robinhood.login(\"lgyhz123\",\"5093945464lgyhz\")"
   ]
  },
  {
   "cell_type": "code",
   "execution_count": 3,
   "metadata": {},
   "outputs": [
    {
     "data": {
      "text/plain": [
       "(          Beta\n",
       " AAPL  0.746571, array([[  7.39559756e-07,   8.40389182e-07],\n",
       "        [  8.40389182e-07,   1.71334738e-06]]))"
      ]
     },
     "execution_count": 3,
     "metadata": {},
     "output_type": "execute_result"
    }
   ],
   "source": [
    "beta([\"AAPL\"],interval = \"minute\")"
   ]
  },
  {
   "cell_type": "code",
   "execution_count": 3,
   "metadata": {},
   "outputs": [
    {
     "name": "stdout",
     "output_type": "stream",
     "text": [
      "ZNGA 1.0000\n",
      "TAHO 1.0000\n",
      "RRGB 1.0000\n",
      "SPY 6.0000\n",
      "IEP 3.0000\n",
      "OSG 1.0000\n",
      "ROYT 2.0000\n",
      "FCFS 1.0000\n",
      "AES 1.0000\n",
      "ISSC 1.0000\n",
      "FDC 1.0000\n",
      "WLK 1.0000\n",
      "VRNT 1.0000\n",
      "0.840984907799\n",
      "          Beta  Quantity  Last_price    Weight\n",
      "ZNGA  0.036493       1.0        3.80  0.001752\n",
      "TAHO -0.369054       1.0        4.72  0.002176\n",
      "RRGB  0.403548       1.0       53.30  0.024568\n",
      "SPY   1.000000       6.0      279.61  0.773311\n",
      "IEP   0.325061       3.0       55.90  0.077301\n",
      "OSG   0.210234       1.0        2.81  0.001295\n",
      "ROYT  0.105414       2.0        2.52  0.002323\n",
      "FCFS  0.402574       1.0       70.95  0.032704\n",
      "AES   0.222917       1.0       10.72  0.004941\n",
      "ISSC  0.054599       1.0        3.03  0.001397\n",
      "FDC   0.435015       1.0       17.60  0.008113\n",
      "WLK   0.137103       1.0      108.77  0.050137\n",
      "VRNT  0.405705       1.0       43.35  0.019982\n"
     ]
    },
    {
     "data": {
      "text/plain": [
       "(0.84098490779876256,           Beta  Quantity  Last_price    Weight\n",
       " ZNGA  0.036493       1.0        3.80  0.001752\n",
       " TAHO -0.369054       1.0        4.72  0.002176\n",
       " RRGB  0.403548       1.0       53.30  0.024568\n",
       " SPY   1.000000       6.0      279.61  0.773311\n",
       " IEP   0.325061       3.0       55.90  0.077301\n",
       " OSG   0.210234       1.0        2.81  0.001295\n",
       " ROYT  0.105414       2.0        2.52  0.002323\n",
       " FCFS  0.402574       1.0       70.95  0.032704\n",
       " AES   0.222917       1.0       10.72  0.004941\n",
       " ISSC  0.054599       1.0        3.03  0.001397\n",
       " FDC   0.435015       1.0       17.60  0.008113\n",
       " WLK   0.137103       1.0      108.77  0.050137\n",
       " VRNT  0.405705       1.0       43.35  0.019982)"
      ]
     },
     "execution_count": 3,
     "metadata": {},
     "output_type": "execute_result"
    }
   ],
   "source": [
    "robinhood.get_my_position_beta_minute()"
   ]
  },
  {
   "cell_type": "code",
   "execution_count": 15,
   "metadata": {},
   "outputs": [
    {
     "data": {
      "text/plain": [
       "(          Beta\n",
       " UVXY  0.846917, array([[ 0.00338583,  0.00206093],\n",
       "        [ 0.00206093,  0.00174895]]))"
      ]
     },
     "execution_count": 15,
     "metadata": {},
     "output_type": "execute_result"
    }
   ],
   "source": [
    "beta([\"UVXY\"],bench= \"^VIX\",interval = \"day\")"
   ]
  },
  {
   "cell_type": "code",
   "execution_count": 9,
   "metadata": {
    "collapsed": true
   },
   "outputs": [],
   "source": [
    "robinhood.logout()"
   ]
  },
  {
   "cell_type": "code",
   "execution_count": 5,
   "metadata": {},
   "outputs": [],
   "source": [
    "bench= \"SPY\"\n",
    "ticker_list = [\"UVXY\"]\n",
    "interval = \"minute\""
   ]
  },
  {
   "cell_type": "code",
   "execution_count": 6,
   "metadata": {},
   "outputs": [],
   "source": [
    "robinhood = get_robinhood()\n",
    "betas = []\n",
    "ben_mark=pd.DataFrame()\n",
    "if interval == \"day\":\n",
    "    ben_mark= da.DataReader(bench,\"yahoo\",datetime.now()-timedelta(days=90),datetime.now())\n",
    "    ben_mark=ben_mark.rename(columns ={\"Adj Close\":bench})\n",
    "elif interval == \"minute\":\n",
    "    ben_mark = robinhood.get_historical(bench,interval=\"10minute\",span = \"week\")\n",
    "    ben_mark=ben_mark.rename(columns ={\"close_price\":bench})\n",
    "    ben_mark[bench]=ben_mark[bench].astype(float)\n",
    "    ben_mark.index = ben_mark.begins_at\n",
    "ben_mark[bench + \"_re\"] = log(ben_mark[bench]/ben_mark[bench].shift(1))\n",
    "for i in list(ticker_list):\n",
    "    new=[]\n",
    "    ticker = i\n",
    "    try:\n",
    "        if interval ==\"day\":\n",
    "\n",
    "            stock = da.DataReader(str(ticker),\"yahoo\",datetime.now()-timedelta(days=90),datetime.now())\n",
    "            stock = stock.rename(columns = {\"Adj Close\":ticker})\n",
    "        elif interval == \"minute\":\n",
    "            stock= robinhood.get_historical(ticker,interval=\"10minute\",span = \"week\")\n",
    "            stock=stock.rename(columns ={\"close_price\":ticker})\n",
    "            stock[ticker] = stock[ticker].astype(float)\n",
    "            stock.index = stock.begins_at\n",
    "    except:\n",
    "        print (str(i)+\" ticker maybe wrong. Error in getting data\")\n",
    "        betas.append(np.NaN)\n",
    "        continue\n",
    "\n",
    "    # get return and put them in a new dataframe\n",
    "\n",
    "    stock[ticker + \"_re\"] = log(stock[ticker]/stock[ticker].shift(1))\n",
    "    new = pd.concat([ben_mark,stock],axis =1)\n",
    "    new = new[[bench + \"_re\",ticker + \"_re\" ]]\n",
    "    new = new.dropna()\n",
    "\n",
    "    #calculate beta using covariance matrix\n",
    "    covmat = np.cov(new[bench + \"_re\"],new[ticker + \"_re\"])\n",
    "    beta = covmat[0,1]/  np.sqrt(covmat[1,1]*covmat[0,0])\n",
    "    betas.append(beta)\n",
    "betas = pd.DataFrame(betas)\n",
    "betas.index = ticker_list\n",
    "betas.columns=[\"Beta\"]\n"
   ]
  },
  {
   "cell_type": "code",
   "execution_count": 22,
   "metadata": {},
   "outputs": [
    {
     "data": {
      "text/plain": [
       "2169.45"
      ]
     },
     "execution_count": 22,
     "metadata": {},
     "output_type": "execute_result"
    }
   ],
   "source": [
    "robinhood.my_trader.market_value()"
   ]
  },
  {
   "cell_type": "code",
   "execution_count": 6,
   "metadata": {
    "collapsed": true
   },
   "outputs": [
    {
     "data": {
      "text/plain": [
       "[{u'adjusted_previous_close': u'176.1900',\n",
       "  u'ask_price': u'179.4600',\n",
       "  u'ask_size': 100,\n",
       "  u'bid_price': u'179.3000',\n",
       "  u'bid_size': 200,\n",
       "  u'has_traded': True,\n",
       "  u'instrument': u'https://api.robinhood.com/instruments/450dfc6d-5510-4d40-abfb-f633b7d9be3e/',\n",
       "  u'last_extended_hours_trade_price': u'179.3700',\n",
       "  u'last_trade_price': u'179.1000',\n",
       "  u'last_trade_price_source': u'consolidated',\n",
       "  u'previous_close': u'176.1900',\n",
       "  u'previous_close_date': u'2018-01-16',\n",
       "  u'symbol': u'AAPL',\n",
       "  u'trading_halted': False,\n",
       "  u'updated_at': u'2018-01-18T01:00:00Z'},\n",
       " {u'adjusted_previous_close': u'9.7500',\n",
       "  u'ask_price': u'9.4600',\n",
       "  u'ask_size': 1600,\n",
       "  u'bid_price': u'9.4200',\n",
       "  u'bid_size': 500,\n",
       "  u'has_traded': True,\n",
       "  u'instrument': u'https://api.robinhood.com/instruments/00e90099-4281-4c93-b50d-fbd4d2469821/',\n",
       "  u'last_extended_hours_trade_price': u'9.4000',\n",
       "  u'last_trade_price': u'9.3400',\n",
       "  u'last_trade_price_source': u'consolidated',\n",
       "  u'previous_close': u'9.7500',\n",
       "  u'previous_close_date': u'2018-01-16',\n",
       "  u'symbol': u'UVXY',\n",
       "  u'trading_halted': False,\n",
       "  u'updated_at': u'2018-01-18T00:59:55Z'}]"
      ]
     },
     "execution_count": 6,
     "metadata": {},
     "output_type": "execute_result"
    }
   ],
   "source": [
    "robinhood.my_trader.quotes_data([\"AAPL\",\"UVXY\"])"
   ]
  },
  {
   "cell_type": "code",
   "execution_count": 23,
   "metadata": {
    "collapsed": true
   },
   "outputs": [],
   "source": [
    "data = pd.read_csv(\"file/Trade_suggestion2018-01-17.csv\")"
   ]
  },
  {
   "cell_type": "code",
   "execution_count": 42,
   "metadata": {},
   "outputs": [],
   "source": [
    "data[\"position_place\"]= np.ceil(((data.Close.sum()/len(data.Close))/data.Close))"
   ]
  },
  {
   "cell_type": "code",
   "execution_count": 44,
   "metadata": {},
   "outputs": [
    {
     "data": {
      "text/plain": [
       "688.95499500000005"
      ]
     },
     "execution_count": 44,
     "metadata": {},
     "output_type": "execute_result"
    }
   ],
   "source": [
    "np.dot(data.position_place,data.Close)"
   ]
  },
  {
   "cell_type": "code",
   "execution_count": null,
   "metadata": {
    "collapsed": true
   },
   "outputs": [],
   "source": []
  }
 ],
 "metadata": {
  "kernelspec": {
   "display_name": "Python 2",
   "language": "python",
   "name": "python2"
  },
  "language_info": {
   "codemirror_mode": {
    "name": "ipython",
    "version": 2
   },
   "file_extension": ".py",
   "mimetype": "text/x-python",
   "name": "python",
   "nbconvert_exporter": "python",
   "pygments_lexer": "ipython2",
   "version": "2.7.13"
  }
 },
 "nbformat": 4,
 "nbformat_minor": 2
}
