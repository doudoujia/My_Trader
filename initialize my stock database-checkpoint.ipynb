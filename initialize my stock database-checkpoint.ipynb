{
 "cells": [
  {
   "cell_type": "code",
   "execution_count": 3,
   "metadata": {},
   "outputs": [
    {
     "name": "stderr",
     "output_type": "stream",
     "text": [
      "C:\\ProgramData\\Anaconda2\\lib\\site-packages\\fix_yahoo_finance\\__init__.py:43: DeprecationWarning: \n",
      "    Auto-overriding of pandas_datareader's get_data_yahoo() is deprecated and no longer available.\n",
      "    Use pdr_override() to explicitly override it.\n",
      "  DeprecationWarning)\n"
     ]
    }
   ],
   "source": [
    "import pymongo\n",
    "from my_trader import *"
   ]
  },
  {
   "cell_type": "code",
   "execution_count": 4,
   "metadata": {},
   "outputs": [],
   "source": [
    "client = pymongo.MongoClient()\n",
    "db = client[\"stocks_daily\"]\n"
   ]
  },
  {
   "cell_type": "code",
   "execution_count": 43,
   "metadata": {
    "collapsed": true
   },
   "outputs": [],
   "source": [
    "def get_ondemand_quote(sym):\n",
    "    api_key = 'b59b144a62e058b6c4e265c049dc679f'\n",
    "    sym = \"%2C\".join(sym)\n",
    "    # This is the required format for datetimes to access the API\n",
    "\n",
    "    api_url = 'https://marketdata.websol.barchart.com/getQuote.csv?' +\\\n",
    "                    'apikey={}&symbols={}&mode=D'\\\n",
    "                         .format(api_key,sym)\n",
    "\n",
    "    csvfile = pd.read_csv(api_url)\n",
    "    csvfile = csvfile.rename(columns={\"symbol\":\"Ticker\",\"serverTimestamp\":\"TimeStamp\",\\\n",
    "                       \"open\":\"Open\",\"high\":\"High\",\"low\":\"Low\",\"close\":\"Close\",\\\n",
    "                       \"volume\":\"Volume\",\"lastPrice\":\"Adj Close\",\"netChange\":\"Return\"})\n",
    "    #csvfile.set_index('timestamp', inplace=True)\n",
    "    return csvfile\n",
    "\n",
    "def get_all_quote():\n",
    "    result = pd.DataFrame()\n",
    "    all_stock = pd.read_csv(directory + \"Stock.csv\")\n",
    "    for i in range(199,len(all_stock),200):\n",
    "        tic_list = all_stock.Ticker[i-199:i]\n",
    "        result = result.append(get_ondemand_quote(tic_list))   \n",
    "    return result\n",
    "\n",
    "def query_database(stock, start_date = datetime.now()-timedelta(days =190),end_date=datetime.now()):\n",
    "    client = pymongo.MongoClient()\n",
    "    db = client[\"stocks_daily\"]\n",
    "    collection = db[stock]\n",
    "    \n",
    "    start_date=(start_date-datetime.utcfromtimestamp(0)).total_seconds()*1000\n",
    "\n",
    "    end_date = (end_date-datetime.utcfromtimestamp(0)).total_seconds()*1000\n",
    "    get = collection.find({\"Ticker\":stock,\"TimeStamp\":{\"$gte\":start_date,\"$lt\":end_date}}).sort(\"TimeStamp\",pymongo.ASCENDING)\n",
    "    get_frame = pd.DataFrame(list(get))\n",
    "    get_frame[u'TimeStamp'] = get_frame[u'TimeStamp'].apply(lambda x: datetime.utcfromtimestamp(0) + timedelta(milliseconds= x))\n",
    "    get_frame = get_frame.loc[:,[\"TimeStamp\",'Adj Close','High','Low','Open','Return','Ticker',\"Volume\"]]\n",
    "    get_frame = get_frame.dropna()\n",
    "    get_frame = get_frame.reindex()\n",
    "    return get_frame\n",
    "\n",
    "def frame_to_mongo(data,collection):\n",
    "    records = json.loads(data.T.to_json()).values()\n",
    "    collection.insert(records)\n",
    "def update_db(stock):\n",
    "\n",
    "    client = pymongo.MongoClient()\n",
    "    db = client[\"stocks_daily\"]\n",
    "    collection = db[stock]\n",
    "    quote = get_ondemand_quote([stock])\n",
    "    quote['TimeStamp'].loc[0]  = datetime.strptime(quote['TimeStamp'][0][0:10],\"%Y-%m-%d\")\n",
    "    quote = json.loads(quote.T.to_json()).values()[0]\n",
    "    collection.update({\"TimeStamp\":quote[u'TimeStamp']},{\"$set\": quote },upsert=True)\n",
    "\n",
    "def delete_duplicates(stock):\n",
    "    client = pymongo.MongoClient()\n",
    "    db = client[\"stocks_daily\"]\n",
    "    collection = db[stock]\n",
    "    cursor = collection.aggregate(\n",
    "        [\n",
    "            {\"$group\": {\"_id\": \"$TimeStamp\", \"unique_id\": {\"$addToSet\": \"$_id\"}, \"count\": {\"$sum\": 1}}},\n",
    "            {\"$match\": {\"count\": { \"$gte\": 2 }}}\n",
    "        ]\n",
    "    )\n",
    "\n",
    "    response = []\n",
    "    for doc in cursor:\n",
    "        del doc[\"unique_id\"][0]\n",
    "        for id in doc[\"unique_id\"]:\n",
    "            response.append(id)\n",
    "\n",
    "    collection.delete_many({\"_id\": {\"$in\": response}})"
   ]
  },
  {
   "cell_type": "code",
   "execution_count": 10,
   "metadata": {},
   "outputs": [
    {
     "name": "stdout",
     "output_type": "stream",
     "text": [
      "Finished 3553\n",
      "99.66%\n"
     ]
    }
   ],
   "source": [
    "#initiate\n",
    "from IPython.display import clear_output\n",
    "all_stock = pd.read_csv(directory+\"cantrade.csv\")\n",
    "count = 0.0\n",
    "client = pymongo.MongoClient()\n",
    "db = client[\"stocks_daily\"]\n",
    "for i in all_stock.Ticker:\n",
    "    trial=0\n",
    "    success = False\n",
    "    while not success and trial<2:\n",
    "        try:\n",
    "            print (\"getting \"+str(i))\n",
    "            price_table = get_price_data([i],\"day\")\n",
    "            \n",
    "            this_collection = db[i]\n",
    "            frame_to_mongo(price_table,this_collection)\n",
    "            print (\"\\nfinished inserting db \"+str(i))\n",
    "            clear_output()\n",
    "            print (\"Finished \"+str(int(count)))\n",
    "            print (\"{0:0.2f}%\".format( count/len(all_stock)*100))\n",
    "            delete_duplicates(i)\n",
    "            count +=1\n",
    "            success = True\n",
    "        except Exception as e:\n",
    "            print e\n",
    "            trial += 1\n",
    "            time.sleep(3)\n",
    "            print (\"Tring again\")\n",
    "            continue"
   ]
  },
  {
   "cell_type": "code",
   "execution_count": 31,
   "metadata": {
    "scrolled": true
   },
   "outputs": [],
   "source": [
    "for i in all_stock.Ticker:\n",
    "    delete_duplicates(i)\n"
   ]
  },
  {
   "cell_type": "code",
   "execution_count": 44,
   "metadata": {},
   "outputs": [
    {
     "data": {
      "text/html": [
       "<div>\n",
       "<table border=\"1\" class=\"dataframe\">\n",
       "  <thead>\n",
       "    <tr style=\"text-align: right;\">\n",
       "      <th></th>\n",
       "      <th>Ticker</th>\n",
       "      <th>exchange</th>\n",
       "      <th>name</th>\n",
       "      <th>dayCode</th>\n",
       "      <th>TimeStamp</th>\n",
       "      <th>mode</th>\n",
       "      <th>Adj Close</th>\n",
       "      <th>tradeTimestamp</th>\n",
       "      <th>Return</th>\n",
       "      <th>percentChange</th>\n",
       "      <th>unitCode</th>\n",
       "      <th>Open</th>\n",
       "      <th>High</th>\n",
       "      <th>Low</th>\n",
       "      <th>Close</th>\n",
       "      <th>flag</th>\n",
       "      <th>Volume</th>\n",
       "    </tr>\n",
       "  </thead>\n",
       "  <tbody>\n",
       "    <tr>\n",
       "      <th>0</th>\n",
       "      <td>AAPL</td>\n",
       "      <td>NASDAQ</td>\n",
       "      <td>Apple Inc</td>\n",
       "      <td>M</td>\n",
       "      <td>2018-02-23T00:00:00-06:00</td>\n",
       "      <td>d</td>\n",
       "      <td>175.5</td>\n",
       "      <td>2018-02-23T00:00:00-06:00</td>\n",
       "      <td>3</td>\n",
       "      <td>1.74</td>\n",
       "      <td>2</td>\n",
       "      <td>173.67</td>\n",
       "      <td>175.65</td>\n",
       "      <td>173.54</td>\n",
       "      <td>175.5</td>\n",
       "      <td>s</td>\n",
       "      <td>33812300</td>\n",
       "    </tr>\n",
       "  </tbody>\n",
       "</table>\n",
       "</div>"
      ],
      "text/plain": [
       "  Ticker exchange       name dayCode                  TimeStamp mode  \\\n",
       "0   AAPL   NASDAQ  Apple Inc       M  2018-02-23T00:00:00-06:00    d   \n",
       "\n",
       "   Adj Close             tradeTimestamp  Return  percentChange  unitCode  \\\n",
       "0      175.5  2018-02-23T00:00:00-06:00       3           1.74         2   \n",
       "\n",
       "     Open    High     Low  Close flag    Volume  \n",
       "0  173.67  175.65  173.54  175.5    s  33812300  "
      ]
     },
     "execution_count": 44,
     "metadata": {},
     "output_type": "execute_result"
    }
   ],
   "source": [
    "get_ondemand_quote([\"AAPL\"])"
   ]
  },
  {
   "cell_type": "code",
   "execution_count": null,
   "metadata": {
    "collapsed": true
   },
   "outputs": [],
   "source": []
  }
 ],
 "metadata": {
  "kernelspec": {
   "display_name": "Python 2",
   "language": "python",
   "name": "python2"
  },
  "language_info": {
   "codemirror_mode": {
    "name": "ipython",
    "version": 2
   },
   "file_extension": ".py",
   "mimetype": "text/x-python",
   "name": "python",
   "nbconvert_exporter": "python",
   "pygments_lexer": "ipython2",
   "version": "2.7.13"
  }
 },
 "nbformat": 4,
 "nbformat_minor": 2
}
